{
 "cells": [
  {
   "attachments": {},
   "cell_type": "markdown",
   "metadata": {},
   "source": [
    "# Model Serialization"
   ]
  },
  {
   "cell_type": "code",
   "execution_count": null,
   "metadata": {},
   "outputs": [],
   "source": [
    "from brainprint.dl.load import read_dataset\n",
    "from brainprint.dl.hyperxception import run_hyper_xception"
   ]
  },
  {
   "cell_type": "code",
   "execution_count": null,
   "metadata": {},
   "outputs": [],
   "source": [
    "train, test = read_dataset(target=\"personality\")"
   ]
  },
  {
   "cell_type": "code",
   "execution_count": null,
   "metadata": {},
   "outputs": [
    {
     "name": "stdout",
     "output_type": "stream",
     "text": [
      "[2023-01-23 18:18:39,659] Reloading Oracle from existing project /home/zvi/Projects/lab/HyperXception/Personality/oracle.json\n",
      "[2023-01-23 18:18:40,404] Reloading Tuner from /home/zvi/Projects/lab/HyperXception/Personality/tuner0.json\n"
     ]
    }
   ],
   "source": [
    "tuner = run_hyper_xception(\n",
    "    target=\"personality\", \n",
    "    executions_per_trial=2, \n",
    "    factor=3, \n",
    "    hyperband_iterations=2, \n",
    "    seed=0, \n",
    "    directory=\"/home/zvi/Projects/lab/HyperXception/\",\n",
    "    run=False,\n",
    ")    "
   ]
  },
  {
   "cell_type": "code",
   "execution_count": null,
   "metadata": {},
   "outputs": [],
   "source": [
    "best_hps = tuner.get_best_hyperparameters(num_trials=1)[0]"
   ]
  },
  {
   "cell_type": "code",
   "execution_count": null,
   "metadata": {},
   "outputs": [
    {
     "name": "stdout",
     "output_type": "stream",
     "text": [
      "Epoch 1/50\n"
     ]
    },
    {
     "name": "stderr",
     "output_type": "stream",
     "text": [
      "2023-01-23 18:21:52.546130: I tensorflow/core/kernels/data/shuffle_dataset_op.cc:390] Filling up shuffle buffer (this may take a while): 329 of 1000\n",
      "2023-01-23 18:22:02.551711: I tensorflow/core/kernels/data/shuffle_dataset_op.cc:390] Filling up shuffle buffer (this may take a while): 650 of 1000\n",
      "2023-01-23 18:22:10.043353: I tensorflow/core/kernels/data/shuffle_dataset_op.cc:415] Shuffle buffer filled.\n"
     ]
    },
    {
     "name": "stdout",
     "output_type": "stream",
     "text": [
      "113/113 [==============================] - 53s 215ms/step - loss: 5.9799 - mae: 1.9620 - mse: 5.9799 - r_square: -15.6308 - val_loss: 10.3240 - val_mae: 3.1367 - val_mse: 10.3240 - val_r_square: -30.9287\n",
      "Epoch 2/50\n"
     ]
    },
    {
     "name": "stderr",
     "output_type": "stream",
     "text": [
      "2023-01-23 18:22:44.827592: I tensorflow/core/kernels/data/shuffle_dataset_op.cc:390] Filling up shuffle buffer (this may take a while): 324 of 1000\n",
      "2023-01-23 18:22:54.830223: I tensorflow/core/kernels/data/shuffle_dataset_op.cc:390] Filling up shuffle buffer (this may take a while): 643 of 1000\n"
     ]
    },
    {
     "name": "stdout",
     "output_type": "stream",
     "text": [
      "  1/113 [..............................] - ETA: 51:02 - loss: 0.9149 - mae: 0.7817 - mse: 0.9149 - r_square: -3.5308"
     ]
    },
    {
     "name": "stderr",
     "output_type": "stream",
     "text": [
      "2023-01-23 18:23:02.021986: I tensorflow/core/kernels/data/shuffle_dataset_op.cc:415] Shuffle buffer filled.\n"
     ]
    },
    {
     "name": "stdout",
     "output_type": "stream",
     "text": [
      "113/113 [==============================] - 42s 127ms/step - loss: 0.4606 - mae: 0.5360 - mse: 0.4606 - r_square: -0.1820 - val_loss: 9.0366 - val_mae: 2.9291 - val_mse: 9.0366 - val_r_square: -26.8408\n",
      "Epoch 3/50\n"
     ]
    },
    {
     "name": "stderr",
     "output_type": "stream",
     "text": [
      "2023-01-23 18:23:26.512802: I tensorflow/core/kernels/data/shuffle_dataset_op.cc:390] Filling up shuffle buffer (this may take a while): 373 of 1000\n",
      "2023-01-23 18:23:36.494968: I tensorflow/core/kernels/data/shuffle_dataset_op.cc:390] Filling up shuffle buffer (this may take a while): 749 of 1000\n"
     ]
    },
    {
     "name": "stdout",
     "output_type": "stream",
     "text": [
      "  1/113 [..............................] - ETA: 45:26 - loss: 0.6254 - mae: 0.5939 - mse: 0.6254 - r_square: -0.3206"
     ]
    },
    {
     "name": "stderr",
     "output_type": "stream",
     "text": [
      "2023-01-23 18:23:40.684506: I tensorflow/core/kernels/data/shuffle_dataset_op.cc:415] Shuffle buffer filled.\n"
     ]
    },
    {
     "name": "stdout",
     "output_type": "stream",
     "text": [
      "113/113 [==============================] - 38s 126ms/step - loss: 0.3993 - mae: 0.5024 - mse: 0.3993 - r_square: -0.0113 - val_loss: 7.6865 - val_mae: 2.6938 - val_mse: 7.6865 - val_r_square: -22.5622\n",
      "Epoch 4/50\n"
     ]
    },
    {
     "name": "stderr",
     "output_type": "stream",
     "text": [
      "2023-01-23 18:24:05.106455: I tensorflow/core/kernels/data/shuffle_dataset_op.cc:390] Filling up shuffle buffer (this may take a while): 320 of 1000\n",
      "2023-01-23 18:24:15.143775: I tensorflow/core/kernels/data/shuffle_dataset_op.cc:390] Filling up shuffle buffer (this may take a while): 631 of 1000\n"
     ]
    },
    {
     "name": "stdout",
     "output_type": "stream",
     "text": [
      "  1/113 [..............................] - ETA: 54:17 - loss: 0.3923 - mae: 0.4685 - mse: 0.3923 - r_square: -0.0981"
     ]
    },
    {
     "name": "stderr",
     "output_type": "stream",
     "text": [
      "2023-01-23 18:24:24.048248: I tensorflow/core/kernels/data/shuffle_dataset_op.cc:415] Shuffle buffer filled.\n"
     ]
    },
    {
     "name": "stdout",
     "output_type": "stream",
     "text": [
      "113/113 [==============================] - 43s 126ms/step - loss: 0.3992 - mae: 0.5024 - mse: 0.3992 - r_square: -0.0119 - val_loss: 5.8188 - val_mae: 2.3264 - val_mse: 5.8188 - val_r_square: -16.6691\n",
      "Epoch 5/50\n"
     ]
    },
    {
     "name": "stderr",
     "output_type": "stream",
     "text": [
      "2023-01-23 18:24:48.507856: I tensorflow/core/kernels/data/shuffle_dataset_op.cc:390] Filling up shuffle buffer (this may take a while): 335 of 1000\n",
      "2023-01-23 18:24:58.505605: I tensorflow/core/kernels/data/shuffle_dataset_op.cc:390] Filling up shuffle buffer (this may take a while): 664 of 1000\n"
     ]
    },
    {
     "name": "stdout",
     "output_type": "stream",
     "text": [
      "  1/113 [..............................] - ETA: 50:21 - loss: 0.4014 - mae: 0.4866 - mse: 0.4014 - r_square: -0.1216"
     ]
    },
    {
     "name": "stderr",
     "output_type": "stream",
     "text": [
      "2023-01-23 18:25:05.338932: I tensorflow/core/kernels/data/shuffle_dataset_op.cc:415] Shuffle buffer filled.\n"
     ]
    },
    {
     "name": "stdout",
     "output_type": "stream",
     "text": [
      "113/113 [==============================] - 41s 126ms/step - loss: 0.3967 - mae: 0.5003 - mse: 0.3967 - r_square: -0.0029 - val_loss: 3.3653 - val_mae: 1.7241 - val_mse: 3.3653 - val_r_square: -9.0210\n",
      "Epoch 6/50\n"
     ]
    },
    {
     "name": "stderr",
     "output_type": "stream",
     "text": [
      "2023-01-23 18:25:29.601399: I tensorflow/core/kernels/data/shuffle_dataset_op.cc:390] Filling up shuffle buffer (this may take a while): 314 of 1000\n",
      "2023-01-23 18:25:39.604533: I tensorflow/core/kernels/data/shuffle_dataset_op.cc:390] Filling up shuffle buffer (this may take a while): 669 of 1000\n"
     ]
    },
    {
     "name": "stdout",
     "output_type": "stream",
     "text": [
      "  1/113 [..............................] - ETA: 49:28 - loss: 0.5816 - mae: 0.6357 - mse: 0.5816 - r_square: -0.3456"
     ]
    },
    {
     "name": "stderr",
     "output_type": "stream",
     "text": [
      "2023-01-23 18:25:45.954633: I tensorflow/core/kernels/data/shuffle_dataset_op.cc:415] Shuffle buffer filled.\n"
     ]
    },
    {
     "name": "stdout",
     "output_type": "stream",
     "text": [
      "113/113 [==============================] - 40s 124ms/step - loss: 0.3940 - mae: 0.4989 - mse: 0.3940 - r_square: 0.0024 - val_loss: 1.2931 - val_mae: 0.9967 - val_mse: 1.2931 - val_r_square: -2.8284\n",
      "Epoch 7/50\n"
     ]
    },
    {
     "name": "stderr",
     "output_type": "stream",
     "text": [
      "2023-01-23 18:26:10.047239: I tensorflow/core/kernels/data/shuffle_dataset_op.cc:390] Filling up shuffle buffer (this may take a while): 326 of 1000\n",
      "2023-01-23 18:26:20.036578: I tensorflow/core/kernels/data/shuffle_dataset_op.cc:390] Filling up shuffle buffer (this may take a while): 660 of 1000\n"
     ]
    },
    {
     "name": "stdout",
     "output_type": "stream",
     "text": [
      "  1/113 [..............................] - ETA: 49:41 - loss: 0.3475 - mae: 0.4809 - mse: 0.3475 - r_square: -0.1639"
     ]
    },
    {
     "name": "stderr",
     "output_type": "stream",
     "text": [
      "2023-01-23 18:26:26.508238: I tensorflow/core/kernels/data/shuffle_dataset_op.cc:415] Shuffle buffer filled.\n"
     ]
    },
    {
     "name": "stdout",
     "output_type": "stream",
     "text": [
      "113/113 [==============================] - 41s 126ms/step - loss: 0.3909 - mae: 0.4975 - mse: 0.3909 - r_square: 0.0093 - val_loss: 0.4815 - val_mae: 0.5565 - val_mse: 0.4815 - val_r_square: -0.3721\n",
      "Epoch 8/50\n"
     ]
    },
    {
     "name": "stderr",
     "output_type": "stream",
     "text": [
      "2023-01-23 18:26:50.840377: I tensorflow/core/kernels/data/shuffle_dataset_op.cc:390] Filling up shuffle buffer (this may take a while): 334 of 1000\n",
      "2023-01-23 18:27:00.851843: I tensorflow/core/kernels/data/shuffle_dataset_op.cc:390] Filling up shuffle buffer (this may take a while): 648 of 1000\n"
     ]
    },
    {
     "name": "stdout",
     "output_type": "stream",
     "text": [
      "  1/113 [..............................] - ETA: 52:10 - loss: 0.4556 - mae: 0.5669 - mse: 0.4556 - r_square: -0.1532"
     ]
    },
    {
     "name": "stderr",
     "output_type": "stream",
     "text": [
      "2023-01-23 18:27:08.662585: I tensorflow/core/kernels/data/shuffle_dataset_op.cc:415] Shuffle buffer filled.\n"
     ]
    },
    {
     "name": "stdout",
     "output_type": "stream",
     "text": [
      "113/113 [==============================] - 42s 126ms/step - loss: 0.3901 - mae: 0.4960 - mse: 0.3901 - r_square: 0.0111 - val_loss: 0.4018 - val_mae: 0.5023 - val_mse: 0.4018 - val_r_square: -0.1601\n",
      "Epoch 9/50\n"
     ]
    },
    {
     "name": "stderr",
     "output_type": "stream",
     "text": [
      "2023-01-23 18:27:32.954566: I tensorflow/core/kernels/data/shuffle_dataset_op.cc:390] Filling up shuffle buffer (this may take a while): 337 of 1000\n",
      "2023-01-23 18:27:42.948871: I tensorflow/core/kernels/data/shuffle_dataset_op.cc:390] Filling up shuffle buffer (this may take a while): 694 of 1000\n"
     ]
    },
    {
     "name": "stdout",
     "output_type": "stream",
     "text": [
      "  1/113 [..............................] - ETA: 49:13 - loss: 0.2008 - mae: 0.3607 - mse: 0.2008 - r_square: -0.0587"
     ]
    },
    {
     "name": "stderr",
     "output_type": "stream",
     "text": [
      "2023-01-23 18:27:49.170245: I tensorflow/core/kernels/data/shuffle_dataset_op.cc:415] Shuffle buffer filled.\n"
     ]
    },
    {
     "name": "stdout",
     "output_type": "stream",
     "text": [
      "113/113 [==============================] - 41s 126ms/step - loss: 0.3885 - mae: 0.4956 - mse: 0.3885 - r_square: 0.0161 - val_loss: 0.3798 - val_mae: 0.4812 - val_mse: 0.3798 - val_r_square: -0.0703\n",
      "Epoch 10/50\n"
     ]
    },
    {
     "name": "stderr",
     "output_type": "stream",
     "text": [
      "2023-01-23 18:28:13.491601: I tensorflow/core/kernels/data/shuffle_dataset_op.cc:390] Filling up shuffle buffer (this may take a while): 335 of 1000\n",
      "2023-01-23 18:28:23.486994: I tensorflow/core/kernels/data/shuffle_dataset_op.cc:390] Filling up shuffle buffer (this may take a while): 698 of 1000\n"
     ]
    },
    {
     "name": "stdout",
     "output_type": "stream",
     "text": [
      "  1/113 [..............................] - ETA: 48:09 - loss: 0.4191 - mae: 0.5561 - mse: 0.4191 - r_square: -0.0775"
     ]
    },
    {
     "name": "stderr",
     "output_type": "stream",
     "text": [
      "2023-01-23 18:28:29.125372: I tensorflow/core/kernels/data/shuffle_dataset_op.cc:415] Shuffle buffer filled.\n"
     ]
    },
    {
     "name": "stdout",
     "output_type": "stream",
     "text": [
      "113/113 [==============================] - 40s 126ms/step - loss: 0.3878 - mae: 0.4943 - mse: 0.3878 - r_square: 0.0163 - val_loss: 0.3746 - val_mae: 0.4781 - val_mse: 0.3746 - val_r_square: -0.0738\n",
      "Epoch 11/50\n"
     ]
    },
    {
     "name": "stderr",
     "output_type": "stream",
     "text": [
      "2023-01-23 18:28:53.542375: I tensorflow/core/kernels/data/shuffle_dataset_op.cc:390] Filling up shuffle buffer (this may take a while): 343 of 1000\n",
      "2023-01-23 18:29:03.528966: I tensorflow/core/kernels/data/shuffle_dataset_op.cc:390] Filling up shuffle buffer (this may take a while): 707 of 1000\n"
     ]
    },
    {
     "name": "stdout",
     "output_type": "stream",
     "text": [
      "  1/113 [..............................] - ETA: 47:49 - loss: 0.3092 - mae: 0.4477 - mse: 0.3092 - r_square: -0.0733"
     ]
    },
    {
     "name": "stderr",
     "output_type": "stream",
     "text": [
      "2023-01-23 18:29:09.012723: I tensorflow/core/kernels/data/shuffle_dataset_op.cc:415] Shuffle buffer filled.\n"
     ]
    },
    {
     "name": "stdout",
     "output_type": "stream",
     "text": [
      "113/113 [==============================] - 40s 125ms/step - loss: 0.3834 - mae: 0.4905 - mse: 0.3834 - r_square: 0.0276 - val_loss: 0.3704 - val_mae: 0.4710 - val_mse: 0.3704 - val_r_square: -0.0436\n",
      "Epoch 12/50\n"
     ]
    },
    {
     "name": "stderr",
     "output_type": "stream",
     "text": [
      "2023-01-23 18:29:33.210381: I tensorflow/core/kernels/data/shuffle_dataset_op.cc:390] Filling up shuffle buffer (this may take a while): 338 of 1000\n",
      "2023-01-23 18:29:43.218778: I tensorflow/core/kernels/data/shuffle_dataset_op.cc:390] Filling up shuffle buffer (this may take a while): 670 of 1000\n"
     ]
    },
    {
     "name": "stdout",
     "output_type": "stream",
     "text": [
      "  1/113 [..............................] - ETA: 50:16 - loss: 0.2495 - mae: 0.4142 - mse: 0.2495 - r_square: -0.0841"
     ]
    },
    {
     "name": "stderr",
     "output_type": "stream",
     "text": [
      "2023-01-23 18:29:50.009262: I tensorflow/core/kernels/data/shuffle_dataset_op.cc:415] Shuffle buffer filled.\n"
     ]
    },
    {
     "name": "stdout",
     "output_type": "stream",
     "text": [
      "113/113 [==============================] - 41s 125ms/step - loss: 0.3822 - mae: 0.4908 - mse: 0.3822 - r_square: 0.0307 - val_loss: 0.3720 - val_mae: 0.4727 - val_mse: 0.3720 - val_r_square: -0.0517\n",
      "Epoch 13/50\n"
     ]
    },
    {
     "name": "stderr",
     "output_type": "stream",
     "text": [
      "2023-01-23 18:30:14.334982: I tensorflow/core/kernels/data/shuffle_dataset_op.cc:390] Filling up shuffle buffer (this may take a while): 354 of 1000\n",
      "2023-01-23 18:30:24.319824: I tensorflow/core/kernels/data/shuffle_dataset_op.cc:390] Filling up shuffle buffer (this may take a while): 683 of 1000\n"
     ]
    },
    {
     "name": "stdout",
     "output_type": "stream",
     "text": [
      "  1/113 [..............................] - ETA: 49:00 - loss: 0.3869 - mae: 0.4985 - mse: 0.3869 - r_square: -0.2196"
     ]
    },
    {
     "name": "stderr",
     "output_type": "stream",
     "text": [
      "2023-01-23 18:30:30.435029: I tensorflow/core/kernels/data/shuffle_dataset_op.cc:415] Shuffle buffer filled.\n"
     ]
    },
    {
     "name": "stdout",
     "output_type": "stream",
     "text": [
      "113/113 [==============================] - 40s 126ms/step - loss: 0.3778 - mae: 0.4876 - mse: 0.3778 - r_square: 0.0420 - val_loss: 0.3679 - val_mae: 0.4708 - val_mse: 0.3679 - val_r_square: -0.0489\n",
      "Epoch 14/50\n"
     ]
    },
    {
     "name": "stderr",
     "output_type": "stream",
     "text": [
      "2023-01-23 18:30:54.742494: I tensorflow/core/kernels/data/shuffle_dataset_op.cc:390] Filling up shuffle buffer (this may take a while): 352 of 1000\n",
      "2023-01-23 18:31:04.767147: I tensorflow/core/kernels/data/shuffle_dataset_op.cc:390] Filling up shuffle buffer (this may take a while): 680 of 1000\n"
     ]
    },
    {
     "name": "stdout",
     "output_type": "stream",
     "text": [
      "  1/113 [..............................] - ETA: 50:37 - loss: 0.4172 - mae: 0.5294 - mse: 0.4172 - r_square: -0.1513"
     ]
    },
    {
     "name": "stderr",
     "output_type": "stream",
     "text": [
      "2023-01-23 18:31:11.719228: I tensorflow/core/kernels/data/shuffle_dataset_op.cc:415] Shuffle buffer filled.\n"
     ]
    },
    {
     "name": "stdout",
     "output_type": "stream",
     "text": [
      "113/113 [==============================] - 41s 126ms/step - loss: 0.3800 - mae: 0.4901 - mse: 0.3800 - r_square: 0.0374 - val_loss: 0.3702 - val_mae: 0.4721 - val_mse: 0.3702 - val_r_square: -0.0508\n",
      "Epoch 15/50\n"
     ]
    },
    {
     "name": "stderr",
     "output_type": "stream",
     "text": [
      "2023-01-23 18:31:35.987420: I tensorflow/core/kernels/data/shuffle_dataset_op.cc:390] Filling up shuffle buffer (this may take a while): 337 of 1000\n",
      "2023-01-23 18:31:46.003270: I tensorflow/core/kernels/data/shuffle_dataset_op.cc:390] Filling up shuffle buffer (this may take a while): 681 of 1000\n"
     ]
    },
    {
     "name": "stdout",
     "output_type": "stream",
     "text": [
      "  1/113 [..............................] - ETA: 50:22 - loss: 0.5466 - mae: 0.5851 - mse: 0.5466 - r_square: -0.1037"
     ]
    },
    {
     "name": "stderr",
     "output_type": "stream",
     "text": [
      "2023-01-23 18:31:52.840173: I tensorflow/core/kernels/data/shuffle_dataset_op.cc:415] Shuffle buffer filled.\n"
     ]
    },
    {
     "name": "stdout",
     "output_type": "stream",
     "text": [
      "113/113 [==============================] - 41s 126ms/step - loss: 0.3763 - mae: 0.4867 - mse: 0.3763 - r_square: 0.0464 - val_loss: 0.3610 - val_mae: 0.4668 - val_mse: 0.3610 - val_r_square: -0.0255\n",
      "Epoch 16/50\n"
     ]
    },
    {
     "name": "stderr",
     "output_type": "stream",
     "text": [
      "2023-01-23 18:32:17.183246: I tensorflow/core/kernels/data/shuffle_dataset_op.cc:390] Filling up shuffle buffer (this may take a while): 351 of 1000\n",
      "2023-01-23 18:32:27.210652: I tensorflow/core/kernels/data/shuffle_dataset_op.cc:390] Filling up shuffle buffer (this may take a while): 670 of 1000\n"
     ]
    },
    {
     "name": "stdout",
     "output_type": "stream",
     "text": [
      "  1/113 [..............................] - ETA: 49:19 - loss: 0.2560 - mae: 0.3830 - mse: 0.2560 - r_square: -0.0677"
     ]
    },
    {
     "name": "stderr",
     "output_type": "stream",
     "text": [
      "2023-01-23 18:32:33.452129: I tensorflow/core/kernels/data/shuffle_dataset_op.cc:415] Shuffle buffer filled.\n"
     ]
    },
    {
     "name": "stdout",
     "output_type": "stream",
     "text": [
      "113/113 [==============================] - 41s 126ms/step - loss: 0.3717 - mae: 0.4834 - mse: 0.3717 - r_square: 0.0558 - val_loss: 0.3654 - val_mae: 0.4687 - val_mse: 0.3654 - val_r_square: -0.0383\n",
      "Epoch 17/50\n"
     ]
    },
    {
     "name": "stderr",
     "output_type": "stream",
     "text": [
      "2023-01-23 18:32:57.818286: I tensorflow/core/kernels/data/shuffle_dataset_op.cc:390] Filling up shuffle buffer (this may take a while): 340 of 1000\n",
      "2023-01-23 18:33:07.806064: I tensorflow/core/kernels/data/shuffle_dataset_op.cc:390] Filling up shuffle buffer (this may take a while): 683 of 1000\n"
     ]
    },
    {
     "name": "stdout",
     "output_type": "stream",
     "text": [
      "  1/113 [..............................] - ETA: 50:09 - loss: 0.3054 - mae: 0.4599 - mse: 0.3054 - r_square: -0.0270"
     ]
    },
    {
     "name": "stderr",
     "output_type": "stream",
     "text": [
      "2023-01-23 18:33:14.532867: I tensorflow/core/kernels/data/shuffle_dataset_op.cc:415] Shuffle buffer filled.\n"
     ]
    },
    {
     "name": "stdout",
     "output_type": "stream",
     "text": [
      "113/113 [==============================] - 41s 127ms/step - loss: 0.3719 - mae: 0.4844 - mse: 0.3719 - r_square: 0.0578 - val_loss: 0.3660 - val_mae: 0.4703 - val_mse: 0.3660 - val_r_square: -0.0355\n",
      "Epoch 18/50\n"
     ]
    },
    {
     "name": "stderr",
     "output_type": "stream",
     "text": [
      "2023-01-23 18:33:38.937556: I tensorflow/core/kernels/data/shuffle_dataset_op.cc:390] Filling up shuffle buffer (this may take a while): 330 of 1000\n",
      "2023-01-23 18:33:48.929148: I tensorflow/core/kernels/data/shuffle_dataset_op.cc:390] Filling up shuffle buffer (this may take a while): 668 of 1000\n"
     ]
    },
    {
     "name": "stdout",
     "output_type": "stream",
     "text": [
      "  1/113 [..............................] - ETA: 49:59 - loss: 0.3790 - mae: 0.4848 - mse: 0.3790 - r_square: -0.4795"
     ]
    },
    {
     "name": "stderr",
     "output_type": "stream",
     "text": [
      "2023-01-23 18:33:55.566876: I tensorflow/core/kernels/data/shuffle_dataset_op.cc:415] Shuffle buffer filled.\n"
     ]
    },
    {
     "name": "stdout",
     "output_type": "stream",
     "text": [
      "113/113 [==============================] - 41s 125ms/step - loss: 0.3701 - mae: 0.4835 - mse: 0.3701 - r_square: 0.0597 - val_loss: 0.3638 - val_mae: 0.4693 - val_mse: 0.3638 - val_r_square: -0.0358\n",
      "Epoch 19/50\n"
     ]
    },
    {
     "name": "stderr",
     "output_type": "stream",
     "text": [
      "2023-01-23 18:34:19.857469: I tensorflow/core/kernels/data/shuffle_dataset_op.cc:390] Filling up shuffle buffer (this may take a while): 356 of 1000\n",
      "2023-01-23 18:34:29.862621: I tensorflow/core/kernels/data/shuffle_dataset_op.cc:390] Filling up shuffle buffer (this may take a while): 699 of 1000\n"
     ]
    },
    {
     "name": "stdout",
     "output_type": "stream",
     "text": [
      "  1/113 [..............................] - ETA: 48:33 - loss: 0.4471 - mae: 0.5073 - mse: 0.4471 - r_square: -0.2484"
     ]
    },
    {
     "name": "stderr",
     "output_type": "stream",
     "text": [
      "2023-01-23 18:34:35.731203: I tensorflow/core/kernels/data/shuffle_dataset_op.cc:415] Shuffle buffer filled.\n"
     ]
    },
    {
     "name": "stdout",
     "output_type": "stream",
     "text": [
      "113/113 [==============================] - 40s 125ms/step - loss: 0.3714 - mae: 0.4838 - mse: 0.3714 - r_square: 0.0620 - val_loss: 0.3648 - val_mae: 0.4684 - val_mse: 0.3648 - val_r_square: -0.0401\n",
      "Epoch 20/50\n"
     ]
    },
    {
     "name": "stderr",
     "output_type": "stream",
     "text": [
      "2023-01-23 18:35:00.066765: I tensorflow/core/kernels/data/shuffle_dataset_op.cc:390] Filling up shuffle buffer (this may take a while): 337 of 1000\n",
      "2023-01-23 18:35:10.079724: I tensorflow/core/kernels/data/shuffle_dataset_op.cc:390] Filling up shuffle buffer (this may take a while): 644 of 1000\n"
     ]
    },
    {
     "name": "stdout",
     "output_type": "stream",
     "text": [
      "  1/113 [..............................] - ETA: 51:04 - loss: 0.4837 - mae: 0.5724 - mse: 0.4837 - r_square: -0.1030"
     ]
    },
    {
     "name": "stderr",
     "output_type": "stream",
     "text": [
      "2023-01-23 18:35:17.304759: I tensorflow/core/kernels/data/shuffle_dataset_op.cc:415] Shuffle buffer filled.\n"
     ]
    },
    {
     "name": "stdout",
     "output_type": "stream",
     "text": [
      "113/113 [==============================] - 41s 125ms/step - loss: 0.3662 - mae: 0.4807 - mse: 0.3662 - r_square: 0.0703 - val_loss: 0.3630 - val_mae: 0.4656 - val_mse: 0.3630 - val_r_square: -0.0344\n",
      "Epoch 21/50\n"
     ]
    },
    {
     "name": "stderr",
     "output_type": "stream",
     "text": [
      "2023-01-23 18:35:41.537500: I tensorflow/core/kernels/data/shuffle_dataset_op.cc:390] Filling up shuffle buffer (this may take a while): 337 of 1000\n",
      "2023-01-23 18:35:51.525922: I tensorflow/core/kernels/data/shuffle_dataset_op.cc:390] Filling up shuffle buffer (this may take a while): 661 of 1000\n"
     ]
    },
    {
     "name": "stdout",
     "output_type": "stream",
     "text": [
      "  1/113 [..............................] - ETA: 50:09 - loss: 0.2523 - mae: 0.3815 - mse: 0.2523 - r_square: -0.3146"
     ]
    },
    {
     "name": "stderr",
     "output_type": "stream",
     "text": [
      "2023-01-23 18:35:58.253648: I tensorflow/core/kernels/data/shuffle_dataset_op.cc:415] Shuffle buffer filled.\n"
     ]
    },
    {
     "name": "stdout",
     "output_type": "stream",
     "text": [
      "113/113 [==============================] - 41s 126ms/step - loss: 0.3638 - mae: 0.4787 - mse: 0.3638 - r_square: 0.0756 - val_loss: 0.3649 - val_mae: 0.4679 - val_mse: 0.3649 - val_r_square: -0.0334\n",
      "Epoch 22/50\n"
     ]
    },
    {
     "name": "stderr",
     "output_type": "stream",
     "text": [
      "2023-01-23 18:36:22.553546: I tensorflow/core/kernels/data/shuffle_dataset_op.cc:390] Filling up shuffle buffer (this may take a while): 342 of 1000\n",
      "2023-01-23 18:36:32.572164: I tensorflow/core/kernels/data/shuffle_dataset_op.cc:390] Filling up shuffle buffer (this may take a while): 652 of 1000\n"
     ]
    },
    {
     "name": "stdout",
     "output_type": "stream",
     "text": [
      "  1/113 [..............................] - ETA: 52:17 - loss: 0.4249 - mae: 0.4889 - mse: 0.4249 - r_square: -0.0962"
     ]
    },
    {
     "name": "stderr",
     "output_type": "stream",
     "text": [
      "2023-01-23 18:36:40.431617: I tensorflow/core/kernels/data/shuffle_dataset_op.cc:415] Shuffle buffer filled.\n"
     ]
    },
    {
     "name": "stdout",
     "output_type": "stream",
     "text": [
      "113/113 [==============================] - 42s 126ms/step - loss: 0.3602 - mae: 0.4767 - mse: 0.3602 - r_square: 0.0876 - val_loss: 0.3608 - val_mae: 0.4657 - val_mse: 0.3608 - val_r_square: -0.0291\n",
      "Epoch 23/50\n"
     ]
    },
    {
     "name": "stderr",
     "output_type": "stream",
     "text": [
      "2023-01-23 18:37:04.756944: I tensorflow/core/kernels/data/shuffle_dataset_op.cc:390] Filling up shuffle buffer (this may take a while): 305 of 1000\n",
      "2023-01-23 18:37:14.754708: I tensorflow/core/kernels/data/shuffle_dataset_op.cc:390] Filling up shuffle buffer (this may take a while): 640 of 1000\n"
     ]
    },
    {
     "name": "stdout",
     "output_type": "stream",
     "text": [
      "  1/113 [..............................] - ETA: 52:29 - loss: 0.3621 - mae: 0.4885 - mse: 0.3621 - r_square: 0.0161"
     ]
    },
    {
     "name": "stderr",
     "output_type": "stream",
     "text": [
      "2023-01-23 18:37:22.739731: I tensorflow/core/kernels/data/shuffle_dataset_op.cc:415] Shuffle buffer filled.\n"
     ]
    },
    {
     "name": "stdout",
     "output_type": "stream",
     "text": [
      "113/113 [==============================] - 42s 126ms/step - loss: 0.3568 - mae: 0.4735 - mse: 0.3568 - r_square: 0.0960 - val_loss: 0.3707 - val_mae: 0.4719 - val_mse: 0.3707 - val_r_square: -0.0505\n",
      "Epoch 24/50\n"
     ]
    },
    {
     "name": "stderr",
     "output_type": "stream",
     "text": [
      "2023-01-23 18:37:47.036544: I tensorflow/core/kernels/data/shuffle_dataset_op.cc:390] Filling up shuffle buffer (this may take a while): 325 of 1000\n",
      "2023-01-23 18:37:57.044479: I tensorflow/core/kernels/data/shuffle_dataset_op.cc:390] Filling up shuffle buffer (this may take a while): 658 of 1000\n"
     ]
    },
    {
     "name": "stdout",
     "output_type": "stream",
     "text": [
      "  1/113 [..............................] - ETA: 50:33 - loss: 0.3334 - mae: 0.4619 - mse: 0.3334 - r_square: 0.0109"
     ]
    },
    {
     "name": "stderr",
     "output_type": "stream",
     "text": [
      "2023-01-23 18:38:03.985302: I tensorflow/core/kernels/data/shuffle_dataset_op.cc:415] Shuffle buffer filled.\n"
     ]
    },
    {
     "name": "stdout",
     "output_type": "stream",
     "text": [
      "113/113 [==============================] - 41s 125ms/step - loss: 0.3553 - mae: 0.4729 - mse: 0.3553 - r_square: 0.0975 - val_loss: 0.3777 - val_mae: 0.4797 - val_mse: 0.3777 - val_r_square: -0.0747\n",
      "Epoch 25/50\n"
     ]
    },
    {
     "name": "stderr",
     "output_type": "stream",
     "text": [
      "2023-01-23 18:38:28.195753: I tensorflow/core/kernels/data/shuffle_dataset_op.cc:390] Filling up shuffle buffer (this may take a while): 338 of 1000\n",
      "2023-01-23 18:38:38.236450: I tensorflow/core/kernels/data/shuffle_dataset_op.cc:390] Filling up shuffle buffer (this may take a while): 665 of 1000\n"
     ]
    },
    {
     "name": "stdout",
     "output_type": "stream",
     "text": [
      "  1/113 [..............................] - ETA: 50:43 - loss: 0.3779 - mae: 0.4809 - mse: 0.3779 - r_square: -0.1384"
     ]
    },
    {
     "name": "stderr",
     "output_type": "stream",
     "text": [
      "2023-01-23 18:38:45.237452: I tensorflow/core/kernels/data/shuffle_dataset_op.cc:415] Shuffle buffer filled.\n"
     ]
    },
    {
     "name": "stdout",
     "output_type": "stream",
     "text": [
      "113/113 [==============================] - 41s 128ms/step - loss: 0.3532 - mae: 0.4723 - mse: 0.3532 - r_square: 0.1011 - val_loss: 0.4176 - val_mae: 0.5070 - val_mse: 0.4176 - val_r_square: -0.1948\n",
      "Epoch 26/50\n"
     ]
    },
    {
     "name": "stderr",
     "output_type": "stream",
     "text": [
      "2023-01-23 18:39:09.764251: I tensorflow/core/kernels/data/shuffle_dataset_op.cc:390] Filling up shuffle buffer (this may take a while): 345 of 1000\n",
      "2023-01-23 18:39:19.770212: I tensorflow/core/kernels/data/shuffle_dataset_op.cc:390] Filling up shuffle buffer (this may take a while): 706 of 1000\n"
     ]
    },
    {
     "name": "stdout",
     "output_type": "stream",
     "text": [
      "  1/113 [..............................] - ETA: 47:16 - loss: 0.2100 - mae: 0.3728 - mse: 0.2100 - r_square: 0.0475"
     ]
    },
    {
     "name": "stderr",
     "output_type": "stream",
     "text": [
      "2023-01-23 18:39:24.945195: I tensorflow/core/kernels/data/shuffle_dataset_op.cc:415] Shuffle buffer filled.\n"
     ]
    },
    {
     "name": "stdout",
     "output_type": "stream",
     "text": [
      "113/113 [==============================] - 40s 127ms/step - loss: 0.3521 - mae: 0.4717 - mse: 0.3521 - r_square: 0.1049 - val_loss: 0.3628 - val_mae: 0.4678 - val_mse: 0.3628 - val_r_square: -0.0318\n",
      "Epoch 27/50\n"
     ]
    },
    {
     "name": "stderr",
     "output_type": "stream",
     "text": [
      "2023-01-23 18:39:49.335122: I tensorflow/core/kernels/data/shuffle_dataset_op.cc:390] Filling up shuffle buffer (this may take a while): 298 of 1000\n",
      "2023-01-23 18:39:59.303566: I tensorflow/core/kernels/data/shuffle_dataset_op.cc:390] Filling up shuffle buffer (this may take a while): 628 of 1000\n"
     ]
    },
    {
     "name": "stdout",
     "output_type": "stream",
     "text": [
      "  1/113 [..............................] - ETA: 52:25 - loss: 0.3135 - mae: 0.4517 - mse: 0.3135 - r_square: -0.0790"
     ]
    },
    {
     "name": "stderr",
     "output_type": "stream",
     "text": [
      "2023-01-23 18:40:07.256727: I tensorflow/core/kernels/data/shuffle_dataset_op.cc:415] Shuffle buffer filled.\n"
     ]
    },
    {
     "name": "stdout",
     "output_type": "stream",
     "text": [
      "113/113 [==============================] - 42s 126ms/step - loss: 0.3486 - mae: 0.4681 - mse: 0.3486 - r_square: 0.1141 - val_loss: 0.3674 - val_mae: 0.4715 - val_mse: 0.3674 - val_r_square: -0.0419\n",
      "Epoch 28/50\n"
     ]
    },
    {
     "name": "stderr",
     "output_type": "stream",
     "text": [
      "2023-01-23 18:40:31.552713: I tensorflow/core/kernels/data/shuffle_dataset_op.cc:390] Filling up shuffle buffer (this may take a while): 349 of 1000\n",
      "2023-01-23 18:40:41.588629: I tensorflow/core/kernels/data/shuffle_dataset_op.cc:390] Filling up shuffle buffer (this may take a while): 713 of 1000\n"
     ]
    },
    {
     "name": "stdout",
     "output_type": "stream",
     "text": [
      "  1/113 [..............................] - ETA: 49:02 - loss: 0.3319 - mae: 0.4443 - mse: 0.3319 - r_square: -0.0716"
     ]
    },
    {
     "name": "stderr",
     "output_type": "stream",
     "text": [
      "2023-01-23 18:40:47.677628: I tensorflow/core/kernels/data/shuffle_dataset_op.cc:415] Shuffle buffer filled.\n"
     ]
    },
    {
     "name": "stdout",
     "output_type": "stream",
     "text": [
      "113/113 [==============================] - 40s 126ms/step - loss: 0.3452 - mae: 0.4670 - mse: 0.3452 - r_square: 0.1220 - val_loss: 0.3906 - val_mae: 0.4890 - val_mse: 0.3906 - val_r_square: -0.1108\n",
      "Epoch 29/50\n"
     ]
    },
    {
     "name": "stderr",
     "output_type": "stream",
     "text": [
      "2023-01-23 18:41:12.002176: I tensorflow/core/kernels/data/shuffle_dataset_op.cc:390] Filling up shuffle buffer (this may take a while): 365 of 1000\n",
      "2023-01-23 18:41:22.002800: I tensorflow/core/kernels/data/shuffle_dataset_op.cc:390] Filling up shuffle buffer (this may take a while): 714 of 1000\n"
     ]
    },
    {
     "name": "stdout",
     "output_type": "stream",
     "text": [
      "  1/113 [..............................] - ETA: 47:29 - loss: 0.4711 - mae: 0.5331 - mse: 0.4711 - r_square: -0.1960"
     ]
    },
    {
     "name": "stderr",
     "output_type": "stream",
     "text": [
      "2023-01-23 18:41:27.313202: I tensorflow/core/kernels/data/shuffle_dataset_op.cc:415] Shuffle buffer filled.\n"
     ]
    },
    {
     "name": "stdout",
     "output_type": "stream",
     "text": [
      "113/113 [==============================] - 39s 125ms/step - loss: 0.3454 - mae: 0.4654 - mse: 0.3454 - r_square: 0.1214 - val_loss: 0.3694 - val_mae: 0.4697 - val_mse: 0.3694 - val_r_square: -0.0448\n",
      "Epoch 30/50\n"
     ]
    },
    {
     "name": "stderr",
     "output_type": "stream",
     "text": [
      "2023-01-23 18:41:51.463443: I tensorflow/core/kernels/data/shuffle_dataset_op.cc:390] Filling up shuffle buffer (this may take a while): 318 of 1000\n",
      "2023-01-23 18:42:01.460435: I tensorflow/core/kernels/data/shuffle_dataset_op.cc:390] Filling up shuffle buffer (this may take a while): 646 of 1000\n"
     ]
    },
    {
     "name": "stdout",
     "output_type": "stream",
     "text": [
      "  1/113 [..............................] - ETA: 51:17 - loss: 0.3086 - mae: 0.4302 - mse: 0.3086 - r_square: 0.1230"
     ]
    },
    {
     "name": "stderr",
     "output_type": "stream",
     "text": [
      "2023-01-23 18:42:08.803116: I tensorflow/core/kernels/data/shuffle_dataset_op.cc:415] Shuffle buffer filled.\n"
     ]
    },
    {
     "name": "stdout",
     "output_type": "stream",
     "text": [
      "113/113 [==============================] - 42s 126ms/step - loss: 0.3453 - mae: 0.4659 - mse: 0.3453 - r_square: 0.1260 - val_loss: 0.3934 - val_mae: 0.4892 - val_mse: 0.3934 - val_r_square: -0.0955\n",
      "Epoch 31/50\n"
     ]
    },
    {
     "name": "stderr",
     "output_type": "stream",
     "text": [
      "2023-01-23 18:42:33.070985: I tensorflow/core/kernels/data/shuffle_dataset_op.cc:390] Filling up shuffle buffer (this may take a while): 350 of 1000\n",
      "2023-01-23 18:42:43.093330: I tensorflow/core/kernels/data/shuffle_dataset_op.cc:390] Filling up shuffle buffer (this may take a while): 705 of 1000\n"
     ]
    },
    {
     "name": "stdout",
     "output_type": "stream",
     "text": [
      "  1/113 [..............................] - ETA: 47:24 - loss: 0.2709 - mae: 0.4071 - mse: 0.2709 - r_square: -0.1747"
     ]
    },
    {
     "name": "stderr",
     "output_type": "stream",
     "text": [
      "2023-01-23 18:42:48.321835: I tensorflow/core/kernels/data/shuffle_dataset_op.cc:415] Shuffle buffer filled.\n"
     ]
    },
    {
     "name": "stdout",
     "output_type": "stream",
     "text": [
      "113/113 [==============================] - 40s 126ms/step - loss: 0.3395 - mae: 0.4619 - mse: 0.3395 - r_square: 0.1356 - val_loss: 0.4032 - val_mae: 0.4976 - val_mse: 0.4032 - val_r_square: -0.1538\n",
      "Epoch 32/50\n"
     ]
    },
    {
     "name": "stderr",
     "output_type": "stream",
     "text": [
      "2023-01-23 18:43:12.787279: I tensorflow/core/kernels/data/shuffle_dataset_op.cc:390] Filling up shuffle buffer (this may take a while): 312 of 1000\n",
      "2023-01-23 18:43:22.772408: I tensorflow/core/kernels/data/shuffle_dataset_op.cc:390] Filling up shuffle buffer (this may take a while): 645 of 1000\n"
     ]
    },
    {
     "name": "stdout",
     "output_type": "stream",
     "text": [
      "  1/113 [..............................] - ETA: 51:36 - loss: 0.3264 - mae: 0.4641 - mse: 0.3264 - r_square: -0.4614"
     ]
    },
    {
     "name": "stderr",
     "output_type": "stream",
     "text": [
      "2023-01-23 18:43:30.276973: I tensorflow/core/kernels/data/shuffle_dataset_op.cc:415] Shuffle buffer filled.\n"
     ]
    },
    {
     "name": "stdout",
     "output_type": "stream",
     "text": [
      "113/113 [==============================] - 42s 127ms/step - loss: 0.3387 - mae: 0.4619 - mse: 0.3387 - r_square: 0.1374 - val_loss: 0.3936 - val_mae: 0.4879 - val_mse: 0.3936 - val_r_square: -0.0917\n",
      "Epoch 33/50\n"
     ]
    },
    {
     "name": "stderr",
     "output_type": "stream",
     "text": [
      "2023-01-23 18:43:54.707667: I tensorflow/core/kernels/data/shuffle_dataset_op.cc:390] Filling up shuffle buffer (this may take a while): 327 of 1000\n",
      "2023-01-23 18:44:04.705935: I tensorflow/core/kernels/data/shuffle_dataset_op.cc:390] Filling up shuffle buffer (this may take a while): 653 of 1000\n"
     ]
    },
    {
     "name": "stdout",
     "output_type": "stream",
     "text": [
      "  1/113 [..............................] - ETA: 51:14 - loss: 0.2135 - mae: 0.3537 - mse: 0.2135 - r_square: 0.0935"
     ]
    },
    {
     "name": "stderr",
     "output_type": "stream",
     "text": [
      "2023-01-23 18:44:12.015352: I tensorflow/core/kernels/data/shuffle_dataset_op.cc:415] Shuffle buffer filled.\n"
     ]
    },
    {
     "name": "stdout",
     "output_type": "stream",
     "text": [
      "113/113 [==============================] - 41s 125ms/step - loss: 0.3324 - mae: 0.4576 - mse: 0.3324 - r_square: 0.1510 - val_loss: 0.3783 - val_mae: 0.4789 - val_mse: 0.3783 - val_r_square: -0.0771\n",
      "Epoch 34/50\n"
     ]
    },
    {
     "name": "stderr",
     "output_type": "stream",
     "text": [
      "2023-01-23 18:44:36.427275: I tensorflow/core/kernels/data/shuffle_dataset_op.cc:390] Filling up shuffle buffer (this may take a while): 314 of 1000\n",
      "2023-01-23 18:44:46.419726: I tensorflow/core/kernels/data/shuffle_dataset_op.cc:390] Filling up shuffle buffer (this may take a while): 648 of 1000\n"
     ]
    },
    {
     "name": "stdout",
     "output_type": "stream",
     "text": [
      "  1/113 [..............................] - ETA: 50:53 - loss: 0.3513 - mae: 0.4636 - mse: 0.3513 - r_square: -0.0028"
     ]
    },
    {
     "name": "stderr",
     "output_type": "stream",
     "text": [
      "2023-01-23 18:44:53.552609: I tensorflow/core/kernels/data/shuffle_dataset_op.cc:415] Shuffle buffer filled.\n"
     ]
    },
    {
     "name": "stdout",
     "output_type": "stream",
     "text": [
      "113/113 [==============================] - 41s 125ms/step - loss: 0.3327 - mae: 0.4564 - mse: 0.3327 - r_square: 0.1519 - val_loss: 0.3994 - val_mae: 0.4911 - val_mse: 0.3994 - val_r_square: -0.1395\n",
      "Epoch 35/50\n"
     ]
    },
    {
     "name": "stderr",
     "output_type": "stream",
     "text": [
      "2023-01-23 18:45:17.762918: I tensorflow/core/kernels/data/shuffle_dataset_op.cc:390] Filling up shuffle buffer (this may take a while): 335 of 1000\n",
      "2023-01-23 18:45:27.765395: I tensorflow/core/kernels/data/shuffle_dataset_op.cc:390] Filling up shuffle buffer (this may take a while): 698 of 1000\n"
     ]
    },
    {
     "name": "stdout",
     "output_type": "stream",
     "text": [
      "  1/113 [..............................] - ETA: 48:49 - loss: 0.5863 - mae: 0.6587 - mse: 0.5863 - r_square: -0.3380"
     ]
    },
    {
     "name": "stderr",
     "output_type": "stream",
     "text": [
      "2023-01-23 18:45:33.768749: I tensorflow/core/kernels/data/shuffle_dataset_op.cc:415] Shuffle buffer filled.\n"
     ]
    },
    {
     "name": "stdout",
     "output_type": "stream",
     "text": [
      "113/113 [==============================] - 40s 126ms/step - loss: 0.3311 - mae: 0.4577 - mse: 0.3311 - r_square: 0.1551 - val_loss: 0.3673 - val_mae: 0.4695 - val_mse: 0.3673 - val_r_square: -0.0432\n",
      "Epoch 36/50\n"
     ]
    },
    {
     "name": "stderr",
     "output_type": "stream",
     "text": [
      "2023-01-23 18:45:58.169834: I tensorflow/core/kernels/data/shuffle_dataset_op.cc:390] Filling up shuffle buffer (this may take a while): 356 of 1000\n",
      "2023-01-23 18:46:08.175547: I tensorflow/core/kernels/data/shuffle_dataset_op.cc:390] Filling up shuffle buffer (this may take a while): 706 of 1000\n"
     ]
    },
    {
     "name": "stdout",
     "output_type": "stream",
     "text": [
      "  1/113 [..............................] - ETA: 47:45 - loss: 0.3853 - mae: 0.4715 - mse: 0.3853 - r_square: 0.0416"
     ]
    },
    {
     "name": "stderr",
     "output_type": "stream",
     "text": [
      "2023-01-23 18:46:13.610724: I tensorflow/core/kernels/data/shuffle_dataset_op.cc:415] Shuffle buffer filled.\n"
     ]
    },
    {
     "name": "stdout",
     "output_type": "stream",
     "text": [
      "113/113 [==============================] - 40s 126ms/step - loss: 0.3244 - mae: 0.4519 - mse: 0.3244 - r_square: 0.1730 - val_loss: 0.3953 - val_mae: 0.4913 - val_mse: 0.3953 - val_r_square: -0.1235\n",
      "Epoch 37/50\n"
     ]
    },
    {
     "name": "stderr",
     "output_type": "stream",
     "text": [
      "2023-01-23 18:46:37.954638: I tensorflow/core/kernels/data/shuffle_dataset_op.cc:390] Filling up shuffle buffer (this may take a while): 345 of 1000\n",
      "2023-01-23 18:46:47.965218: I tensorflow/core/kernels/data/shuffle_dataset_op.cc:390] Filling up shuffle buffer (this may take a while): 708 of 1000\n"
     ]
    },
    {
     "name": "stdout",
     "output_type": "stream",
     "text": [
      "  1/113 [..............................] - ETA: 48:18 - loss: 0.2244 - mae: 0.3655 - mse: 0.2244 - r_square: -0.3146"
     ]
    },
    {
     "name": "stderr",
     "output_type": "stream",
     "text": [
      "2023-01-23 18:46:53.682164: I tensorflow/core/kernels/data/shuffle_dataset_op.cc:415] Shuffle buffer filled.\n"
     ]
    },
    {
     "name": "stdout",
     "output_type": "stream",
     "text": [
      "113/113 [==============================] - 40s 126ms/step - loss: 0.3258 - mae: 0.4521 - mse: 0.3258 - r_square: 0.1701 - val_loss: 0.3816 - val_mae: 0.4786 - val_mse: 0.3816 - val_r_square: -0.0924\n",
      "Epoch 38/50\n"
     ]
    },
    {
     "name": "stderr",
     "output_type": "stream",
     "text": [
      "2023-01-23 18:47:18.035842: I tensorflow/core/kernels/data/shuffle_dataset_op.cc:390] Filling up shuffle buffer (this may take a while): 331 of 1000\n",
      "2023-01-23 18:47:28.016923: I tensorflow/core/kernels/data/shuffle_dataset_op.cc:390] Filling up shuffle buffer (this may take a while): 668 of 1000\n"
     ]
    },
    {
     "name": "stdout",
     "output_type": "stream",
     "text": [
      "  1/113 [..............................] - ETA: 51:31 - loss: 0.2230 - mae: 0.4018 - mse: 0.2230 - r_square: 0.0158"
     ]
    },
    {
     "name": "stderr",
     "output_type": "stream",
     "text": [
      "2023-01-23 18:47:35.481316: I tensorflow/core/kernels/data/shuffle_dataset_op.cc:415] Shuffle buffer filled.\n"
     ]
    },
    {
     "name": "stdout",
     "output_type": "stream",
     "text": [
      "113/113 [==============================] - 42s 126ms/step - loss: 0.3190 - mae: 0.4477 - mse: 0.3190 - r_square: 0.1869 - val_loss: 0.3761 - val_mae: 0.4761 - val_mse: 0.3761 - val_r_square: -0.0697\n",
      "Epoch 39/50\n"
     ]
    },
    {
     "name": "stderr",
     "output_type": "stream",
     "text": [
      "2023-01-23 18:47:59.842072: I tensorflow/core/kernels/data/shuffle_dataset_op.cc:390] Filling up shuffle buffer (this may take a while): 338 of 1000\n",
      "2023-01-23 18:48:09.858300: I tensorflow/core/kernels/data/shuffle_dataset_op.cc:390] Filling up shuffle buffer (this may take a while): 664 of 1000\n"
     ]
    },
    {
     "name": "stdout",
     "output_type": "stream",
     "text": [
      "  1/113 [..............................] - ETA: 51:34 - loss: 0.2196 - mae: 0.3841 - mse: 0.2196 - r_square: 0.1195"
     ]
    },
    {
     "name": "stderr",
     "output_type": "stream",
     "text": [
      "2023-01-23 18:48:17.324790: I tensorflow/core/kernels/data/shuffle_dataset_op.cc:415] Shuffle buffer filled.\n"
     ]
    },
    {
     "name": "stdout",
     "output_type": "stream",
     "text": [
      "113/113 [==============================] - 42s 130ms/step - loss: 0.3195 - mae: 0.4490 - mse: 0.3195 - r_square: 0.1833 - val_loss: 0.3739 - val_mae: 0.4763 - val_mse: 0.3739 - val_r_square: -0.0704\n",
      "Epoch 40/50\n"
     ]
    },
    {
     "name": "stderr",
     "output_type": "stream",
     "text": [
      "2023-01-23 18:48:42.104512: I tensorflow/core/kernels/data/shuffle_dataset_op.cc:390] Filling up shuffle buffer (this may take a while): 345 of 1000\n",
      "2023-01-23 18:48:52.109433: I tensorflow/core/kernels/data/shuffle_dataset_op.cc:390] Filling up shuffle buffer (this may take a while): 680 of 1000\n"
     ]
    },
    {
     "name": "stdout",
     "output_type": "stream",
     "text": [
      "  1/113 [..............................] - ETA: 50:03 - loss: 0.3017 - mae: 0.4457 - mse: 0.3017 - r_square: -0.0034"
     ]
    },
    {
     "name": "stderr",
     "output_type": "stream",
     "text": [
      "2023-01-23 18:48:58.778598: I tensorflow/core/kernels/data/shuffle_dataset_op.cc:415] Shuffle buffer filled.\n"
     ]
    },
    {
     "name": "stdout",
     "output_type": "stream",
     "text": [
      "113/113 [==============================] - 41s 128ms/step - loss: 0.3145 - mae: 0.4452 - mse: 0.3145 - r_square: 0.1957 - val_loss: 0.3865 - val_mae: 0.4831 - val_mse: 0.3865 - val_r_square: -0.0857\n",
      "Epoch 41/50\n"
     ]
    },
    {
     "name": "stderr",
     "output_type": "stream",
     "text": [
      "2023-01-23 18:49:23.368189: I tensorflow/core/kernels/data/shuffle_dataset_op.cc:390] Filling up shuffle buffer (this may take a while): 324 of 1000\n",
      "2023-01-23 18:49:33.369120: I tensorflow/core/kernels/data/shuffle_dataset_op.cc:390] Filling up shuffle buffer (this may take a while): 661 of 1000\n"
     ]
    },
    {
     "name": "stdout",
     "output_type": "stream",
     "text": [
      "  1/113 [..............................] - ETA: 50:32 - loss: 0.2543 - mae: 0.3934 - mse: 0.2543 - r_square: 0.1210"
     ]
    },
    {
     "name": "stderr",
     "output_type": "stream",
     "text": [
      "2023-01-23 18:49:40.297583: I tensorflow/core/kernels/data/shuffle_dataset_op.cc:415] Shuffle buffer filled.\n"
     ]
    },
    {
     "name": "stdout",
     "output_type": "stream",
     "text": [
      "113/113 [==============================] - 41s 128ms/step - loss: 0.3140 - mae: 0.4439 - mse: 0.3140 - r_square: 0.1979 - val_loss: 0.3700 - val_mae: 0.4730 - val_mse: 0.3700 - val_r_square: -0.0555\n",
      "Epoch 42/50\n"
     ]
    },
    {
     "name": "stderr",
     "output_type": "stream",
     "text": [
      "2023-01-23 18:50:04.933778: I tensorflow/core/kernels/data/shuffle_dataset_op.cc:390] Filling up shuffle buffer (this may take a while): 349 of 1000\n",
      "2023-01-23 18:50:14.941324: I tensorflow/core/kernels/data/shuffle_dataset_op.cc:390] Filling up shuffle buffer (this may take a while): 664 of 1000\n"
     ]
    },
    {
     "name": "stdout",
     "output_type": "stream",
     "text": [
      "  1/113 [..............................] - ETA: 51:00 - loss: 0.2608 - mae: 0.4216 - mse: 0.2608 - r_square: 0.1411"
     ]
    },
    {
     "name": "stderr",
     "output_type": "stream",
     "text": [
      "2023-01-23 18:50:22.123371: I tensorflow/core/kernels/data/shuffle_dataset_op.cc:415] Shuffle buffer filled.\n"
     ]
    },
    {
     "name": "stdout",
     "output_type": "stream",
     "text": [
      "113/113 [==============================] - 42s 128ms/step - loss: 0.3136 - mae: 0.4442 - mse: 0.3136 - r_square: 0.1975 - val_loss: 0.3761 - val_mae: 0.4758 - val_mse: 0.3761 - val_r_square: -0.0731\n",
      "Epoch 43/50\n"
     ]
    },
    {
     "name": "stderr",
     "output_type": "stream",
     "text": [
      "2023-01-23 18:50:46.631752: I tensorflow/core/kernels/data/shuffle_dataset_op.cc:390] Filling up shuffle buffer (this may take a while): 329 of 1000\n",
      "2023-01-23 18:50:56.631228: I tensorflow/core/kernels/data/shuffle_dataset_op.cc:390] Filling up shuffle buffer (this may take a while): 652 of 1000\n"
     ]
    },
    {
     "name": "stdout",
     "output_type": "stream",
     "text": [
      "  1/113 [..............................] - ETA: 51:36 - loss: 0.2145 - mae: 0.3787 - mse: 0.2145 - r_square: 0.0349"
     ]
    },
    {
     "name": "stderr",
     "output_type": "stream",
     "text": [
      "2023-01-23 18:51:04.139436: I tensorflow/core/kernels/data/shuffle_dataset_op.cc:415] Shuffle buffer filled.\n"
     ]
    },
    {
     "name": "stdout",
     "output_type": "stream",
     "text": [
      "113/113 [==============================] - 42s 128ms/step - loss: 0.3081 - mae: 0.4400 - mse: 0.3081 - r_square: 0.2114 - val_loss: 0.3838 - val_mae: 0.4850 - val_mse: 0.3838 - val_r_square: -0.1026\n",
      "Epoch 44/50\n"
     ]
    },
    {
     "name": "stderr",
     "output_type": "stream",
     "text": [
      "2023-01-23 18:51:28.724687: I tensorflow/core/kernels/data/shuffle_dataset_op.cc:390] Filling up shuffle buffer (this may take a while): 300 of 1000\n",
      "2023-01-23 18:51:38.707978: I tensorflow/core/kernels/data/shuffle_dataset_op.cc:390] Filling up shuffle buffer (this may take a while): 611 of 1000\n"
     ]
    },
    {
     "name": "stdout",
     "output_type": "stream",
     "text": [
      "  1/113 [..............................] - ETA: 55:08 - loss: 0.2317 - mae: 0.3765 - mse: 0.2317 - r_square: 0.2490"
     ]
    },
    {
     "name": "stderr",
     "output_type": "stream",
     "text": [
      "2023-01-23 18:51:48.093737: I tensorflow/core/kernels/data/shuffle_dataset_op.cc:415] Shuffle buffer filled.\n"
     ]
    },
    {
     "name": "stdout",
     "output_type": "stream",
     "text": [
      "113/113 [==============================] - 44s 128ms/step - loss: 0.3032 - mae: 0.4350 - mse: 0.3032 - r_square: 0.2243 - val_loss: 0.3824 - val_mae: 0.4793 - val_mse: 0.3824 - val_r_square: -0.0719\n",
      "Epoch 45/50\n"
     ]
    },
    {
     "name": "stderr",
     "output_type": "stream",
     "text": [
      "2023-01-23 18:52:12.591718: I tensorflow/core/kernels/data/shuffle_dataset_op.cc:390] Filling up shuffle buffer (this may take a while): 329 of 1000\n",
      "2023-01-23 18:52:22.590625: I tensorflow/core/kernels/data/shuffle_dataset_op.cc:390] Filling up shuffle buffer (this may take a while): 680 of 1000\n"
     ]
    },
    {
     "name": "stdout",
     "output_type": "stream",
     "text": [
      "  1/113 [..............................] - ETA: 49:55 - loss: 0.2850 - mae: 0.4424 - mse: 0.2850 - r_square: 0.2230"
     ]
    },
    {
     "name": "stderr",
     "output_type": "stream",
     "text": [
      "2023-01-23 18:52:29.193455: I tensorflow/core/kernels/data/shuffle_dataset_op.cc:415] Shuffle buffer filled.\n"
     ]
    },
    {
     "name": "stdout",
     "output_type": "stream",
     "text": [
      "113/113 [==============================] - 41s 128ms/step - loss: 0.3008 - mae: 0.4343 - mse: 0.3008 - r_square: 0.2296 - val_loss: 0.3681 - val_mae: 0.4715 - val_mse: 0.3681 - val_r_square: -0.0425\n",
      "Epoch 46/50\n"
     ]
    },
    {
     "name": "stderr",
     "output_type": "stream",
     "text": [
      "2023-01-23 18:52:53.665492: I tensorflow/core/kernels/data/shuffle_dataset_op.cc:390] Filling up shuffle buffer (this may take a while): 330 of 1000\n",
      "2023-01-23 18:53:03.634012: I tensorflow/core/kernels/data/shuffle_dataset_op.cc:390] Filling up shuffle buffer (this may take a while): 679 of 1000\n"
     ]
    },
    {
     "name": "stdout",
     "output_type": "stream",
     "text": [
      "  1/113 [..............................] - ETA: 49:19 - loss: 0.3285 - mae: 0.4599 - mse: 0.3285 - r_square: 0.1634"
     ]
    },
    {
     "name": "stderr",
     "output_type": "stream",
     "text": [
      "2023-01-23 18:53:09.916326: I tensorflow/core/kernels/data/shuffle_dataset_op.cc:415] Shuffle buffer filled.\n"
     ]
    },
    {
     "name": "stdout",
     "output_type": "stream",
     "text": [
      "113/113 [==============================] - 41s 128ms/step - loss: 0.2990 - mae: 0.4341 - mse: 0.2990 - r_square: 0.2356 - val_loss: 0.3668 - val_mae: 0.4695 - val_mse: 0.3668 - val_r_square: -0.0387\n",
      "Epoch 47/50\n"
     ]
    },
    {
     "name": "stderr",
     "output_type": "stream",
     "text": [
      "2023-01-23 18:53:34.509616: I tensorflow/core/kernels/data/shuffle_dataset_op.cc:390] Filling up shuffle buffer (this may take a while): 323 of 1000\n",
      "2023-01-23 18:53:44.515850: I tensorflow/core/kernels/data/shuffle_dataset_op.cc:390] Filling up shuffle buffer (this may take a while): 649 of 1000\n"
     ]
    },
    {
     "name": "stdout",
     "output_type": "stream",
     "text": [
      "  1/113 [..............................] - ETA: 51:35 - loss: 0.1682 - mae: 0.3418 - mse: 0.1682 - r_square: 0.2428"
     ]
    },
    {
     "name": "stderr",
     "output_type": "stream",
     "text": [
      "2023-01-23 18:53:52.005756: I tensorflow/core/kernels/data/shuffle_dataset_op.cc:415] Shuffle buffer filled.\n"
     ]
    },
    {
     "name": "stdout",
     "output_type": "stream",
     "text": [
      "113/113 [==============================] - 42s 126ms/step - loss: 0.2970 - mae: 0.4334 - mse: 0.2970 - r_square: 0.2395 - val_loss: 0.3830 - val_mae: 0.4810 - val_mse: 0.3830 - val_r_square: -0.0915\n",
      "Epoch 48/50\n"
     ]
    },
    {
     "name": "stderr",
     "output_type": "stream",
     "text": [
      "2023-01-23 18:54:16.326039: I tensorflow/core/kernels/data/shuffle_dataset_op.cc:390] Filling up shuffle buffer (this may take a while): 337 of 1000\n",
      "2023-01-23 18:54:26.348693: I tensorflow/core/kernels/data/shuffle_dataset_op.cc:390] Filling up shuffle buffer (this may take a while): 676 of 1000\n"
     ]
    },
    {
     "name": "stdout",
     "output_type": "stream",
     "text": [
      "  1/113 [..............................] - ETA: 50:05 - loss: 0.4591 - mae: 0.5825 - mse: 0.4591 - r_square: -0.0452"
     ]
    },
    {
     "name": "stderr",
     "output_type": "stream",
     "text": [
      "2023-01-23 18:54:33.029231: I tensorflow/core/kernels/data/shuffle_dataset_op.cc:415] Shuffle buffer filled.\n"
     ]
    },
    {
     "name": "stdout",
     "output_type": "stream",
     "text": [
      "113/113 [==============================] - 41s 128ms/step - loss: 0.2909 - mae: 0.4273 - mse: 0.2909 - r_square: 0.2537 - val_loss: 0.4073 - val_mae: 0.4978 - val_mse: 0.4073 - val_r_square: -0.1397\n",
      "Epoch 49/50\n"
     ]
    },
    {
     "name": "stderr",
     "output_type": "stream",
     "text": [
      "2023-01-23 18:54:57.566689: I tensorflow/core/kernels/data/shuffle_dataset_op.cc:390] Filling up shuffle buffer (this may take a while): 354 of 1000\n",
      "2023-01-23 18:55:07.556761: I tensorflow/core/kernels/data/shuffle_dataset_op.cc:390] Filling up shuffle buffer (this may take a while): 673 of 1000\n"
     ]
    },
    {
     "name": "stdout",
     "output_type": "stream",
     "text": [
      "  1/113 [..............................] - ETA: 50:29 - loss: 0.2547 - mae: 0.4201 - mse: 0.2547 - r_square: 0.1758"
     ]
    },
    {
     "name": "stderr",
     "output_type": "stream",
     "text": [
      "2023-01-23 18:55:14.464286: I tensorflow/core/kernels/data/shuffle_dataset_op.cc:415] Shuffle buffer filled.\n"
     ]
    },
    {
     "name": "stdout",
     "output_type": "stream",
     "text": [
      "113/113 [==============================] - 41s 128ms/step - loss: 0.2905 - mae: 0.4271 - mse: 0.2905 - r_square: 0.2563 - val_loss: 0.3857 - val_mae: 0.4843 - val_mse: 0.3857 - val_r_square: -0.0907\n",
      "Epoch 50/50\n"
     ]
    },
    {
     "name": "stderr",
     "output_type": "stream",
     "text": [
      "2023-01-23 18:55:38.981369: I tensorflow/core/kernels/data/shuffle_dataset_op.cc:390] Filling up shuffle buffer (this may take a while): 353 of 1000\n",
      "2023-01-23 18:55:48.981730: I tensorflow/core/kernels/data/shuffle_dataset_op.cc:390] Filling up shuffle buffer (this may take a while): 694 of 1000\n"
     ]
    },
    {
     "name": "stdout",
     "output_type": "stream",
     "text": [
      "  1/113 [..............................] - ETA: 48:40 - loss: 0.2602 - mae: 0.4347 - mse: 0.2602 - r_square: 0.2319"
     ]
    },
    {
     "name": "stderr",
     "output_type": "stream",
     "text": [
      "2023-01-23 18:55:54.900497: I tensorflow/core/kernels/data/shuffle_dataset_op.cc:415] Shuffle buffer filled.\n"
     ]
    },
    {
     "name": "stdout",
     "output_type": "stream",
     "text": [
      "113/113 [==============================] - 40s 126ms/step - loss: 0.2819 - mae: 0.4218 - mse: 0.2819 - r_square: 0.2749 - val_loss: 0.4567 - val_mae: 0.5232 - val_mse: 0.4567 - val_r_square: -0.2446\n",
      "Best epoch: 1\n"
     ]
    }
   ],
   "source": [
    "model = tuner.hypermodel.build(best_hps)\n",
    "history = model.fit(train, validation_data=test, epochs=50)"
   ]
  },
  {
   "cell_type": "code",
   "execution_count": null,
   "metadata": {},
   "outputs": [
    {
     "name": "stdout",
     "output_type": "stream",
     "text": [
      "Best epoch: 22\n"
     ]
    }
   ],
   "source": [
    "val_mse_per_epoch = history.history['val_mse']\n",
    "best_epoch = val_mse_per_epoch.index(min(val_mse_per_epoch)) + 1\n",
    "print('Best epoch: %d' % (best_epoch,))"
   ]
  },
  {
   "cell_type": "code",
   "execution_count": null,
   "metadata": {},
   "outputs": [
    {
     "name": "stdout",
     "output_type": "stream",
     "text": [
      "Epoch 1/22\n"
     ]
    },
    {
     "name": "stderr",
     "output_type": "stream",
     "text": [
      "2023-01-23 20:19:01.270517: I tensorflow/core/kernels/data/shuffle_dataset_op.cc:390] Filling up shuffle buffer (this may take a while): 342 of 1000\n",
      "2023-01-23 20:19:11.271310: I tensorflow/core/kernels/data/shuffle_dataset_op.cc:390] Filling up shuffle buffer (this may take a while): 688 of 1000\n"
     ]
    },
    {
     "name": "stdout",
     "output_type": "stream",
     "text": [
      "      1/Unknown - 27s 27s/step - loss: 12.0316 - mae: 3.3412 - mse: 12.0316 - r_square: -38.9821"
     ]
    },
    {
     "name": "stderr",
     "output_type": "stream",
     "text": [
      "2023-01-23 20:19:17.546481: I tensorflow/core/kernels/data/shuffle_dataset_op.cc:415] Shuffle buffer filled.\n"
     ]
    },
    {
     "name": "stdout",
     "output_type": "stream",
     "text": [
      "113/113 [==============================] - 42s 128ms/step - loss: 4.0177 - mae: 1.6225 - mse: 4.0177 - r_square: -9.5074 - val_loss: 10.9182 - val_mae: 3.2306 - val_mse: 10.9182 - val_r_square: -32.7841\n",
      "Epoch 2/22\n"
     ]
    },
    {
     "name": "stderr",
     "output_type": "stream",
     "text": [
      "2023-01-23 20:19:42.064812: I tensorflow/core/kernels/data/shuffle_dataset_op.cc:390] Filling up shuffle buffer (this may take a while): 355 of 1000\n",
      "2023-01-23 20:19:52.053540: I tensorflow/core/kernels/data/shuffle_dataset_op.cc:390] Filling up shuffle buffer (this may take a while): 696 of 1000\n"
     ]
    },
    {
     "name": "stdout",
     "output_type": "stream",
     "text": [
      "  1/113 [..............................] - ETA: 50:00 - loss: 0.4573 - mae: 0.5321 - mse: 0.4573 - r_square: -0.5467"
     ]
    },
    {
     "name": "stderr",
     "output_type": "stream",
     "text": [
      "2023-01-23 20:19:58.709331: I tensorflow/core/kernels/data/shuffle_dataset_op.cc:415] Shuffle buffer filled.\n"
     ]
    },
    {
     "name": "stdout",
     "output_type": "stream",
     "text": [
      "113/113 [==============================] - 41s 125ms/step - loss: 0.4109 - mae: 0.5096 - mse: 0.4109 - r_square: -0.0424 - val_loss: 9.8446 - val_mae: 3.0591 - val_mse: 9.8446 - val_r_square: -29.6016\n",
      "Epoch 3/22\n"
     ]
    },
    {
     "name": "stderr",
     "output_type": "stream",
     "text": [
      "2023-01-23 20:20:22.908366: I tensorflow/core/kernels/data/shuffle_dataset_op.cc:390] Filling up shuffle buffer (this may take a while): 337 of 1000\n",
      "2023-01-23 20:20:32.916285: I tensorflow/core/kernels/data/shuffle_dataset_op.cc:390] Filling up shuffle buffer (this may take a while): 688 of 1000\n"
     ]
    },
    {
     "name": "stdout",
     "output_type": "stream",
     "text": [
      "  1/113 [..............................] - ETA: 48:57 - loss: 0.4041 - mae: 0.5281 - mse: 0.4041 - r_square: -0.0794"
     ]
    },
    {
     "name": "stderr",
     "output_type": "stream",
     "text": [
      "2023-01-23 20:20:38.985209: I tensorflow/core/kernels/data/shuffle_dataset_op.cc:415] Shuffle buffer filled.\n"
     ]
    },
    {
     "name": "stdout",
     "output_type": "stream",
     "text": [
      "113/113 [==============================] - 40s 126ms/step - loss: 0.4015 - mae: 0.5032 - mse: 0.4015 - r_square: -0.0147 - val_loss: 8.5846 - val_mae: 2.8427 - val_mse: 8.5846 - val_r_square: -25.8422\n",
      "Epoch 4/22\n"
     ]
    },
    {
     "name": "stderr",
     "output_type": "stream",
     "text": [
      "2023-01-23 20:21:03.305189: I tensorflow/core/kernels/data/shuffle_dataset_op.cc:390] Filling up shuffle buffer (this may take a while): 320 of 1000\n",
      "2023-01-23 20:21:13.309450: I tensorflow/core/kernels/data/shuffle_dataset_op.cc:390] Filling up shuffle buffer (this may take a while): 653 of 1000\n"
     ]
    },
    {
     "name": "stdout",
     "output_type": "stream",
     "text": [
      "  1/113 [..............................] - ETA: 51:27 - loss: 0.2581 - mae: 0.3980 - mse: 0.2581 - r_square: -0.4140"
     ]
    },
    {
     "name": "stderr",
     "output_type": "stream",
     "text": [
      "2023-01-23 20:21:20.696355: I tensorflow/core/kernels/data/shuffle_dataset_op.cc:415] Shuffle buffer filled.\n"
     ]
    },
    {
     "name": "stdout",
     "output_type": "stream",
     "text": [
      "113/113 [==============================] - 42s 126ms/step - loss: 0.3949 - mae: 0.4995 - mse: 0.3949 - r_square: 0.0010 - val_loss: 6.6563 - val_mae: 2.4721 - val_mse: 6.6563 - val_r_square: -20.0436\n",
      "Epoch 5/22\n"
     ]
    },
    {
     "name": "stderr",
     "output_type": "stream",
     "text": [
      "2023-01-23 20:21:44.956885: I tensorflow/core/kernels/data/shuffle_dataset_op.cc:390] Filling up shuffle buffer (this may take a while): 320 of 1000\n",
      "2023-01-23 20:21:54.980345: I tensorflow/core/kernels/data/shuffle_dataset_op.cc:390] Filling up shuffle buffer (this may take a while): 663 of 1000\n"
     ]
    },
    {
     "name": "stdout",
     "output_type": "stream",
     "text": [
      "  1/113 [..............................] - ETA: 52:28 - loss: 0.3308 - mae: 0.4625 - mse: 0.3308 - r_square: -0.2487"
     ]
    },
    {
     "name": "stderr",
     "output_type": "stream",
     "text": [
      "2023-01-23 20:22:02.942253: I tensorflow/core/kernels/data/shuffle_dataset_op.cc:415] Shuffle buffer filled.\n"
     ]
    },
    {
     "name": "stdout",
     "output_type": "stream",
     "text": [
      "113/113 [==============================] - 42s 125ms/step - loss: 0.3931 - mae: 0.4983 - mse: 0.3931 - r_square: 0.0067 - val_loss: 3.8489 - val_mae: 1.8129 - val_mse: 3.8489 - val_r_square: -11.4114\n",
      "Epoch 6/22\n"
     ]
    },
    {
     "name": "stderr",
     "output_type": "stream",
     "text": [
      "2023-01-23 20:22:27.127321: I tensorflow/core/kernels/data/shuffle_dataset_op.cc:390] Filling up shuffle buffer (this may take a while): 316 of 1000\n",
      "2023-01-23 20:22:37.106310: I tensorflow/core/kernels/data/shuffle_dataset_op.cc:390] Filling up shuffle buffer (this may take a while): 621 of 1000\n"
     ]
    },
    {
     "name": "stdout",
     "output_type": "stream",
     "text": [
      "  1/113 [..............................] - ETA: 56:19 - loss: 0.2820 - mae: 0.3810 - mse: 0.2820 - r_square: -0.2785"
     ]
    },
    {
     "name": "stderr",
     "output_type": "stream",
     "text": [
      "2023-01-23 20:22:47.120908: I tensorflow/core/kernels/data/shuffle_dataset_op.cc:390] Filling up shuffle buffer (this may take a while): 898 of 1000\n",
      "2023-01-23 20:22:47.122605: I tensorflow/core/kernels/data/shuffle_dataset_op.cc:415] Shuffle buffer filled.\n"
     ]
    },
    {
     "name": "stdout",
     "output_type": "stream",
     "text": [
      "113/113 [==============================] - 44s 125ms/step - loss: 0.3931 - mae: 0.4980 - mse: 0.3931 - r_square: 0.0082 - val_loss: 1.4629 - val_mae: 1.0515 - val_mse: 1.4629 - val_r_square: -3.6753\n",
      "Epoch 7/22\n"
     ]
    },
    {
     "name": "stderr",
     "output_type": "stream",
     "text": [
      "2023-01-23 20:23:11.532340: I tensorflow/core/kernels/data/shuffle_dataset_op.cc:390] Filling up shuffle buffer (this may take a while): 307 of 1000\n",
      "2023-01-23 20:23:21.518492: I tensorflow/core/kernels/data/shuffle_dataset_op.cc:390] Filling up shuffle buffer (this may take a while): 584 of 1000\n",
      "2023-01-23 20:23:31.534463: I tensorflow/core/kernels/data/shuffle_dataset_op.cc:390] Filling up shuffle buffer (this may take a while): 870 of 1000\n"
     ]
    },
    {
     "name": "stdout",
     "output_type": "stream",
     "text": [
      "  1/113 [..............................] - ETA: 58:11 - loss: 0.3836 - mae: 0.4846 - mse: 0.3836 - r_square: 0.0262"
     ]
    },
    {
     "name": "stderr",
     "output_type": "stream",
     "text": [
      "2023-01-23 20:23:32.544008: I tensorflow/core/kernels/data/shuffle_dataset_op.cc:415] Shuffle buffer filled.\n"
     ]
    },
    {
     "name": "stdout",
     "output_type": "stream",
     "text": [
      "113/113 [==============================] - 45s 125ms/step - loss: 0.3878 - mae: 0.4944 - mse: 0.3878 - r_square: 0.0210 - val_loss: 0.5476 - val_mae: 0.6049 - val_mse: 0.5476 - val_r_square: -0.6407\n",
      "Epoch 8/22\n"
     ]
    },
    {
     "name": "stderr",
     "output_type": "stream",
     "text": [
      "2023-01-23 20:23:57.134493: I tensorflow/core/kernels/data/shuffle_dataset_op.cc:390] Filling up shuffle buffer (this may take a while): 330 of 1000\n",
      "2023-01-23 20:24:07.134156: I tensorflow/core/kernels/data/shuffle_dataset_op.cc:390] Filling up shuffle buffer (this may take a while): 684 of 1000\n"
     ]
    },
    {
     "name": "stdout",
     "output_type": "stream",
     "text": [
      "  1/113 [..............................] - ETA: 49:01 - loss: 0.3784 - mae: 0.5251 - mse: 0.3784 - r_square: -0.0339"
     ]
    },
    {
     "name": "stderr",
     "output_type": "stream",
     "text": [
      "2023-01-23 20:24:13.245662: I tensorflow/core/kernels/data/shuffle_dataset_op.cc:415] Shuffle buffer filled.\n"
     ]
    },
    {
     "name": "stdout",
     "output_type": "stream",
     "text": [
      "113/113 [==============================] - 41s 127ms/step - loss: 0.3870 - mae: 0.4939 - mse: 0.3870 - r_square: 0.0214 - val_loss: 0.3827 - val_mae: 0.4877 - val_mse: 0.3827 - val_r_square: -0.0863\n",
      "Epoch 9/22\n"
     ]
    },
    {
     "name": "stderr",
     "output_type": "stream",
     "text": [
      "2023-01-23 20:24:37.771469: I tensorflow/core/kernels/data/shuffle_dataset_op.cc:390] Filling up shuffle buffer (this may take a while): 356 of 1000\n",
      "2023-01-23 20:24:47.778694: I tensorflow/core/kernels/data/shuffle_dataset_op.cc:390] Filling up shuffle buffer (this may take a while): 707 of 1000\n"
     ]
    },
    {
     "name": "stdout",
     "output_type": "stream",
     "text": [
      "  1/113 [..............................] - ETA: 48:32 - loss: 0.2413 - mae: 0.3769 - mse: 0.2413 - r_square: -0.7149"
     ]
    },
    {
     "name": "stderr",
     "output_type": "stream",
     "text": [
      "2023-01-23 20:24:53.619684: I tensorflow/core/kernels/data/shuffle_dataset_op.cc:415] Shuffle buffer filled.\n"
     ]
    },
    {
     "name": "stdout",
     "output_type": "stream",
     "text": [
      "113/113 [==============================] - 40s 127ms/step - loss: 0.3841 - mae: 0.4928 - mse: 0.3841 - r_square: 0.0262 - val_loss: 0.3692 - val_mae: 0.4730 - val_mse: 0.3692 - val_r_square: -0.0442\n",
      "Epoch 10/22\n"
     ]
    },
    {
     "name": "stderr",
     "output_type": "stream",
     "text": [
      "2023-01-23 20:25:18.003699: I tensorflow/core/kernels/data/shuffle_dataset_op.cc:390] Filling up shuffle buffer (this may take a while): 324 of 1000\n",
      "2023-01-23 20:25:28.012785: I tensorflow/core/kernels/data/shuffle_dataset_op.cc:390] Filling up shuffle buffer (this may take a while): 669 of 1000\n"
     ]
    },
    {
     "name": "stdout",
     "output_type": "stream",
     "text": [
      "  1/113 [..............................] - ETA: 52:07 - loss: 0.5560 - mae: 0.5791 - mse: 0.5560 - r_square: -0.0388"
     ]
    },
    {
     "name": "stderr",
     "output_type": "stream",
     "text": [
      "2023-01-23 20:25:35.774662: I tensorflow/core/kernels/data/shuffle_dataset_op.cc:415] Shuffle buffer filled.\n"
     ]
    },
    {
     "name": "stdout",
     "output_type": "stream",
     "text": [
      "113/113 [==============================] - 42s 128ms/step - loss: 0.3806 - mae: 0.4900 - mse: 0.3806 - r_square: 0.0376 - val_loss: 0.3873 - val_mae: 0.4832 - val_mse: 0.3873 - val_r_square: -0.0889\n",
      "Epoch 11/22\n"
     ]
    },
    {
     "name": "stderr",
     "output_type": "stream",
     "text": [
      "2023-01-23 20:26:00.427059: I tensorflow/core/kernels/data/shuffle_dataset_op.cc:390] Filling up shuffle buffer (this may take a while): 319 of 1000\n",
      "2023-01-23 20:26:10.417820: I tensorflow/core/kernels/data/shuffle_dataset_op.cc:390] Filling up shuffle buffer (this may take a while): 663 of 1000\n"
     ]
    },
    {
     "name": "stdout",
     "output_type": "stream",
     "text": [
      "  1/113 [..............................] - ETA: 50:34 - loss: 0.3962 - mae: 0.4767 - mse: 0.3962 - r_square: -0.2326"
     ]
    },
    {
     "name": "stderr",
     "output_type": "stream",
     "text": [
      "2023-01-23 20:26:17.365297: I tensorflow/core/kernels/data/shuffle_dataset_op.cc:415] Shuffle buffer filled.\n"
     ]
    },
    {
     "name": "stdout",
     "output_type": "stream",
     "text": [
      "113/113 [==============================] - 41s 127ms/step - loss: 0.3783 - mae: 0.4891 - mse: 0.3783 - r_square: 0.0424 - val_loss: 0.3726 - val_mae: 0.4800 - val_mse: 0.3726 - val_r_square: -0.0713\n",
      "Epoch 12/22\n"
     ]
    },
    {
     "name": "stderr",
     "output_type": "stream",
     "text": [
      "2023-01-23 20:26:41.871116: I tensorflow/core/kernels/data/shuffle_dataset_op.cc:390] Filling up shuffle buffer (this may take a while): 312 of 1000\n",
      "2023-01-23 20:26:51.890311: I tensorflow/core/kernels/data/shuffle_dataset_op.cc:390] Filling up shuffle buffer (this may take a while): 671 of 1000\n"
     ]
    },
    {
     "name": "stdout",
     "output_type": "stream",
     "text": [
      "  1/113 [..............................] - ETA: 49:12 - loss: 0.2674 - mae: 0.4087 - mse: 0.2674 - r_square: -0.0374"
     ]
    },
    {
     "name": "stderr",
     "output_type": "stream",
     "text": [
      "2023-01-23 20:26:58.093314: I tensorflow/core/kernels/data/shuffle_dataset_op.cc:415] Shuffle buffer filled.\n"
     ]
    },
    {
     "name": "stdout",
     "output_type": "stream",
     "text": [
      "113/113 [==============================] - 41s 127ms/step - loss: 0.3770 - mae: 0.4886 - mse: 0.3770 - r_square: 0.0438 - val_loss: 0.3723 - val_mae: 0.4744 - val_mse: 0.3723 - val_r_square: -0.0580\n",
      "Epoch 13/22\n"
     ]
    },
    {
     "name": "stderr",
     "output_type": "stream",
     "text": [
      "2023-01-23 20:27:22.595763: I tensorflow/core/kernels/data/shuffle_dataset_op.cc:390] Filling up shuffle buffer (this may take a while): 349 of 1000\n",
      "2023-01-23 20:27:32.606690: I tensorflow/core/kernels/data/shuffle_dataset_op.cc:390] Filling up shuffle buffer (this may take a while): 688 of 1000\n"
     ]
    },
    {
     "name": "stdout",
     "output_type": "stream",
     "text": [
      "  1/113 [..............................] - ETA: 49:40 - loss: 0.4377 - mae: 0.5598 - mse: 0.4377 - r_square: 0.0842"
     ]
    },
    {
     "name": "stderr",
     "output_type": "stream",
     "text": [
      "2023-01-23 20:27:39.053519: I tensorflow/core/kernels/data/shuffle_dataset_op.cc:415] Shuffle buffer filled.\n"
     ]
    },
    {
     "name": "stdout",
     "output_type": "stream",
     "text": [
      "113/113 [==============================] - 41s 125ms/step - loss: 0.3757 - mae: 0.4872 - mse: 0.3757 - r_square: 0.0521 - val_loss: 0.4033 - val_mae: 0.4980 - val_mse: 0.4033 - val_r_square: -0.1668\n",
      "Epoch 14/22\n"
     ]
    },
    {
     "name": "stderr",
     "output_type": "stream",
     "text": [
      "2023-01-23 20:28:03.166683: I tensorflow/core/kernels/data/shuffle_dataset_op.cc:390] Filling up shuffle buffer (this may take a while): 325 of 1000\n",
      "2023-01-23 20:28:13.188794: I tensorflow/core/kernels/data/shuffle_dataset_op.cc:390] Filling up shuffle buffer (this may take a while): 646 of 1000\n"
     ]
    },
    {
     "name": "stdout",
     "output_type": "stream",
     "text": [
      "  1/113 [..............................] - ETA: 52:20 - loss: 0.2932 - mae: 0.4256 - mse: 0.2932 - r_square: -0.5976"
     ]
    },
    {
     "name": "stderr",
     "output_type": "stream",
     "text": [
      "2023-01-23 20:28:21.075533: I tensorflow/core/kernels/data/shuffle_dataset_op.cc:415] Shuffle buffer filled.\n"
     ]
    },
    {
     "name": "stdout",
     "output_type": "stream",
     "text": [
      "113/113 [==============================] - 42s 128ms/step - loss: 0.3732 - mae: 0.4844 - mse: 0.3732 - r_square: 0.0536 - val_loss: 0.3709 - val_mae: 0.4765 - val_mse: 0.3709 - val_r_square: -0.0509\n",
      "Epoch 15/22\n"
     ]
    },
    {
     "name": "stderr",
     "output_type": "stream",
     "text": [
      "2023-01-23 20:28:45.636857: I tensorflow/core/kernels/data/shuffle_dataset_op.cc:390] Filling up shuffle buffer (this may take a while): 334 of 1000\n",
      "2023-01-23 20:28:55.653954: I tensorflow/core/kernels/data/shuffle_dataset_op.cc:390] Filling up shuffle buffer (this may take a while): 660 of 1000\n"
     ]
    },
    {
     "name": "stdout",
     "output_type": "stream",
     "text": [
      "  1/113 [..............................] - ETA: 51:41 - loss: 0.2312 - mae: 0.3874 - mse: 0.2312 - r_square: 0.0127"
     ]
    },
    {
     "name": "stderr",
     "output_type": "stream",
     "text": [
      "2023-01-23 20:29:03.192153: I tensorflow/core/kernels/data/shuffle_dataset_op.cc:415] Shuffle buffer filled.\n"
     ]
    },
    {
     "name": "stdout",
     "output_type": "stream",
     "text": [
      "113/113 [==============================] - 42s 129ms/step - loss: 0.3691 - mae: 0.4824 - mse: 0.3691 - r_square: 0.0657 - val_loss: 0.3809 - val_mae: 0.4803 - val_mse: 0.3809 - val_r_square: -0.0887\n",
      "Epoch 16/22\n"
     ]
    },
    {
     "name": "stderr",
     "output_type": "stream",
     "text": [
      "2023-01-23 20:29:27.775937: I tensorflow/core/kernels/data/shuffle_dataset_op.cc:390] Filling up shuffle buffer (this may take a while): 349 of 1000\n",
      "2023-01-23 20:29:37.777138: I tensorflow/core/kernels/data/shuffle_dataset_op.cc:390] Filling up shuffle buffer (this may take a while): 671 of 1000\n"
     ]
    },
    {
     "name": "stdout",
     "output_type": "stream",
     "text": [
      "  1/113 [..............................] - ETA: 50:53 - loss: 0.2981 - mae: 0.4247 - mse: 0.2981 - r_square: -0.3165"
     ]
    },
    {
     "name": "stderr",
     "output_type": "stream",
     "text": [
      "2023-01-23 20:29:44.888827: I tensorflow/core/kernels/data/shuffle_dataset_op.cc:415] Shuffle buffer filled.\n"
     ]
    },
    {
     "name": "stdout",
     "output_type": "stream",
     "text": [
      "113/113 [==============================] - 42s 128ms/step - loss: 0.3667 - mae: 0.4814 - mse: 0.3667 - r_square: 0.0706 - val_loss: 0.3875 - val_mae: 0.4862 - val_mse: 0.3875 - val_r_square: -0.1068\n",
      "Epoch 17/22\n"
     ]
    },
    {
     "name": "stderr",
     "output_type": "stream",
     "text": [
      "2023-01-23 20:30:09.465552: I tensorflow/core/kernels/data/shuffle_dataset_op.cc:390] Filling up shuffle buffer (this may take a while): 330 of 1000\n",
      "2023-01-23 20:30:19.452698: I tensorflow/core/kernels/data/shuffle_dataset_op.cc:390] Filling up shuffle buffer (this may take a while): 667 of 1000\n"
     ]
    },
    {
     "name": "stdout",
     "output_type": "stream",
     "text": [
      "  1/113 [..............................] - ETA: 50:23 - loss: 0.3708 - mae: 0.5056 - mse: 0.3708 - r_square: -0.3941"
     ]
    },
    {
     "name": "stderr",
     "output_type": "stream",
     "text": [
      "2023-01-23 20:30:26.311047: I tensorflow/core/kernels/data/shuffle_dataset_op.cc:415] Shuffle buffer filled.\n"
     ]
    },
    {
     "name": "stdout",
     "output_type": "stream",
     "text": [
      "113/113 [==============================] - 41s 126ms/step - loss: 0.3640 - mae: 0.4797 - mse: 0.3640 - r_square: 0.0766 - val_loss: 0.3734 - val_mae: 0.4774 - val_mse: 0.3734 - val_r_square: -0.0612\n",
      "Epoch 18/22\n"
     ]
    },
    {
     "name": "stderr",
     "output_type": "stream",
     "text": [
      "2023-01-23 20:30:50.689114: I tensorflow/core/kernels/data/shuffle_dataset_op.cc:390] Filling up shuffle buffer (this may take a while): 328 of 1000\n",
      "2023-01-23 20:31:00.647701: I tensorflow/core/kernels/data/shuffle_dataset_op.cc:390] Filling up shuffle buffer (this may take a while): 652 of 1000\n"
     ]
    },
    {
     "name": "stdout",
     "output_type": "stream",
     "text": [
      "  1/113 [..............................] - ETA: 50:32 - loss: 0.2452 - mae: 0.3901 - mse: 0.2452 - r_square: -0.2224"
     ]
    },
    {
     "name": "stderr",
     "output_type": "stream",
     "text": [
      "2023-01-23 20:31:07.580359: I tensorflow/core/kernels/data/shuffle_dataset_op.cc:415] Shuffle buffer filled.\n"
     ]
    },
    {
     "name": "stdout",
     "output_type": "stream",
     "text": [
      "113/113 [==============================] - 41s 126ms/step - loss: 0.3605 - mae: 0.4754 - mse: 0.3605 - r_square: 0.0885 - val_loss: 0.3924 - val_mae: 0.4877 - val_mse: 0.3924 - val_r_square: -0.1276\n",
      "Epoch 19/22\n"
     ]
    },
    {
     "name": "stderr",
     "output_type": "stream",
     "text": [
      "2023-01-23 20:31:31.911070: I tensorflow/core/kernels/data/shuffle_dataset_op.cc:390] Filling up shuffle buffer (this may take a while): 344 of 1000\n",
      "2023-01-23 20:31:41.896879: I tensorflow/core/kernels/data/shuffle_dataset_op.cc:390] Filling up shuffle buffer (this may take a while): 674 of 1000\n"
     ]
    },
    {
     "name": "stdout",
     "output_type": "stream",
     "text": [
      "  1/113 [..............................] - ETA: 50:32 - loss: 0.3405 - mae: 0.4700 - mse: 0.3405 - r_square: -0.0204"
     ]
    },
    {
     "name": "stderr",
     "output_type": "stream",
     "text": [
      "2023-01-23 20:31:48.832220: I tensorflow/core/kernels/data/shuffle_dataset_op.cc:415] Shuffle buffer filled.\n"
     ]
    },
    {
     "name": "stdout",
     "output_type": "stream",
     "text": [
      "113/113 [==============================] - 41s 126ms/step - loss: 0.3566 - mae: 0.4731 - mse: 0.3566 - r_square: 0.0965 - val_loss: 0.3844 - val_mae: 0.4831 - val_mse: 0.3844 - val_r_square: -0.0855\n",
      "Epoch 20/22\n"
     ]
    },
    {
     "name": "stderr",
     "output_type": "stream",
     "text": [
      "2023-01-23 20:32:13.243123: I tensorflow/core/kernels/data/shuffle_dataset_op.cc:390] Filling up shuffle buffer (this may take a while): 364 of 1000\n",
      "2023-01-23 20:32:23.261319: I tensorflow/core/kernels/data/shuffle_dataset_op.cc:390] Filling up shuffle buffer (this may take a while): 688 of 1000\n"
     ]
    },
    {
     "name": "stdout",
     "output_type": "stream",
     "text": [
      "  1/113 [..............................] - ETA: 50:11 - loss: 0.2391 - mae: 0.3917 - mse: 0.2391 - r_square: -0.1620"
     ]
    },
    {
     "name": "stderr",
     "output_type": "stream",
     "text": [
      "2023-01-23 20:32:29.980957: I tensorflow/core/kernels/data/shuffle_dataset_op.cc:415] Shuffle buffer filled.\n"
     ]
    },
    {
     "name": "stdout",
     "output_type": "stream",
     "text": [
      "113/113 [==============================] - 41s 128ms/step - loss: 0.3533 - mae: 0.4721 - mse: 0.3533 - r_square: 0.1040 - val_loss: 0.3781 - val_mae: 0.4788 - val_mse: 0.3781 - val_r_square: -0.0650\n",
      "Epoch 21/22\n"
     ]
    },
    {
     "name": "stderr",
     "output_type": "stream",
     "text": [
      "2023-01-23 20:32:54.515769: I tensorflow/core/kernels/data/shuffle_dataset_op.cc:390] Filling up shuffle buffer (this may take a while): 334 of 1000\n",
      "2023-01-23 20:33:04.507926: I tensorflow/core/kernels/data/shuffle_dataset_op.cc:390] Filling up shuffle buffer (this may take a while): 673 of 1000\n"
     ]
    },
    {
     "name": "stdout",
     "output_type": "stream",
     "text": [
      "  1/113 [..............................] - ETA: 49:54 - loss: 0.2075 - mae: 0.3793 - mse: 0.2075 - r_square: -0.0790"
     ]
    },
    {
     "name": "stderr",
     "output_type": "stream",
     "text": [
      "2023-01-23 20:33:11.107904: I tensorflow/core/kernels/data/shuffle_dataset_op.cc:415] Shuffle buffer filled.\n"
     ]
    },
    {
     "name": "stdout",
     "output_type": "stream",
     "text": [
      "113/113 [==============================] - 41s 128ms/step - loss: 0.3526 - mae: 0.4712 - mse: 0.3526 - r_square: 0.1063 - val_loss: 0.4022 - val_mae: 0.4935 - val_mse: 0.4022 - val_r_square: -0.1435\n",
      "Epoch 22/22\n"
     ]
    },
    {
     "name": "stderr",
     "output_type": "stream",
     "text": [
      "2023-01-23 20:33:35.650483: I tensorflow/core/kernels/data/shuffle_dataset_op.cc:390] Filling up shuffle buffer (this may take a while): 349 of 1000\n",
      "2023-01-23 20:33:45.653537: I tensorflow/core/kernels/data/shuffle_dataset_op.cc:390] Filling up shuffle buffer (this may take a while): 689 of 1000\n"
     ]
    },
    {
     "name": "stdout",
     "output_type": "stream",
     "text": [
      "  1/113 [..............................] - ETA: 49:15 - loss: 0.2471 - mae: 0.3866 - mse: 0.2471 - r_square: -0.0507"
     ]
    },
    {
     "name": "stderr",
     "output_type": "stream",
     "text": [
      "2023-01-23 20:33:51.881347: I tensorflow/core/kernels/data/shuffle_dataset_op.cc:415] Shuffle buffer filled.\n"
     ]
    },
    {
     "name": "stdout",
     "output_type": "stream",
     "text": [
      "113/113 [==============================] - 41s 128ms/step - loss: 0.3521 - mae: 0.4696 - mse: 0.3521 - r_square: 0.1053 - val_loss: 0.3839 - val_mae: 0.4796 - val_mse: 0.3839 - val_r_square: -0.0961\n"
     ]
    },
    {
     "data": {
      "text/plain": [
       "<keras.callbacks.History at 0x7f3d499df910>"
      ]
     },
     "metadata": {},
     "output_type": "display_data"
    }
   ],
   "source": [
    "hypermodel = tuner.hypermodel.build(best_hps)\n",
    "hypermodel.fit(train, epochs=best_epoch, validation_data=test)"
   ]
  },
  {
   "cell_type": "code",
   "execution_count": null,
   "metadata": {},
   "outputs": [
    {
     "name": "stdout",
     "output_type": "stream",
     "text": [
      "[2023-01-23 20:37:42,384] Found untraced functions such as _jit_compiled_convolution_op, _jit_compiled_convolution_op, _jit_compiled_convolution_op, _jit_compiled_convolution_op, _jit_compiled_convolution_op while saving (showing 5 of 9). These functions will not be directly callable after loading.\n",
      "[2023-01-23 20:37:43,560] Assets written to: /home/zvi/Projects/lab/HyperXception/Personality/final/assets\n"
     ]
    },
    {
     "ename": "",
     "evalue": "",
     "output_type": "error",
     "traceback": [
      "\u001b[1;31mThe Kernel crashed while executing code in the the current cell or a previous cell. Please review the code in the cell(s) to identify a possible cause of the failure. Click <a href='https://aka.ms/vscodeJupyterKernelCrash'>here</a> for more info. View Jupyter <a href='command:jupyter.viewOutput'>log</a> for further details."
     ]
    }
   ],
   "source": [
    "hypermodel.save(\"/home/zvi/Projects/lab/HyperXception/Personality/final\")"
   ]
  }
 ],
 "metadata": {
  "kernelspec": {
   "display_name": "venv",
   "language": "python",
   "name": "python3"
  },
  "language_info": {
   "name": "python",
   "version": "3.9.2 (default, Feb 28 2021, 17:03:44) \n[GCC 10.2.1 20210110]"
  },
  "orig_nbformat": 4,
  "vscode": {
   "interpreter": {
    "hash": "9f1b40c36564591940aebde1e984e6d84c633a7e75810aaacff148f3807a2caa"
   }
  }
 },
 "nbformat": 4,
 "nbformat_minor": 2
}
