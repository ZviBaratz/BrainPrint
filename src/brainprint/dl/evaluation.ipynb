{
 "cells": [
  {
   "attachments": {},
   "cell_type": "markdown",
   "metadata": {},
   "source": [
    "# Xception Performance Evaluation"
   ]
  },
  {
   "cell_type": "code",
   "execution_count": 1,
   "metadata": {},
   "outputs": [],
   "source": [
    "from brainprint.dl.load import read_dataset\n",
    "from tensorflow import keras\n",
    "from brainprint.dl.hyperxception import run_hyper_xception"
   ]
  },
  {
   "attachments": {},
   "cell_type": "markdown",
   "metadata": {},
   "source": [
    "## Sex"
   ]
  },
  {
   "cell_type": "code",
   "execution_count": 4,
   "metadata": {},
   "outputs": [
    {
     "name": "stderr",
     "output_type": "stream",
     "text": [
      "2023-01-23 16:58:33.799533: I tensorflow/core/platform/cpu_feature_guard.cc:193] This TensorFlow binary is optimized with oneAPI Deep Neural Network Library (oneDNN) to use the following CPU instructions in performance-critical operations:  AVX2 FMA\n",
      "To enable them in other operations, rebuild TensorFlow with the appropriate compiler flags.\n",
      "2023-01-23 16:58:34.767606: I tensorflow/core/common_runtime/gpu/gpu_device.cc:1532] Created device /job:localhost/replica:0/task:0/device:GPU:0 with 6588 MB memory:  -> device: 0, name: NVIDIA GeForce GTX 1080, pci bus id: 0000:26:00.0, compute capability: 6.1\n"
     ]
    }
   ],
   "source": [
    "sex_model = keras.models.load_model(\"/home/zvi/Projects/lab/HyperXception/Sex/final\")"
   ]
  },
  {
   "cell_type": "code",
   "execution_count": 5,
   "metadata": {},
   "outputs": [],
   "source": [
    "train, validation = read_dataset(target=\"sex\")"
   ]
  },
  {
   "cell_type": "code",
   "execution_count": 1,
   "metadata": {},
   "outputs": [
    {
     "name": "stdout",
     "output_type": "stream",
     "text": [
      "[2023-01-23 17:45:36,252] Reloading Oracle from existing project /home/zvi/Projects/lab/HyperXception/Sex/oracle.json\n"
     ]
    },
    {
     "name": "stderr",
     "output_type": "stream",
     "text": [
      "2023-01-23 17:45:36.447873: I tensorflow/core/platform/cpu_feature_guard.cc:193] This TensorFlow binary is optimized with oneAPI Deep Neural Network Library (oneDNN) to use the following CPU instructions in performance-critical operations:  AVX2 FMA\n",
      "To enable them in other operations, rebuild TensorFlow with the appropriate compiler flags.\n",
      "2023-01-23 17:45:36.909674: I tensorflow/core/common_runtime/gpu/gpu_device.cc:1532] Created device /job:localhost/replica:0/task:0/device:GPU:0 with 6780 MB memory:  -> device: 0, name: NVIDIA GeForce GTX 1080, pci bus id: 0000:26:00.0, compute capability: 6.1\n"
     ]
    },
    {
     "name": "stdout",
     "output_type": "stream",
     "text": [
      "[2023-01-23 17:45:37,221] Reloading Tuner from /home/zvi/Projects/lab/HyperXception/Sex/tuner0.json\n"
     ]
    }
   ],
   "source": [
    "tuner = run_hyper_xception(\n",
    "    target=\"sex\", \n",
    "    early_stopping_patience=None, \n",
    "    executions_per_trial=1, \n",
    "    factor=2, \n",
    "    hyperband_iterations=5, \n",
    "    seed=190, \n",
    "    directory=\"/home/zvi/Projects/lab/HyperXception/\",\n",
    "    run=False,\n",
    ")    "
   ]
  },
  {
   "cell_type": "code",
   "execution_count": 3,
   "metadata": {},
   "outputs": [
    {
     "data": {
      "text/plain": [
       "{'activation': 'selu',\n",
       " 'conv2d_num_filters': 128,\n",
       " 'kernel_size': 3,\n",
       " 'initial_strides': 2,\n",
       " 'sep_num_filters': 256,\n",
       " 'num_residual_blocks': 7,\n",
       " 'pooling': 'flatten',\n",
       " 'learning_rate': 0.0001,\n",
       " 'tuner/epochs': 50,\n",
       " 'tuner/initial_epoch': 25,\n",
       " 'tuner/bracket': 6,\n",
       " 'tuner/round': 5,\n",
       " 'tuner/trial_id': '0141'}"
      ]
     },
     "execution_count": 3,
     "metadata": {},
     "output_type": "execute_result"
    }
   ],
   "source": [
    "tuner.get_best_hyperparameters()[0].values"
   ]
  },
  {
   "cell_type": "code",
   "execution_count": 8,
   "metadata": {},
   "outputs": [
    {
     "name": "stderr",
     "output_type": "stream",
     "text": [
      "2023-01-23 17:04:30.010092: I tensorflow/core/kernels/data/shuffle_dataset_op.cc:390] Filling up shuffle buffer (this may take a while): 339 of 1000\n",
      "2023-01-23 17:04:39.985581: I tensorflow/core/kernels/data/shuffle_dataset_op.cc:390] Filling up shuffle buffer (this may take a while): 652 of 1000\n",
      "2023-01-23 17:04:49.939016: I tensorflow/core/kernels/data/shuffle_dataset_op.cc:415] Shuffle buffer filled.\n"
     ]
    },
    {
     "name": "stdout",
     "output_type": "stream",
     "text": [
      "457/457 [==============================] - 126s 211ms/step - loss: 0.0519 - accuracy: 0.9869\n"
     ]
    },
    {
     "data": {
      "text/plain": [
       "[0.05186903849244118, 0.9868637323379517]"
      ]
     },
     "execution_count": 8,
     "metadata": {},
     "output_type": "execute_result"
    }
   ],
   "source": [
    "sex_model.evaluate(train)"
   ]
  },
  {
   "cell_type": "code",
   "execution_count": 9,
   "metadata": {},
   "outputs": [
    {
     "name": "stdout",
     "output_type": "stream",
     "text": [
      "50/50 [==============================] - 2s 40ms/step - loss: 0.4944 - accuracy: 0.8354\n"
     ]
    },
    {
     "data": {
      "text/plain": [
       "[0.49438604712486267, 0.8354430198669434]"
      ]
     },
     "execution_count": 9,
     "metadata": {},
     "output_type": "execute_result"
    }
   ],
   "source": [
    "sex_model.evaluate(validation)"
   ]
  },
  {
   "attachments": {},
   "cell_type": "markdown",
   "metadata": {},
   "source": [
    "## Age"
   ]
  },
  {
   "cell_type": "code",
   "execution_count": 5,
   "metadata": {},
   "outputs": [],
   "source": [
    "age_model = keras.models.load_model(\"/home/zvi/Projects/lab/HyperXception/Age/final\")"
   ]
  },
  {
   "cell_type": "code",
   "execution_count": 6,
   "metadata": {},
   "outputs": [],
   "source": [
    "train, validation = read_dataset(target=\"age\")"
   ]
  },
  {
   "cell_type": "code",
   "execution_count": 8,
   "metadata": {},
   "outputs": [
    {
     "name": "stdout",
     "output_type": "stream",
     "text": [
      "[2023-01-23 18:00:17,387] Reloading Oracle from existing project /home/zvi/Projects/lab/HyperXception/Age/oracle.json\n",
      "[2023-01-23 18:00:17,824] Reloading Tuner from /home/zvi/Projects/lab/HyperXception/Age/tuner0.json\n"
     ]
    }
   ],
   "source": [
    "tuner = run_hyper_xception(\n",
    "    target=\"age\", \n",
    "    early_stopping_patience=None, \n",
    "    executions_per_trial=1, \n",
    "    factor=2, \n",
    "    hyperband_iterations=5, \n",
    "    seed=4486, \n",
    "    directory=\"/home/zvi/Projects/lab/HyperXception/\",\n",
    "    run=False,\n",
    ")    "
   ]
  },
  {
   "cell_type": "code",
   "execution_count": 9,
   "metadata": {},
   "outputs": [
    {
     "data": {
      "text/plain": [
       "{'activation': 'relu',\n",
       " 'conv2d_num_filters': 128,\n",
       " 'kernel_size': 5,\n",
       " 'initial_strides': 2,\n",
       " 'sep_num_filters': 768,\n",
       " 'num_residual_blocks': 5,\n",
       " 'pooling': 'flatten',\n",
       " 'learning_rate': 1e-05,\n",
       " 'tuner/epochs': 50,\n",
       " 'tuner/initial_epoch': 25,\n",
       " 'tuner/bracket': 6,\n",
       " 'tuner/round': 5,\n",
       " 'tuner/trial_id': '0140'}"
      ]
     },
     "execution_count": 9,
     "metadata": {},
     "output_type": "execute_result"
    }
   ],
   "source": [
    "tuner.get_best_hyperparameters()[0].values"
   ]
  },
  {
   "cell_type": "code",
   "execution_count": 10,
   "metadata": {},
   "outputs": [
    {
     "name": "stderr",
     "output_type": "stream",
     "text": [
      "2023-01-23 18:02:43.218730: I tensorflow/core/kernels/data/shuffle_dataset_op.cc:390] Filling up shuffle buffer (this may take a while): 350 of 1000\n",
      "2023-01-23 18:02:53.234165: I tensorflow/core/kernels/data/shuffle_dataset_op.cc:390] Filling up shuffle buffer (this may take a while): 705 of 1000\n",
      "2023-01-23 18:03:01.673860: I tensorflow/core/kernels/data/shuffle_dataset_op.cc:415] Shuffle buffer filled.\n",
      "2023-01-23 18:03:02.313782: I tensorflow/stream_executor/cuda/cuda_dnn.cc:384] Loaded cuDNN version 8700\n"
     ]
    },
    {
     "name": "stdout",
     "output_type": "stream",
     "text": [
      "457/457 [==============================] - 153s 268ms/step - loss: 2.1929 - mae: 2.1929 - mse: 17.0558 - r_square: 0.8528\n"
     ]
    },
    {
     "data": {
      "text/plain": [
       "[2.192863941192627, 2.192863941192627, 17.055845260620117, 0.8528423309326172]"
      ]
     },
     "execution_count": 10,
     "metadata": {},
     "output_type": "execute_result"
    }
   ],
   "source": [
    "age_model.evaluate(train)"
   ]
  },
  {
   "cell_type": "code",
   "execution_count": 11,
   "metadata": {},
   "outputs": [
    {
     "name": "stdout",
     "output_type": "stream",
     "text": [
      "50/50 [==============================] - 16s 316ms/step - loss: 4.6880 - mae: 4.6880 - mse: 40.1798 - r_square: 0.5578\n"
     ]
    },
    {
     "data": {
      "text/plain": [
       "[4.688023567199707, 4.688023567199707, 40.17980194091797, 0.5577943921089172]"
      ]
     },
     "execution_count": 11,
     "metadata": {},
     "output_type": "execute_result"
    }
   ],
   "source": [
    "age_model.evaluate(validation)"
   ]
  },
  {
   "attachments": {},
   "cell_type": "markdown",
   "metadata": {},
   "source": [
    "## BFI"
   ]
  },
  {
   "cell_type": "code",
   "execution_count": 2,
   "metadata": {},
   "outputs": [
    {
     "name": "stderr",
     "output_type": "stream",
     "text": [
      "2023-01-25 09:59:58.832923: I tensorflow/core/platform/cpu_feature_guard.cc:193] This TensorFlow binary is optimized with oneAPI Deep Neural Network Library (oneDNN) to use the following CPU instructions in performance-critical operations:  AVX2 FMA\n",
      "To enable them in other operations, rebuild TensorFlow with the appropriate compiler flags.\n",
      "2023-01-25 09:59:59.274425: I tensorflow/core/common_runtime/gpu/gpu_device.cc:1532] Created device /job:localhost/replica:0/task:0/device:GPU:0 with 6506 MB memory:  -> device: 0, name: NVIDIA GeForce GTX 1080, pci bus id: 0000:26:00.0, compute capability: 6.1\n"
     ]
    }
   ],
   "source": [
    "bfi_model = keras.models.load_model(\"/home/zvi/Projects/lab/HyperXception/Personality/final\")"
   ]
  },
  {
   "cell_type": "code",
   "execution_count": 3,
   "metadata": {},
   "outputs": [],
   "source": [
    "train, validation, test = read_dataset(target=\"personality\")"
   ]
  },
  {
   "cell_type": "code",
   "execution_count": 4,
   "metadata": {},
   "outputs": [
    {
     "name": "stdout",
     "output_type": "stream",
     "text": [
      "[2023-01-25 10:00:09,313] Reloading Oracle from existing project /home/zvi/Projects/lab/HyperXception/Personality/oracle.json\n",
      "[2023-01-25 10:00:09,888] Reloading Tuner from /home/zvi/Projects/lab/HyperXception/Personality/tuner0.json\n"
     ]
    }
   ],
   "source": [
    "tuner = run_hyper_xception(\n",
    "    target=\"personality\", \n",
    "    seed=0, \n",
    "    directory=\"/home/zvi/Projects/lab/HyperXception/\",\n",
    "    run=False,\n",
    ")    "
   ]
  },
  {
   "cell_type": "code",
   "execution_count": 5,
   "metadata": {},
   "outputs": [
    {
     "data": {
      "text/plain": [
       "{'activation': 'relu',\n",
       " 'conv2d_num_filters': 32,\n",
       " 'kernel_size': 5,\n",
       " 'initial_strides': 2,\n",
       " 'sep_num_filters': 128,\n",
       " 'num_residual_blocks': 6,\n",
       " 'pooling': 'avg',\n",
       " 'learning_rate': 1e-05,\n",
       " 'tuner/epochs': 100,\n",
       " 'tuner/initial_epoch': 34,\n",
       " 'tuner/bracket': 1,\n",
       " 'tuner/round': 1,\n",
       " 'tuner/trial_id': '0239'}"
      ]
     },
     "execution_count": 5,
     "metadata": {},
     "output_type": "execute_result"
    }
   ],
   "source": [
    "tuner.get_best_hyperparameters()[0].values"
   ]
  },
  {
   "cell_type": "code",
   "execution_count": 6,
   "metadata": {},
   "outputs": [
    {
     "name": "stderr",
     "output_type": "stream",
     "text": [
      "2023-01-24 16:51:43.735868: I tensorflow/core/kernels/data/shuffle_dataset_op.cc:390] Filling up shuffle buffer (this may take a while): 293 of 1000\n",
      "2023-01-24 16:51:53.720342: I tensorflow/core/kernels/data/shuffle_dataset_op.cc:390] Filling up shuffle buffer (this may take a while): 581 of 1000\n",
      "2023-01-24 16:52:03.722641: I tensorflow/core/kernels/data/shuffle_dataset_op.cc:390] Filling up shuffle buffer (this may take a while): 889 of 1000\n",
      "2023-01-24 16:52:03.984207: I tensorflow/core/kernels/data/shuffle_dataset_op.cc:415] Shuffle buffer filled.\n",
      "2023-01-24 16:52:04.439846: I tensorflow/stream_executor/cuda/cuda_dnn.cc:384] Loaded cuDNN version 8700\n"
     ]
    },
    {
     "name": "stdout",
     "output_type": "stream",
     "text": [
      "113/113 [==============================] - 38s 51ms/step - loss: 0.3468 - mae: 0.4641 - mse: 0.3468 - r_square: 0.1142\n"
     ]
    },
    {
     "data": {
      "text/plain": [
       "[0.34683001041412354,\n",
       " 0.46410083770751953,\n",
       " 0.34683001041412354,\n",
       " 0.11424579471349716]"
      ]
     },
     "execution_count": 6,
     "metadata": {},
     "output_type": "execute_result"
    }
   ],
   "source": [
    "bfi_model.evaluate(train)"
   ]
  },
  {
   "cell_type": "code",
   "execution_count": 7,
   "metadata": {},
   "outputs": [
    {
     "name": "stdout",
     "output_type": "stream",
     "text": [
      "25/25 [==============================] - 6s 254ms/step - loss: 0.3839 - mae: 0.4796 - mse: 0.3839 - r_square: -0.0961\n"
     ]
    },
    {
     "data": {
      "text/plain": [
       "[0.38389861583709717,\n",
       " 0.4795987010002136,\n",
       " 0.38389861583709717,\n",
       " -0.09605453163385391]"
      ]
     },
     "execution_count": 7,
     "metadata": {},
     "output_type": "execute_result"
    }
   ],
   "source": [
    "bfi_model.evaluate(validation)"
   ]
  },
  {
   "cell_type": "code",
   "execution_count": 6,
   "metadata": {},
   "outputs": [
    {
     "name": "stderr",
     "output_type": "stream",
     "text": [
      "2023-01-25 10:00:18.578127: I tensorflow/stream_executor/cuda/cuda_dnn.cc:384] Loaded cuDNN version 8700\n"
     ]
    },
    {
     "name": "stdout",
     "output_type": "stream",
     "text": [
      "20/20 [==============================] - 7s 267ms/step - loss: 0.4252 - mae: 0.5032 - mse: 0.4252 - r_square: -0.0579\n"
     ]
    },
    {
     "data": {
      "text/plain": [
       "[0.42519596219062805,\n",
       " 0.5031996965408325,\n",
       " 0.42519596219062805,\n",
       " -0.05791951343417168]"
      ]
     },
     "execution_count": 6,
     "metadata": {},
     "output_type": "execute_result"
    }
   ],
   "source": [
    "bfi_model.evaluate(test)"
   ]
  }
 ],
 "metadata": {
  "kernelspec": {
   "display_name": "venv",
   "language": "python",
   "name": "python3"
  },
  "language_info": {
   "codemirror_mode": {
    "name": "ipython",
    "version": 3
   },
   "file_extension": ".py",
   "mimetype": "text/x-python",
   "name": "python",
   "nbconvert_exporter": "python",
   "pygments_lexer": "ipython3",
   "version": "3.9.2 (default, Feb 28 2021, 17:03:44) \n[GCC 10.2.1 20210110]"
  },
  "orig_nbformat": 4,
  "vscode": {
   "interpreter": {
    "hash": "9f1b40c36564591940aebde1e984e6d84c633a7e75810aaacff148f3807a2caa"
   }
  }
 },
 "nbformat": 4,
 "nbformat_minor": 2
}
