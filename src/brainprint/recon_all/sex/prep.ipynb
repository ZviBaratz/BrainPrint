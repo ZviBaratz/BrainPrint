{
 "cells": [
  {
   "cell_type": "markdown",
   "id": "d698a5db-237e-465d-99b1-10582ff32683",
   "metadata": {},
   "source": [
    "# Data Preparation"
   ]
  },
  {
   "cell_type": "code",
   "execution_count": 1,
   "id": "855fbdee-ab6f-4ea0-b27c-03436a1cd143",
   "metadata": {},
   "outputs": [],
   "source": [
    "from brainprint.recon_all.execution_configuration import ExecutionConfiguration\n",
    "from brainprint.recon_all.results import load_results"
   ]
  },
  {
   "cell_type": "markdown",
   "id": "be5453d9-e6d8-4a08-b074-107f56bcbdd3",
   "metadata": {},
   "source": [
    "## Load Results"
   ]
  },
  {
   "cell_type": "code",
   "execution_count": 2,
   "id": "a35ce38b-394a-45de-95e2-98b6883c69c7",
   "metadata": {},
   "outputs": [
    {
     "name": "stdout",
     "output_type": "stream",
     "text": [
      "[2022-06-22 17:22:32,191] \u001b[3mSuccessfully read \u001b[1m3914\u001b[22m recon-all execution results from /home/zvi/Projects/brainprint/data/results.csv.\u001b[23m\n",
      "[2022-06-22 17:22:32,204] \u001b[3mSuccessfully read \u001b[1m3914\u001b[22m recon-all execution configurations from /home/zvi/Projects/brainprint/data/configurations.csv.\u001b[23m\n",
      "[2022-06-22 17:22:32,238] \u001b[3mSuccessfully read \u001b[1m3914\u001b[22m scan research context and metadata from /home/zvi/Projects/brainprint/data/context.csv.\u001b[23m\n",
      "[2022-06-22 17:22:32,465] \u001b[44mFiltering 3914 recon-all results\u001b[0m\n",
      "[2022-06-22 17:22:32,480] \u001b[1m1559\u001b[22m/3914 recon-all results matching \u001b[95m[<Protocol.BASE: 'The Base (corrected)'>]\u001b[0m detected.\n",
      "[2022-06-22 17:22:32,499] \u001b[93mPARTIAL ATLAS RESULTS\u001b[0m! Selecting \u001b[94mAtlas.DESTRIEUX\u001b[0m atlas results from \u001b[1m1559\u001b[0m recon-all runs returned \u001b[1m1557\u001b[0m rows (\u001b[91m2\u001b[0m runs dropped).\n",
      "[2022-06-22 17:22:32,505] \u001b[1m1140\u001b[22m/1557 recon-all results matching \u001b[96m['Default Configuration', 'With T2', 'With FLAIR']\u001b[0m detected.\n",
      "[2022-06-22 17:22:32,507] \u001b[1m\u001b[92m1140\u001b[0m\u001b[22m/3914 recon-all runs selected.\n"
     ]
    }
   ],
   "source": [
    "results = load_results()"
   ]
  },
  {
   "cell_type": "markdown",
   "id": "d244986e-e166-4b53-a121-a3f86a483e54",
   "metadata": {},
   "source": [
    "Select one scan per subject from scans that completed all preprocessing configurations and split to train and test sets:"
   ]
  },
  {
   "cell_type": "markdown",
   "id": "511c91ff-284b-488f-a2eb-6253fed30a41",
   "metadata": {},
   "source": [
    "## Train/Test Split"
   ]
  },
  {
   "cell_type": "markdown",
   "id": "983b88a2-7b22-4965-a269-c119dead1e8b",
   "metadata": {},
   "source": [
    "Split dataset into train and test dataset by scan ID:"
   ]
  },
  {
   "cell_type": "code",
   "execution_count": 8,
   "id": "f501cfa3-d3eb-4897-8018-ef6a0e49fa79",
   "metadata": {},
   "outputs": [
    {
     "name": "stdout",
     "output_type": "stream",
     "text": [
      "[2022-06-22 17:31:56,457] Successfully selected \u001b[1m106\u001b[22m scans with all 3 recon-all execution configuration results.\n",
      "[2022-06-22 17:31:56,477] Successfully selected \u001b[1m243\u001b[22m runs from a total of \u001b[1m81\u001b[22m scans belonging to \u001b[1m81\u001b[22m subjects.\n",
      "[2022-06-22 17:31:56,479] \u001b[44mFiltering 1140 recon-all results\u001b[0m\n",
      "[2022-06-22 17:31:56,485] \u001b[1m793\u001b[22m/1140 recon-all results matching \u001b[96m['Default Configuration']\u001b[0m detected.\n",
      "[2022-06-22 17:31:56,489] Successfully selected \u001b[1m64\u001b[22m/\u001b[1m793\u001b[22m runs from a total of \u001b[1m64\u001b[22m scans belonging to \u001b[1m64\u001b[22m subjects.\n",
      "[2022-06-22 17:31:56,490] \u001b[1m\u001b[92m64\u001b[0m\u001b[22m/1140 recon-all runs selected.\n",
      "[2022-06-22 17:31:56,492] \u001b[44mFiltering 1140 recon-all results\u001b[0m\n",
      "[2022-06-22 17:31:56,499] \u001b[1m793\u001b[22m/1140 recon-all results matching \u001b[96m['Default Configuration']\u001b[0m detected.\n",
      "[2022-06-22 17:31:56,503] Successfully selected \u001b[1m17\u001b[22m/\u001b[1m793\u001b[22m runs from a total of \u001b[1m17\u001b[22m scans belonging to \u001b[1m17\u001b[22m subjects.\n",
      "[2022-06-22 17:31:56,504] \u001b[1m\u001b[92m17\u001b[0m\u001b[22m/1140 recon-all runs selected.\n",
      "[2022-06-22 17:31:56,510] Successfully selected \u001b[1m106\u001b[22m scans with all 3 recon-all execution configuration results.\n",
      "[2022-06-22 17:31:56,524] Successfully selected \u001b[1m243\u001b[22m runs from a total of \u001b[1m81\u001b[22m scans belonging to \u001b[1m81\u001b[22m subjects.\n",
      "[2022-06-22 17:31:56,526] \u001b[44mFiltering 1140 recon-all results\u001b[0m\n",
      "[2022-06-22 17:31:56,531] \u001b[1m181\u001b[22m/1140 recon-all results matching \u001b[96m['With T2']\u001b[0m detected.\n",
      "[2022-06-22 17:31:56,535] Successfully selected \u001b[1m64\u001b[22m/\u001b[1m181\u001b[22m runs from a total of \u001b[1m64\u001b[22m scans belonging to \u001b[1m64\u001b[22m subjects.\n",
      "[2022-06-22 17:31:56,536] \u001b[1m\u001b[92m64\u001b[0m\u001b[22m/1140 recon-all runs selected.\n",
      "[2022-06-22 17:31:56,536] \u001b[44mFiltering 1140 recon-all results\u001b[0m\n",
      "[2022-06-22 17:31:56,541] \u001b[1m181\u001b[22m/1140 recon-all results matching \u001b[96m['With T2']\u001b[0m detected.\n",
      "[2022-06-22 17:31:56,544] Successfully selected \u001b[1m17\u001b[22m/\u001b[1m181\u001b[22m runs from a total of \u001b[1m17\u001b[22m scans belonging to \u001b[1m17\u001b[22m subjects.\n",
      "[2022-06-22 17:31:56,545] \u001b[1m\u001b[92m17\u001b[0m\u001b[22m/1140 recon-all runs selected.\n",
      "[2022-06-22 17:31:56,549] Successfully selected \u001b[1m106\u001b[22m scans with all 3 recon-all execution configuration results.\n",
      "[2022-06-22 17:31:56,564] Successfully selected \u001b[1m243\u001b[22m runs from a total of \u001b[1m81\u001b[22m scans belonging to \u001b[1m81\u001b[22m subjects.\n",
      "[2022-06-22 17:31:56,566] \u001b[44mFiltering 1140 recon-all results\u001b[0m\n",
      "[2022-06-22 17:31:56,571] \u001b[1m166\u001b[22m/1140 recon-all results matching \u001b[96m['With FLAIR']\u001b[0m detected.\n",
      "[2022-06-22 17:31:56,574] Successfully selected \u001b[1m64\u001b[22m/\u001b[1m166\u001b[22m runs from a total of \u001b[1m64\u001b[22m scans belonging to \u001b[1m64\u001b[22m subjects.\n",
      "[2022-06-22 17:31:56,575] \u001b[1m\u001b[92m64\u001b[0m\u001b[22m/1140 recon-all runs selected.\n",
      "[2022-06-22 17:31:56,576] \u001b[44mFiltering 1140 recon-all results\u001b[0m\n",
      "[2022-06-22 17:31:56,579] \u001b[1m166\u001b[22m/1140 recon-all results matching \u001b[96m['With FLAIR']\u001b[0m detected.\n",
      "[2022-06-22 17:31:56,582] Successfully selected \u001b[1m17\u001b[22m/\u001b[1m166\u001b[22m runs from a total of \u001b[1m17\u001b[22m scans belonging to \u001b[1m17\u001b[22m subjects.\n",
      "[2022-06-22 17:31:56,582] \u001b[1m\u001b[92m17\u001b[0m\u001b[22m/1140 recon-all runs selected.\n"
     ]
    }
   ],
   "source": [
    "for execution_configuration in results.configuration:\n",
    "    X_train, X_test, y_train, y_test = results.split(execution_configuration=execution_configuration, \n",
    "                                                     all_configurations=True, \n",
    "                                                     single_mode=\"last\", \n",
    "                                                     test_size=0.2, \n",
    "                                                     random_state=0)"
   ]
  }
 ],
 "metadata": {
  "kernelspec": {
   "display_name": "brainprint",
   "language": "python",
   "name": "brainprint"
  },
  "language_info": {
   "codemirror_mode": {
    "name": "ipython",
    "version": 3
   },
   "file_extension": ".py",
   "mimetype": "text/x-python",
   "name": "python",
   "nbconvert_exporter": "python",
   "pygments_lexer": "ipython3",
   "version": "3.9.2"
  }
 },
 "nbformat": 4,
 "nbformat_minor": 5
}
