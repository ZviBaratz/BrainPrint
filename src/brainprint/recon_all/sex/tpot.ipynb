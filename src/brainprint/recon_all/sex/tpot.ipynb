{
 "cells": [
  {
   "cell_type": "markdown",
   "id": "29181fb2-977f-49b5-a081-ce968ef92bea",
   "metadata": {},
   "source": [
    "# Sex Prediction with `TPOT`"
   ]
  },
  {
   "cell_type": "code",
   "execution_count": 1,
   "id": "f0b5f8c9-0aa8-42c7-ba9e-23b61d56c366",
   "metadata": {},
   "outputs": [],
   "source": [
    "from brainprint.recon_all.execution_configuration import ExecutionConfiguration\n",
    "from brainprint.atlas import Atlas\n",
    "from brainprint.protocol import Protocol\n",
    "from brainprint.recon_all.results import ReconAllResults\n",
    "from tpot import TPOTClassifier\n",
    "from tpot import decorators\n",
    "from sklearn.exceptions import NotFittedError\n",
    "from sklearn.model_selection import StratifiedKFold\n",
    "from sklearn.preprocessing import LabelEncoder\n",
    "decorators.MAX_EVAL_SECS = 600 # Required to prevent stopit.utils.TimeoutException"
   ]
  },
  {
   "cell_type": "code",
   "execution_count": 2,
   "id": "23d818b6-9b18-424f-bac6-63f11cf845e1",
   "metadata": {},
   "outputs": [
    {
     "name": "stdout",
     "output_type": "stream",
     "text": [
      "[2022-08-02 09:32:21,770] \u001b[3mSuccessfully read \u001b[1m5403\u001b[22m recon-all execution results from /home/zvi/Projects/brainprint/data/results.csv.\u001b[23m\n",
      "[2022-08-02 09:32:21,790] \u001b[3mSuccessfully read \u001b[1m5403\u001b[22m recon-all execution configurations from /home/zvi/Projects/brainprint/data/configurations.csv.\u001b[23m\n",
      "[2022-08-02 09:32:21,834] \u001b[3mSuccessfully read \u001b[1m5403\u001b[22m scan research context and metadata from /home/zvi/Projects/brainprint/data/context.csv.\u001b[23m\n",
      "[2022-08-02 09:32:22,238] \u001b[44mFiltering 5403 recon-all results\u001b[0m\n",
      "[2022-08-02 09:32:22,240] \u001b[1m2919\u001b[22m/5403 recon-all results matching \u001b[95m['The Base (corrected)']\u001b[0m detected.\n",
      "[2022-08-02 09:32:22,244] \u001b[1m2221\u001b[22m/2919 recon-all results matching \u001b[96m['Default', 'T2', 'FLAIR', 'FLAIR + MPRAGE + 3T', 'T2 + MPRAGE + 3T']\u001b[0m detected.\n",
      "[2022-08-02 09:32:22,251] Successfully selected \u001b[1m1520 runs\u001b[22m from \u001b[1m304 scans\u001b[22m with all \u001b[3m5\u001b[23m recon-all execution configuration results.\n",
      "[2022-08-02 09:32:22,254] \u001b[1m\u001b[92m1520\u001b[0m\u001b[22m/5403 recon-all runs selected.\n",
      "[2022-08-02 09:32:22,273] \u001b[93mPARTIAL ATLAS RESULTS\u001b[0m! Selecting \u001b[94mAtlas.DESTRIEUX\u001b[0m atlas results from \u001b[1m1520\u001b[0m recon-all runs returned \u001b[1m1518\u001b[0m rows (\u001b[91m2\u001b[0m runs dropped).\n"
     ]
    }
   ],
   "source": [
    "configurations = [\n",
    "    ExecutionConfiguration.DEFAULT, \n",
    "    ExecutionConfiguration.T2, \n",
    "    ExecutionConfiguration.FLAIR, \n",
    "    ExecutionConfiguration.MPRAGE_AND_3T_AND_FLAIR, \n",
    "    ExecutionConfiguration.MPRAGE_AND_3T_AND_T2\n",
    "]\n",
    "results = ReconAllResults(configuration=configurations, \n",
    "                          atlas=Atlas.DESTRIEUX, \n",
    "                          protocol=Protocol.BASE, \n",
    "                          completed_only=True, \n",
    "                          multi_only=False, \n",
    "                          questionnaire_only=False)"
   ]
  },
  {
   "cell_type": "code",
   "execution_count": null,
   "id": "d88ffcde-19a7-4dcf-a2c0-1a1b339901c4",
   "metadata": {},
   "outputs": [
    {
     "name": "stdout",
     "output_type": "stream",
     "text": [
      "[2022-08-02 09:32:22,305] Successfully selected \u001b[1m830\u001b[22m runs from a total of \u001b[1m166\u001b[22m scans belonging to \u001b[1m166\u001b[22m subjects.\n",
      "[2022-08-02 09:32:22,307] \u001b[44mFiltering 1518 recon-all results\u001b[0m\n",
      "[2022-08-02 09:32:22,310] \u001b[1m304\u001b[22m/1518 recon-all results matching \u001b[96m['Default']\u001b[0m detected.\n",
      "[2022-08-02 09:32:22,312] Successfully selected \u001b[1m132\u001b[22m/\u001b[1m304\u001b[22m runs from a total of \u001b[1m132\u001b[22m scans belonging to \u001b[1m132\u001b[22m subjects.\n",
      "[2022-08-02 09:32:22,315] \u001b[1m\u001b[92m132\u001b[0m\u001b[22m/1518 recon-all runs selected.\n",
      "[2022-08-02 09:32:22,317] \u001b[44mFiltering 1518 recon-all results\u001b[0m\n",
      "[2022-08-02 09:32:22,320] \u001b[1m304\u001b[22m/1518 recon-all results matching \u001b[96m['Default']\u001b[0m detected.\n",
      "[2022-08-02 09:32:22,322] Successfully selected \u001b[1m34\u001b[22m/\u001b[1m304\u001b[22m runs from a total of \u001b[1m34\u001b[22m scans belonging to \u001b[1m34\u001b[22m subjects.\n",
      "[2022-08-02 09:32:22,324] \u001b[1m\u001b[92m34\u001b[0m\u001b[22m/1518 recon-all runs selected.\n"
     ]
    },
    {
     "data": {
      "application/vnd.jupyter.widget-view+json": {
       "model_id": "6b218a89ff6742188a1ca1387f36ba2c",
       "version_major": 2,
       "version_minor": 0
      },
      "text/plain": [
       "Optimization Progress:   0%|          | 0/100 [00:00<?, ?pipeline/s]"
      ]
     },
     "metadata": {},
     "output_type": "display_data"
    },
    {
     "name": "stdout",
     "output_type": "stream",
     "text": [
      "\n",
      "Best pipeline: LogisticRegression(RobustScaler(RobustScaler(BernoulliNB(OneHotEncoder(SGDClassifier(SelectPercentile(SGDClassifier(input_matrix, alpha=0.001, eta0=0.1, fit_intercept=True, l1_ratio=1.0, learning_rate=invscaling, loss=perceptron, penalty=elasticnet, power_t=0.1), percentile=80), alpha=0.0, eta0=1.0, fit_intercept=True, l1_ratio=1.0, learning_rate=invscaling, loss=hinge, penalty=elasticnet, power_t=0.5), minimum_fraction=0.05, sparse=False, threshold=10), alpha=10.0, fit_prior=True))), C=25.0, dual=False, penalty=l2)\n",
      "Train score for ExecutionConfiguration.DEFAULT: 1.0\n",
      "Test score for ExecutionConfiguration.DEFAULT: 0.8385964912280701\n",
      "\n",
      "\n",
      "\n",
      "[2022-08-02 16:13:42,361] Successfully selected \u001b[1m830\u001b[22m runs from a total of \u001b[1m166\u001b[22m scans belonging to \u001b[1m166\u001b[22m subjects.\n",
      "[2022-08-02 16:13:42,362] \u001b[44mFiltering 1518 recon-all results\u001b[0m\n",
      "[2022-08-02 16:13:42,365] \u001b[1m304\u001b[22m/1518 recon-all results matching \u001b[96m['T2']\u001b[0m detected.\n",
      "[2022-08-02 16:13:42,367] Successfully selected \u001b[1m132\u001b[22m/\u001b[1m304\u001b[22m runs from a total of \u001b[1m132\u001b[22m scans belonging to \u001b[1m132\u001b[22m subjects.\n",
      "[2022-08-02 16:13:42,369] \u001b[1m\u001b[92m132\u001b[0m\u001b[22m/1518 recon-all runs selected.\n",
      "[2022-08-02 16:13:42,372] \u001b[44mFiltering 1518 recon-all results\u001b[0m\n",
      "[2022-08-02 16:13:42,374] \u001b[1m304\u001b[22m/1518 recon-all results matching \u001b[96m['T2']\u001b[0m detected.\n",
      "[2022-08-02 16:13:42,377] Successfully selected \u001b[1m34\u001b[22m/\u001b[1m304\u001b[22m runs from a total of \u001b[1m34\u001b[22m scans belonging to \u001b[1m34\u001b[22m subjects.\n",
      "[2022-08-02 16:13:42,379] \u001b[1m\u001b[92m34\u001b[0m\u001b[22m/1518 recon-all runs selected.\n"
     ]
    },
    {
     "data": {
      "application/vnd.jupyter.widget-view+json": {
       "model_id": "1661abd2c1a94383b924c48548cc4aad",
       "version_major": 2,
       "version_minor": 0
      },
      "text/plain": [
       "Optimization Progress:   0%|          | 0/100 [00:00<?, ?pipeline/s]"
      ]
     },
     "metadata": {},
     "output_type": "display_data"
    },
    {
     "name": "stdout",
     "output_type": "stream",
     "text": [
      "\n",
      "Best pipeline: MLPClassifier(PCA(MinMaxScaler(input_matrix), iterated_power=9, svd_solver=randomized), alpha=0.0001, learning_rate_init=0.001)\n",
      "Train score for ExecutionConfiguration.T2: 1.0\n",
      "Test score for ExecutionConfiguration.T2: 0.8456140350877193\n",
      "\n",
      "\n",
      "\n",
      "[2022-08-02 22:42:00,913] Successfully selected \u001b[1m830\u001b[22m runs from a total of \u001b[1m166\u001b[22m scans belonging to \u001b[1m166\u001b[22m subjects.\n",
      "[2022-08-02 22:42:00,915] \u001b[44mFiltering 1518 recon-all results\u001b[0m\n",
      "[2022-08-02 22:42:00,917] \u001b[1m304\u001b[22m/1518 recon-all results matching \u001b[96m['FLAIR']\u001b[0m detected.\n",
      "[2022-08-02 22:42:00,919] Successfully selected \u001b[1m132\u001b[22m/\u001b[1m304\u001b[22m runs from a total of \u001b[1m132\u001b[22m scans belonging to \u001b[1m132\u001b[22m subjects.\n",
      "[2022-08-02 22:42:00,922] \u001b[1m\u001b[92m132\u001b[0m\u001b[22m/1518 recon-all runs selected.\n",
      "[2022-08-02 22:42:00,924] \u001b[44mFiltering 1518 recon-all results\u001b[0m\n",
      "[2022-08-02 22:42:00,927] \u001b[1m304\u001b[22m/1518 recon-all results matching \u001b[96m['FLAIR']\u001b[0m detected.\n",
      "[2022-08-02 22:42:00,930] Successfully selected \u001b[1m34\u001b[22m/\u001b[1m304\u001b[22m runs from a total of \u001b[1m34\u001b[22m scans belonging to \u001b[1m34\u001b[22m subjects.\n",
      "[2022-08-02 22:42:00,932] \u001b[1m\u001b[92m34\u001b[0m\u001b[22m/1518 recon-all runs selected.\n"
     ]
    },
    {
     "data": {
      "application/vnd.jupyter.widget-view+json": {
       "model_id": "b8504afe915544be989765f9129de8e5",
       "version_major": 2,
       "version_minor": 0
      },
      "text/plain": [
       "Optimization Progress:   0%|          | 0/100 [00:00<?, ?pipeline/s]"
      ]
     },
     "metadata": {},
     "output_type": "display_data"
    },
    {
     "name": "stdout",
     "output_type": "stream",
     "text": [
      "\n",
      "Best pipeline: LinearSVC(DecisionTreeClassifier(StandardScaler(StandardScaler(RFE(input_matrix, criterion=entropy, max_features=0.55, n_estimators=100, step=1.0))), criterion=gini, max_depth=3, min_samples_leaf=5, min_samples_split=13), C=0.01, dual=True, loss=hinge, penalty=l2, tol=0.01)\n",
      "Train score for ExecutionConfiguration.FLAIR: 1.0\n",
      "Test score for ExecutionConfiguration.FLAIR: 0.7649122807017544\n",
      "\n",
      "\n",
      "\n",
      "[2022-08-03 04:49:48,168] Successfully selected \u001b[1m830\u001b[22m runs from a total of \u001b[1m166\u001b[22m scans belonging to \u001b[1m166\u001b[22m subjects.\n",
      "[2022-08-03 04:49:48,169] \u001b[44mFiltering 1518 recon-all results\u001b[0m\n",
      "[2022-08-03 04:49:48,171] \u001b[1m303\u001b[22m/1518 recon-all results matching \u001b[96m['FLAIR + MPRAGE + 3T']\u001b[0m detected.\n",
      "[2022-08-03 04:49:48,175] Successfully selected \u001b[1m132\u001b[22m/\u001b[1m303\u001b[22m runs from a total of \u001b[1m132\u001b[22m scans belonging to \u001b[1m132\u001b[22m subjects.\n",
      "[2022-08-03 04:49:48,177] \u001b[1m\u001b[92m132\u001b[0m\u001b[22m/1518 recon-all runs selected.\n",
      "[2022-08-03 04:49:48,180] \u001b[44mFiltering 1518 recon-all results\u001b[0m\n",
      "[2022-08-03 04:49:48,182] \u001b[1m303\u001b[22m/1518 recon-all results matching \u001b[96m['FLAIR + MPRAGE + 3T']\u001b[0m detected.\n",
      "[2022-08-03 04:49:48,184] Successfully selected \u001b[1m34\u001b[22m/\u001b[1m303\u001b[22m runs from a total of \u001b[1m34\u001b[22m scans belonging to \u001b[1m34\u001b[22m subjects.\n",
      "[2022-08-03 04:49:48,185] \u001b[1m\u001b[92m34\u001b[0m\u001b[22m/1518 recon-all runs selected.\n"
     ]
    },
    {
     "data": {
      "application/vnd.jupyter.widget-view+json": {
       "model_id": "1f776800434b4a0587be6504a33fa7b7",
       "version_major": 2,
       "version_minor": 0
      },
      "text/plain": [
       "Optimization Progress:   0%|          | 0/100 [00:00<?, ?pipeline/s]"
      ]
     },
     "metadata": {},
     "output_type": "display_data"
    },
    {
     "name": "stdout",
     "output_type": "stream",
     "text": [
      "\n",
      "Best pipeline: XGBClassifier(MaxAbsScaler(RobustScaler(VarianceThreshold(VarianceThreshold(input_matrix, threshold=0.001), threshold=0.0005))), learning_rate=0.1, max_depth=10, min_child_weight=5, n_estimators=100, n_jobs=1, subsample=0.6500000000000001, verbosity=0)\n",
      "Train score for ExecutionConfiguration.MPRAGE_AND_3T_AND_FLAIR: 1.0\n",
      "Test score for ExecutionConfiguration.MPRAGE_AND_3T_AND_FLAIR: 0.7298245614035088\n",
      "\n",
      "\n",
      "\n",
      "[2022-08-03 10:53:09,954] Successfully selected \u001b[1m830\u001b[22m runs from a total of \u001b[1m166\u001b[22m scans belonging to \u001b[1m166\u001b[22m subjects.\n",
      "[2022-08-03 10:53:09,957] \u001b[44mFiltering 1518 recon-all results\u001b[0m\n",
      "[2022-08-03 10:53:09,959] \u001b[1m303\u001b[22m/1518 recon-all results matching \u001b[96m['T2 + MPRAGE + 3T']\u001b[0m detected.\n",
      "[2022-08-03 10:53:09,963] Successfully selected \u001b[1m132\u001b[22m/\u001b[1m303\u001b[22m runs from a total of \u001b[1m132\u001b[22m scans belonging to \u001b[1m132\u001b[22m subjects.\n",
      "[2022-08-03 10:53:09,965] \u001b[1m\u001b[92m132\u001b[0m\u001b[22m/1518 recon-all runs selected.\n",
      "[2022-08-03 10:53:09,967] \u001b[44mFiltering 1518 recon-all results\u001b[0m\n",
      "[2022-08-03 10:53:09,969] \u001b[1m303\u001b[22m/1518 recon-all results matching \u001b[96m['T2 + MPRAGE + 3T']\u001b[0m detected.\n",
      "[2022-08-03 10:53:09,971] Successfully selected \u001b[1m34\u001b[22m/\u001b[1m303\u001b[22m runs from a total of \u001b[1m34\u001b[22m scans belonging to \u001b[1m34\u001b[22m subjects.\n",
      "[2022-08-03 10:53:09,974] \u001b[1m\u001b[92m34\u001b[0m\u001b[22m/1518 recon-all runs selected.\n"
     ]
    },
    {
     "data": {
      "application/vnd.jupyter.widget-view+json": {
       "model_id": "7391827c9b154ab588a5f165c1e897ff",
       "version_major": 2,
       "version_minor": 0
      },
      "text/plain": [
       "Optimization Progress:   0%|          | 0/100 [00:00<?, ?pipeline/s]"
      ]
     },
     "metadata": {},
     "output_type": "display_data"
    },
    {
     "name": "stdout",
     "output_type": "stream",
     "text": [
      "[2022-08-03 12:51:13,736] Code block execution exceeded 600 seconds timeout\n",
      "Traceback (most recent call last):\n",
      "  File \"/home/zvi/Projects/brainprint/venv/lib/python3.9/site-packages/stopit/utils.py\", line 145, in wrapper\n",
      "    result = func(*args, **kwargs)\n",
      "  File \"/home/zvi/Projects/tpot/tpot/decorators.py\", line 57, in time_limited_call\n",
      "    func(*args)\n",
      "  File \"/home/zvi/Projects/brainprint/venv/lib/python3.9/site-packages/sklearn/pipeline.py\", line 382, in fit\n",
      "    self._final_estimator.fit(Xt, y, **fit_params_last_step)\n",
      "  File \"/home/zvi/Projects/brainprint/venv/lib/python3.9/site-packages/sklearn/ensemble/_forest.py\", line 476, in fit\n",
      "    trees = Parallel(\n",
      "  File \"/home/zvi/Projects/brainprint/venv/lib/python3.9/site-packages/joblib/parallel.py\", line 1046, in __call__\n",
      "    while self.dispatch_one_batch(iterator):\n",
      "  File \"/home/zvi/Projects/brainprint/venv/lib/python3.9/site-packages/joblib/parallel.py\", line 861, in dispatch_one_batch\n",
      "    self._dispatch(tasks)\n",
      "  File \"/home/zvi/Projects/brainprint/venv/lib/python3.9/site-packages/joblib/parallel.py\", line 779, in _dispatch\n",
      "    job = self._backend.apply_async(batch, callback=cb)\n",
      "  File \"/home/zvi/Projects/brainprint/venv/lib/python3.9/site-packages/joblib/_parallel_backends.py\", line 208, in apply_async\n",
      "    result = ImmediateResult(func)\n",
      "  File \"/home/zvi/Projects/brainprint/venv/lib/python3.9/site-packages/joblib/_parallel_backends.py\", line 572, in __init__\n",
      "    self.results = batch()\n",
      "  File \"/home/zvi/Projects/brainprint/venv/lib/python3.9/site-packages/joblib/parallel.py\", line 262, in __call__\n",
      "    return [func(*args, **kwargs)\n",
      "  File \"/home/zvi/Projects/brainprint/venv/lib/python3.9/site-packages/joblib/parallel.py\", line 262, in <listcomp>\n",
      "    return [func(*args, **kwargs)\n",
      "  File \"/home/zvi/Projects/brainprint/venv/lib/python3.9/site-packages/sklearn/utils/fixes.py\", line 117, in __call__\n",
      "    return self.function(*args, **kwargs)\n",
      "  File \"/home/zvi/Projects/brainprint/venv/lib/python3.9/site-packages/sklearn/ensemble/_forest.py\", line 189, in _parallel_build_trees\n",
      "    tree.fit(X, y, sample_weight=curr_sample_weight, check_input=False)\n",
      "  File \"/home/zvi/Projects/brainprint/venv/lib/python3.9/site-packages/sklearn/tree/_classes.py\", line 969, in fit\n",
      "    super().fit(\n",
      "  File \"/home/zvi/Projects/brainprint/venv/lib/python3.9/site-packages/sklearn/tree/_classes.py\", line 458, in fit\n",
      "    builder.build(self.tree_, X, y, sample_weight)\n",
      "stopit.utils.TimeoutException\n"
     ]
    }
   ],
   "source": [
    "TPOT_CONFIGURATION = {\n",
    "    \"generations\": 40,\n",
    "    \"population_size\": 100,\n",
    "    \"cv\": StratifiedKFold(n_splits=5, shuffle=True, random_state=0),\n",
    "    \"max_time_mins\": 60 * 6,\n",
    "    \"random_state\": 0, \n",
    "    \"verbosity\": 2, \n",
    "    \"use_dask\": True, \n",
    "    \"scoring\": \"roc_auc\", \n",
    "    \"n_jobs\": 12,\n",
    "    \"periodic_checkpoint_folder\": \"/home/zvi/Projects/brainprint/src/brainprint/recon_all/sex/tpot/checkpoints\",\n",
    "    \"warm_start\": True,\n",
    "}\n",
    "METRICS = [\n",
    "    \"Average Thickness\",\n",
    "    \"Gray Matter Volume\",\n",
    "    \"Surface Area\",\n",
    "]\n",
    "       # 'Thickness StdDev']\n",
    "       # 'Folding Index',\n",
    "       # 'Integrated Rectified Gaussian Curvature',\n",
    "       # 'Integrated Rectified Mean Curvature',\n",
    "       # 'Intrinsic Curvature Index']\n",
    "scores = {}\n",
    "encoder = LabelEncoder()\n",
    "for execution_configuration in results.configuration:\n",
    "    X_train, X_test, y_train, y_test = results.split(execution_configuration=execution_configuration, \n",
    "                                                     metrics=METRICS,\n",
    "                                                     single_mode=\"last\", \n",
    "                                                     test_size=0.2, \n",
    "                                                     random_state=0)\n",
    "    \n",
    "    # Encode sex as 0 or 1 and apply encoding to all consequtive target vectors.\n",
    "    try:\n",
    "        y_train = encoder.transform(y_train)\n",
    "    except NotFittedError:\n",
    "        y_train = encoder.fit_transform(y_train)\n",
    "    y_test = encoder.transform(y_test)\n",
    "    \n",
    "    # Train classifier for the current execution configuration.\n",
    "    run_id = f\"TPOT_{execution_configuration.name}\"\n",
    "    classifier = TPOTClassifier(log_file=f\"./tpot/logs/{run_id}.log\", **TPOT_CONFIGURATION)\n",
    "    classifier.fit(X_train, y_train)\n",
    "    \n",
    "    # Report train and test scores.\n",
    "    train_score = classifier.score(X_train, y_train)\n",
    "    test_score = classifier.score(X_test, y_test)\n",
    "    scores[execution_configuration] = test_score\n",
    "    print(f\"Train score for {execution_configuration}: {train_score}\")\n",
    "    print(f\"Test score for {execution_configuration}: {test_score}\\n\\n\\n\")\n",
    "    \n",
    "    # Export pipeline.\n",
    "    classifier.export(f\"./tpot/pipelines/{run_id}.py\")"
   ]
  },
  {
   "cell_type": "code",
   "execution_count": null,
   "id": "dc4ca019-8458-4372-bb67-4c09f8385048",
   "metadata": {},
   "outputs": [],
   "source": []
  }
 ],
 "metadata": {
  "kernelspec": {
   "display_name": "brainprint",
   "language": "python",
   "name": "brainprint"
  },
  "language_info": {
   "codemirror_mode": {
    "name": "ipython",
    "version": 3
   },
   "file_extension": ".py",
   "mimetype": "text/x-python",
   "name": "python",
   "nbconvert_exporter": "python",
   "pygments_lexer": "ipython3",
   "version": "3.9.2"
  }
 },
 "nbformat": 4,
 "nbformat_minor": 5
}
