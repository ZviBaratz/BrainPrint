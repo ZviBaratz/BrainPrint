{
 "cells": [
  {
   "cell_type": "markdown",
   "id": "5bdf5b4e-05fb-4c8c-9f70-e57893a283fe",
   "metadata": {},
   "source": [
    "# Sex Prediction with `FLAML`"
   ]
  },
  {
   "cell_type": "code",
   "execution_count": 1,
   "id": "990b6107-839e-429c-819a-126a461ced1c",
   "metadata": {},
   "outputs": [
    {
     "name": "stderr",
     "output_type": "stream",
     "text": [
      "2022-07-03 09:31:29,979\tINFO services.py:1470 -- View the Ray dashboard at \u001b[1m\u001b[32mhttp://127.0.0.1:8265\u001b[39m\u001b[22m\n"
     ]
    },
    {
     "data": {
      "text/plain": [
       "RayContext(dashboard_url='127.0.0.1:8265', python_version='3.9.2', ray_version='1.13.0', ray_commit='e4ce38d001dbbe09cd21c497fedd03d692b2be3e', address_info={'node_ip_address': '10.12.8.135', 'raylet_ip_address': '10.12.8.135', 'redis_address': None, 'object_store_address': '/tmp/ray/session_2022-07-03_09-31-27_817980_1695758/sockets/plasma_store', 'raylet_socket_name': '/tmp/ray/session_2022-07-03_09-31-27_817980_1695758/sockets/raylet', 'webui_url': '127.0.0.1:8265', 'session_dir': '/tmp/ray/session_2022-07-03_09-31-27_817980_1695758', 'metrics_export_port': 50721, 'gcs_address': '10.12.8.135:57421', 'address': '10.12.8.135:57421', 'node_id': 'aadebd8bdb97e8579825c900e6ccb25f70581a8a009d6e27e67a7d2b'})"
      ]
     },
     "execution_count": 1,
     "metadata": {},
     "output_type": "execute_result"
    }
   ],
   "source": [
    "from brainprint.recon_all.results import load_results\n",
    "from flaml import AutoML\n",
    "from sklearn.exceptions import ConvergenceWarning\n",
    "from sklearn.pipeline import Pipeline\n",
    "from sklearn.preprocessing import StandardScaler\n",
    "\n",
    "import joblib\n",
    "import numpy as np\n",
    "import ray\n",
    "import warnings\n",
    "warnings.filterwarnings(\"ignore\", module=\"sklearn\", category=ConvergenceWarning)\n",
    "np.random.seed(0)\n",
    "ray.init(log_to_driver=False)"
   ]
  },
  {
   "cell_type": "code",
   "execution_count": 3,
   "id": "acd1dbc4-ffc0-4622-a59d-d0b8acaf7e3c",
   "metadata": {},
   "outputs": [
    {
     "name": "stdout",
     "output_type": "stream",
     "text": [
      "[2022-07-03 09:29:06,267] \u001b[3mSuccessfully read \u001b[1m4331\u001b[22m recon-all execution results from /home/zvi/Projects/brainprint/data/results.csv.\u001b[23m\n",
      "[2022-07-03 09:29:06,281] \u001b[3mSuccessfully read \u001b[1m4331\u001b[22m recon-all execution configurations from /home/zvi/Projects/brainprint/data/configurations.csv.\u001b[23m\n",
      "[2022-07-03 09:29:06,324] \u001b[3mSuccessfully read \u001b[1m4331\u001b[22m scan research context and metadata from /home/zvi/Projects/brainprint/data/context.csv.\u001b[23m\n",
      "[2022-07-03 09:29:06,571] \u001b[44mFiltering 4331 recon-all results\u001b[0m\n",
      "[2022-07-03 09:29:06,590] \u001b[1m1919\u001b[22m/4331 recon-all results matching \u001b[95m[<Protocol.BASE: 'The Base (corrected)'>]\u001b[0m detected.\n",
      "[2022-07-03 09:29:06,612] \u001b[93mPARTIAL ATLAS RESULTS\u001b[0m! Selecting \u001b[94mAtlas.DESTRIEUX\u001b[0m atlas results from \u001b[1m1919\u001b[0m recon-all runs returned \u001b[1m1917\u001b[0m rows (\u001b[91m2\u001b[0m runs dropped).\n",
      "[2022-07-03 09:29:06,618] \u001b[1m1336\u001b[22m/1917 recon-all results matching \u001b[96m['Default', 'With T2', 'With FLAIR']\u001b[0m detected.\n",
      "[2022-07-03 09:29:06,622] Successfully selected \u001b[1m654 runs\u001b[22m from \u001b[1m218 scans\u001b[22m with all \u001b[3m3\u001b[23m recon-all execution configuration results.\n",
      "[2022-07-03 09:29:06,633] \u001b[1m79 subjects\u001b[22m with multiple scans found to be associated with \u001b[1m489 runs\u001b[22m from \u001b[1m163 scans\u001b[22m.\n",
      "[2022-07-03 09:29:06,637] \u001b[1m\u001b[92m489\u001b[0m\u001b[22m/4331 recon-all runs selected.\n"
     ]
    }
   ],
   "source": [
    "results = load_results()"
   ]
  },
  {
   "cell_type": "code",
   "execution_count": 3,
   "id": "3b023189-bed1-4645-8e3b-ef9489ea809f",
   "metadata": {},
   "outputs": [
    {
     "name": "stdout",
     "output_type": "stream",
     "text": [
      "[2022-06-28 17:27:29,301] Successfully selected \u001b[1m654 runs\u001b[22m from \u001b[1m218 scans\u001b[22m with all \u001b[3m3\u001b[23m recon-all execution configuration results.\n",
      "[2022-06-28 17:27:29,317] Successfully selected \u001b[1m402\u001b[22m runs from a total of \u001b[1m134\u001b[22m scans belonging to \u001b[1m134\u001b[22m subjects.\n",
      "[2022-06-28 17:27:29,319] \u001b[44mFiltering 1336 recon-all results\u001b[0m\n",
      "[2022-06-28 17:27:29,325] \u001b[1m813\u001b[22m/1336 recon-all results matching \u001b[96m['Default Configuration']\u001b[0m detected.\n",
      "[2022-06-28 17:27:29,328] Successfully selected \u001b[1m107\u001b[22m/\u001b[1m813\u001b[22m runs from a total of \u001b[1m107\u001b[22m scans belonging to \u001b[1m107\u001b[22m subjects.\n",
      "[2022-06-28 17:27:29,329] \u001b[1m\u001b[92m107\u001b[0m\u001b[22m/1336 recon-all runs selected.\n",
      "[2022-06-28 17:27:29,329] \u001b[44mFiltering 1336 recon-all results\u001b[0m\n",
      "[2022-06-28 17:27:29,339] \u001b[1m813\u001b[22m/1336 recon-all results matching \u001b[96m['Default Configuration']\u001b[0m detected.\n",
      "[2022-06-28 17:27:29,344] Successfully selected \u001b[1m27\u001b[22m/\u001b[1m813\u001b[22m runs from a total of \u001b[1m27\u001b[22m scans belonging to \u001b[1m27\u001b[22m subjects.\n",
      "[2022-06-28 17:27:29,344] \u001b[1m\u001b[92m27\u001b[0m\u001b[22m/1336 recon-all runs selected.\n"
     ]
    },
    {
     "name": "stderr",
     "output_type": "stream",
     "text": [
      "\u001b[32m[I 2022-06-28 17:27:29,375]\u001b[0m A new study created in memory with name: optuna\u001b[0m\n",
      "2022-06-28 17:27:29,382\tWARNING function_runner.py:603 -- Function checkpointing is disabled. This may result in unexpected behavior when using checkpointing features or certain schedulers. To enable, set the train function arguments to be `func(config, checkpoint_dir=None)`.\n",
      "\u001b[32m[I 2022-06-28 17:27:29,389]\u001b[0m A new study created in memory with name: optuna\u001b[0m\n",
      "2022-06-28 22:27:33,238\tINFO stopper.py:363 -- Reached timeout of 18000 seconds. Stopping all trials.\n",
      "[flaml.automl: 06-28 22:28:18] {2648} WARNING - Time taken to find the best model is 75% of the provided time budget and not all estimators' hyperparameter search converged. Consider increasing the time budget.\n"
     ]
    },
    {
     "name": "stdout",
     "output_type": "stream",
     "text": [
      "[2022-06-28 22:28:18,006] Time taken to find the best model is 75% of the provided time budget and not all estimators' hyperparameter search converged. Consider increasing the time budget.\n",
      "[2022-06-28 22:28:18,025] Successfully selected \u001b[1m654 runs\u001b[22m from \u001b[1m218 scans\u001b[22m with all \u001b[3m3\u001b[23m recon-all execution configuration results.\n",
      "[2022-06-28 22:28:18,038] Successfully selected \u001b[1m402\u001b[22m runs from a total of \u001b[1m134\u001b[22m scans belonging to \u001b[1m134\u001b[22m subjects.\n",
      "[2022-06-28 22:28:18,040] \u001b[44mFiltering 1336 recon-all results\u001b[0m\n",
      "[2022-06-28 22:28:18,045] \u001b[1m254\u001b[22m/1336 recon-all results matching \u001b[96m['With T2']\u001b[0m detected.\n",
      "[2022-06-28 22:28:18,049] Successfully selected \u001b[1m107\u001b[22m/\u001b[1m254\u001b[22m runs from a total of \u001b[1m107\u001b[22m scans belonging to \u001b[1m107\u001b[22m subjects.\n",
      "[2022-06-28 22:28:18,050] \u001b[1m\u001b[92m107\u001b[0m\u001b[22m/1336 recon-all runs selected.\n",
      "[2022-06-28 22:28:18,051] \u001b[44mFiltering 1336 recon-all results\u001b[0m\n",
      "[2022-06-28 22:28:18,056] \u001b[1m254\u001b[22m/1336 recon-all results matching \u001b[96m['With T2']\u001b[0m detected.\n",
      "[2022-06-28 22:28:18,059] Successfully selected \u001b[1m27\u001b[22m/\u001b[1m254\u001b[22m runs from a total of \u001b[1m27\u001b[22m scans belonging to \u001b[1m27\u001b[22m subjects.\n",
      "[2022-06-28 22:28:18,060] \u001b[1m\u001b[92m27\u001b[0m\u001b[22m/1336 recon-all runs selected.\n"
     ]
    },
    {
     "name": "stderr",
     "output_type": "stream",
     "text": [
      "\u001b[32m[I 2022-06-28 22:28:18,085]\u001b[0m A new study created in memory with name: optuna\u001b[0m\n",
      "\u001b[32m[I 2022-06-28 22:28:18,094]\u001b[0m A new study created in memory with name: optuna\u001b[0m\n",
      "2022-06-29 03:28:21,862\tINFO stopper.py:363 -- Reached timeout of 18000 seconds. Stopping all trials.\n"
     ]
    },
    {
     "name": "stdout",
     "output_type": "stream",
     "text": [
      "[2022-06-29 03:28:50,616] Successfully selected \u001b[1m654 runs\u001b[22m from \u001b[1m218 scans\u001b[22m with all \u001b[3m3\u001b[23m recon-all execution configuration results.\n",
      "[2022-06-29 03:28:50,637] Successfully selected \u001b[1m402\u001b[22m runs from a total of \u001b[1m134\u001b[22m scans belonging to \u001b[1m134\u001b[22m subjects.\n",
      "[2022-06-29 03:28:50,641] \u001b[44mFiltering 1336 recon-all results\u001b[0m\n",
      "[2022-06-29 03:28:50,646] \u001b[1m269\u001b[22m/1336 recon-all results matching \u001b[96m['With FLAIR']\u001b[0m detected.\n",
      "[2022-06-29 03:28:50,653] Successfully selected \u001b[1m107\u001b[22m/\u001b[1m269\u001b[22m runs from a total of \u001b[1m107\u001b[22m scans belonging to \u001b[1m107\u001b[22m subjects.\n",
      "[2022-06-29 03:28:50,655] \u001b[1m\u001b[92m107\u001b[0m\u001b[22m/1336 recon-all runs selected.\n",
      "[2022-06-29 03:28:50,655] \u001b[44mFiltering 1336 recon-all results\u001b[0m\n",
      "[2022-06-29 03:28:50,660] \u001b[1m269\u001b[22m/1336 recon-all results matching \u001b[96m['With FLAIR']\u001b[0m detected.\n",
      "[2022-06-29 03:28:50,666] Successfully selected \u001b[1m27\u001b[22m/\u001b[1m269\u001b[22m runs from a total of \u001b[1m27\u001b[22m scans belonging to \u001b[1m27\u001b[22m subjects.\n",
      "[2022-06-29 03:28:50,669] \u001b[1m\u001b[92m27\u001b[0m\u001b[22m/1336 recon-all runs selected.\n"
     ]
    },
    {
     "name": "stderr",
     "output_type": "stream",
     "text": [
      "\u001b[32m[I 2022-06-29 03:28:50,700]\u001b[0m A new study created in memory with name: optuna\u001b[0m\n",
      "\u001b[32m[I 2022-06-29 03:28:50,707]\u001b[0m A new study created in memory with name: optuna\u001b[0m\n",
      "2022-06-29 08:28:53,109\tINFO stopper.py:363 -- Reached timeout of 18000 seconds. Stopping all trials.\n"
     ]
    }
   ],
   "source": [
    "automl_settings = {\n",
    "    \"task\": \"classification\",\n",
    "    \"time_budget\": 5 * 60 * 60,\n",
    "    # \"time_budget\": 60,    \n",
    "    \"metric\": \"roc_auc\",    \n",
    "    \"log_file_name\": \"flaml.log\",\n",
    "    \"n_jobs\": 16,\n",
    "    \"seed\": 0,\n",
    "    \"verbose\": 2,\n",
    "    \"mem_thres\": 4e10,\n",
    "    \"use_ray\": True,\n",
    "    \"model_history\": True,\n",
    "}\n",
    "pipeline_settings = {f\"automl__{key}\": value for key, value in automl_settings.items()}\n",
    "models = {}\n",
    "scores = {}\n",
    "for execution_configuration in results.configuration:\n",
    "    X_train, X_test, y_train, y_test = results.split(execution_configuration=execution_configuration, \n",
    "                                                     all_configurations=True, \n",
    "                                                     single_mode=\"last\", \n",
    "                                                     test_size=0.2, \n",
    "                                                     random_state=0)\n",
    "        \n",
    "    scaler = StandardScaler()\n",
    "    automl = AutoML()\n",
    "    steps = [(\"scaling\", scaler), (\"automl\", automl)]\n",
    "    pipeline = Pipeline(steps)\n",
    "    pipeline.fit(X_train, y_train, **pipeline_settings)\n",
    "    models[execution_configuration] = pipeline\n",
    "    scores[execution_configuration] = pipeline.score(X_test, y_test)"
   ]
  },
  {
   "cell_type": "code",
   "execution_count": 4,
   "id": "3b858ba6-f51f-4cd6-a834-8eebbc6b4068",
   "metadata": {},
   "outputs": [
    {
     "data": {
      "text/plain": [
       "{<ExecutionConfiguration.DEFAULT: 'Default Configuration'>: 0.7407407407407407,\n",
       " <ExecutionConfiguration.T2: 'With T2'>: 0.8518518518518519,\n",
       " <ExecutionConfiguration.FLAIR: 'With FLAIR'>: 0.8518518518518519}"
      ]
     },
     "execution_count": 4,
     "metadata": {},
     "output_type": "execute_result"
    }
   ],
   "source": [
    "scores"
   ]
  },
  {
   "cell_type": "code",
   "execution_count": 6,
   "id": "24913ee2-05a3-4b20-a7ef-e0d200e67030",
   "metadata": {},
   "outputs": [],
   "source": [
    "_ = joblib.dump(models, \"flaml.joblib\")"
   ]
  },
  {
   "cell_type": "code",
   "execution_count": 2,
   "id": "a8595ac7-4ce5-4110-9ead-9772e191ae47",
   "metadata": {},
   "outputs": [],
   "source": [
    "models = joblib.load(\"flaml.joblib\")"
   ]
  },
  {
   "cell_type": "code",
   "execution_count": 32,
   "id": "3d44ed47-69a6-42f8-86a7-43649cc6d224",
   "metadata": {},
   "outputs": [
    {
     "data": {
      "text/plain": [
       "{'lgbm': 0.1415242165242165,\n",
       " 'rf': 0.2632834757834758,\n",
       " 'xgboost': 0.13368945868945864,\n",
       " 'extra_tree': 0.2409544159544159,\n",
       " 'xgb_limitdepth': 0.1514245014245014,\n",
       " 'lrl1': 0.11602564102564103}"
      ]
     },
     "execution_count": 32,
     "metadata": {},
     "output_type": "execute_result"
    }
   ],
   "source": [
    "default_automl.best_loss_per_estimator"
   ]
  },
  {
   "cell_type": "code",
   "execution_count": 29,
   "id": "5cc68398-7d27-4a53-b700-cd08e866dea1",
   "metadata": {},
   "outputs": [
    {
     "data": {
      "text/html": [
       "<style>#sk-container-id-6 {color: black;background-color: white;}#sk-container-id-6 pre{padding: 0;}#sk-container-id-6 div.sk-toggleable {background-color: white;}#sk-container-id-6 label.sk-toggleable__label {cursor: pointer;display: block;width: 100%;margin-bottom: 0;padding: 0.3em;box-sizing: border-box;text-align: center;}#sk-container-id-6 label.sk-toggleable__label-arrow:before {content: \"▸\";float: left;margin-right: 0.25em;color: #696969;}#sk-container-id-6 label.sk-toggleable__label-arrow:hover:before {color: black;}#sk-container-id-6 div.sk-estimator:hover label.sk-toggleable__label-arrow:before {color: black;}#sk-container-id-6 div.sk-toggleable__content {max-height: 0;max-width: 0;overflow: hidden;text-align: left;background-color: #f0f8ff;}#sk-container-id-6 div.sk-toggleable__content pre {margin: 0.2em;color: black;border-radius: 0.25em;background-color: #f0f8ff;}#sk-container-id-6 input.sk-toggleable__control:checked~div.sk-toggleable__content {max-height: 200px;max-width: 100%;overflow: auto;}#sk-container-id-6 input.sk-toggleable__control:checked~label.sk-toggleable__label-arrow:before {content: \"▾\";}#sk-container-id-6 div.sk-estimator input.sk-toggleable__control:checked~label.sk-toggleable__label {background-color: #d4ebff;}#sk-container-id-6 div.sk-label input.sk-toggleable__control:checked~label.sk-toggleable__label {background-color: #d4ebff;}#sk-container-id-6 input.sk-hidden--visually {border: 0;clip: rect(1px 1px 1px 1px);clip: rect(1px, 1px, 1px, 1px);height: 1px;margin: -1px;overflow: hidden;padding: 0;position: absolute;width: 1px;}#sk-container-id-6 div.sk-estimator {font-family: monospace;background-color: #f0f8ff;border: 1px dotted black;border-radius: 0.25em;box-sizing: border-box;margin-bottom: 0.5em;}#sk-container-id-6 div.sk-estimator:hover {background-color: #d4ebff;}#sk-container-id-6 div.sk-parallel-item::after {content: \"\";width: 100%;border-bottom: 1px solid gray;flex-grow: 1;}#sk-container-id-6 div.sk-label:hover label.sk-toggleable__label {background-color: #d4ebff;}#sk-container-id-6 div.sk-serial::before {content: \"\";position: absolute;border-left: 1px solid gray;box-sizing: border-box;top: 0;bottom: 0;left: 50%;z-index: 0;}#sk-container-id-6 div.sk-serial {display: flex;flex-direction: column;align-items: center;background-color: white;padding-right: 0.2em;padding-left: 0.2em;position: relative;}#sk-container-id-6 div.sk-item {position: relative;z-index: 1;}#sk-container-id-6 div.sk-parallel {display: flex;align-items: stretch;justify-content: center;background-color: white;position: relative;}#sk-container-id-6 div.sk-item::before, #sk-container-id-6 div.sk-parallel-item::before {content: \"\";position: absolute;border-left: 1px solid gray;box-sizing: border-box;top: 0;bottom: 0;left: 50%;z-index: -1;}#sk-container-id-6 div.sk-parallel-item {display: flex;flex-direction: column;z-index: 1;position: relative;background-color: white;}#sk-container-id-6 div.sk-parallel-item:first-child::after {align-self: flex-end;width: 50%;}#sk-container-id-6 div.sk-parallel-item:last-child::after {align-self: flex-start;width: 50%;}#sk-container-id-6 div.sk-parallel-item:only-child::after {width: 0;}#sk-container-id-6 div.sk-dashed-wrapped {border: 1px dashed gray;margin: 0 0.4em 0.5em 0.4em;box-sizing: border-box;padding-bottom: 0.4em;background-color: white;}#sk-container-id-6 div.sk-label label {font-family: monospace;font-weight: bold;display: inline-block;line-height: 1.2em;}#sk-container-id-6 div.sk-label-container {text-align: center;}#sk-container-id-6 div.sk-container {/* jupyter's `normalize.less` sets `[hidden] { display: none; }` but bootstrap.min.css set `[hidden] { display: none !important; }` so we also need the `!important` here to be able to override the default hidden behavior on the sphinx rendered scikit-learn.org. See: https://github.com/scikit-learn/scikit-learn/issues/21755 */display: inline-block !important;position: relative;}#sk-container-id-6 div.sk-text-repr-fallback {display: none;}</style><div id=\"sk-container-id-6\" class=\"sk-top-container\"><div class=\"sk-text-repr-fallback\"><pre>LGBMClassifier(colsample_bytree=0.8586626338818925,\n",
       "               learning_rate=0.7015361546224489, max_bin=255,\n",
       "               min_child_samples=41, n_estimators=45, n_jobs=16, num_leaves=6,\n",
       "               reg_alpha=0.0013361660550506697, reg_lambda=0.007699408191396938,\n",
       "               verbose=-1)</pre><b>In a Jupyter environment, please rerun this cell to show the HTML representation or trust the notebook. <br />On GitHub, the HTML representation is unable to render, please try loading this page with nbviewer.org.</b></div><div class=\"sk-container\" hidden><div class=\"sk-item\"><div class=\"sk-estimator sk-toggleable\"><input class=\"sk-toggleable__control sk-hidden--visually\" id=\"sk-estimator-id-8\" type=\"checkbox\" checked><label for=\"sk-estimator-id-8\" class=\"sk-toggleable__label sk-toggleable__label-arrow\">LGBMClassifier</label><div class=\"sk-toggleable__content\"><pre>LGBMClassifier(colsample_bytree=0.8586626338818925,\n",
       "               learning_rate=0.7015361546224489, max_bin=255,\n",
       "               min_child_samples=41, n_estimators=45, n_jobs=16, num_leaves=6,\n",
       "               reg_alpha=0.0013361660550506697, reg_lambda=0.007699408191396938,\n",
       "               verbose=-1)</pre></div></div></div></div></div>"
      ],
      "text/plain": [
       "LGBMClassifier(colsample_bytree=0.8586626338818925,\n",
       "               learning_rate=0.7015361546224489, max_bin=255,\n",
       "               min_child_samples=41, n_estimators=45, n_jobs=16, num_leaves=6,\n",
       "               reg_alpha=0.0013361660550506697, reg_lambda=0.007699408191396938,\n",
       "               verbose=-1)"
      ]
     },
     "execution_count": 29,
     "metadata": {},
     "output_type": "execute_result"
    }
   ],
   "source": [
    "default_model = models[\"DEFAULT\"]\n",
    "default_automl = default_model.steps[1][1]\n",
    "default_automl.model.estimator"
   ]
  },
  {
   "cell_type": "code",
   "execution_count": 30,
   "id": "8995e35e-df03-4fbe-82c1-9d686b8ca9e5",
   "metadata": {},
   "outputs": [
    {
     "data": {
      "text/html": [
       "<style>#sk-container-id-7 {color: black;background-color: white;}#sk-container-id-7 pre{padding: 0;}#sk-container-id-7 div.sk-toggleable {background-color: white;}#sk-container-id-7 label.sk-toggleable__label {cursor: pointer;display: block;width: 100%;margin-bottom: 0;padding: 0.3em;box-sizing: border-box;text-align: center;}#sk-container-id-7 label.sk-toggleable__label-arrow:before {content: \"▸\";float: left;margin-right: 0.25em;color: #696969;}#sk-container-id-7 label.sk-toggleable__label-arrow:hover:before {color: black;}#sk-container-id-7 div.sk-estimator:hover label.sk-toggleable__label-arrow:before {color: black;}#sk-container-id-7 div.sk-toggleable__content {max-height: 0;max-width: 0;overflow: hidden;text-align: left;background-color: #f0f8ff;}#sk-container-id-7 div.sk-toggleable__content pre {margin: 0.2em;color: black;border-radius: 0.25em;background-color: #f0f8ff;}#sk-container-id-7 input.sk-toggleable__control:checked~div.sk-toggleable__content {max-height: 200px;max-width: 100%;overflow: auto;}#sk-container-id-7 input.sk-toggleable__control:checked~label.sk-toggleable__label-arrow:before {content: \"▾\";}#sk-container-id-7 div.sk-estimator input.sk-toggleable__control:checked~label.sk-toggleable__label {background-color: #d4ebff;}#sk-container-id-7 div.sk-label input.sk-toggleable__control:checked~label.sk-toggleable__label {background-color: #d4ebff;}#sk-container-id-7 input.sk-hidden--visually {border: 0;clip: rect(1px 1px 1px 1px);clip: rect(1px, 1px, 1px, 1px);height: 1px;margin: -1px;overflow: hidden;padding: 0;position: absolute;width: 1px;}#sk-container-id-7 div.sk-estimator {font-family: monospace;background-color: #f0f8ff;border: 1px dotted black;border-radius: 0.25em;box-sizing: border-box;margin-bottom: 0.5em;}#sk-container-id-7 div.sk-estimator:hover {background-color: #d4ebff;}#sk-container-id-7 div.sk-parallel-item::after {content: \"\";width: 100%;border-bottom: 1px solid gray;flex-grow: 1;}#sk-container-id-7 div.sk-label:hover label.sk-toggleable__label {background-color: #d4ebff;}#sk-container-id-7 div.sk-serial::before {content: \"\";position: absolute;border-left: 1px solid gray;box-sizing: border-box;top: 0;bottom: 0;left: 50%;z-index: 0;}#sk-container-id-7 div.sk-serial {display: flex;flex-direction: column;align-items: center;background-color: white;padding-right: 0.2em;padding-left: 0.2em;position: relative;}#sk-container-id-7 div.sk-item {position: relative;z-index: 1;}#sk-container-id-7 div.sk-parallel {display: flex;align-items: stretch;justify-content: center;background-color: white;position: relative;}#sk-container-id-7 div.sk-item::before, #sk-container-id-7 div.sk-parallel-item::before {content: \"\";position: absolute;border-left: 1px solid gray;box-sizing: border-box;top: 0;bottom: 0;left: 50%;z-index: -1;}#sk-container-id-7 div.sk-parallel-item {display: flex;flex-direction: column;z-index: 1;position: relative;background-color: white;}#sk-container-id-7 div.sk-parallel-item:first-child::after {align-self: flex-end;width: 50%;}#sk-container-id-7 div.sk-parallel-item:last-child::after {align-self: flex-start;width: 50%;}#sk-container-id-7 div.sk-parallel-item:only-child::after {width: 0;}#sk-container-id-7 div.sk-dashed-wrapped {border: 1px dashed gray;margin: 0 0.4em 0.5em 0.4em;box-sizing: border-box;padding-bottom: 0.4em;background-color: white;}#sk-container-id-7 div.sk-label label {font-family: monospace;font-weight: bold;display: inline-block;line-height: 1.2em;}#sk-container-id-7 div.sk-label-container {text-align: center;}#sk-container-id-7 div.sk-container {/* jupyter's `normalize.less` sets `[hidden] { display: none; }` but bootstrap.min.css set `[hidden] { display: none !important; }` so we also need the `!important` here to be able to override the default hidden behavior on the sphinx rendered scikit-learn.org. See: https://github.com/scikit-learn/scikit-learn/issues/21755 */display: inline-block !important;position: relative;}#sk-container-id-7 div.sk-text-repr-fallback {display: none;}</style><div id=\"sk-container-id-7\" class=\"sk-top-container\"><div class=\"sk-text-repr-fallback\"><pre>LogisticRegression(C=4.574851752082774, n_jobs=16, penalty=&#x27;l1&#x27;, solver=&#x27;saga&#x27;)</pre><b>In a Jupyter environment, please rerun this cell to show the HTML representation or trust the notebook. <br />On GitHub, the HTML representation is unable to render, please try loading this page with nbviewer.org.</b></div><div class=\"sk-container\" hidden><div class=\"sk-item\"><div class=\"sk-estimator sk-toggleable\"><input class=\"sk-toggleable__control sk-hidden--visually\" id=\"sk-estimator-id-9\" type=\"checkbox\" checked><label for=\"sk-estimator-id-9\" class=\"sk-toggleable__label sk-toggleable__label-arrow\">LogisticRegression</label><div class=\"sk-toggleable__content\"><pre>LogisticRegression(C=4.574851752082774, n_jobs=16, penalty=&#x27;l1&#x27;, solver=&#x27;saga&#x27;)</pre></div></div></div></div></div>"
      ],
      "text/plain": [
       "LogisticRegression(C=4.574851752082774, n_jobs=16, penalty='l1', solver='saga')"
      ]
     },
     "execution_count": 30,
     "metadata": {},
     "output_type": "execute_result"
    }
   ],
   "source": [
    "default_model = models[\"FLAIR\"]\n",
    "default_automl = default_model.steps[1][1]\n",
    "default_automl.model.estimator"
   ]
  },
  {
   "cell_type": "code",
   "execution_count": 31,
   "id": "e3199b55-1680-4f84-9a11-bab0dcc6935a",
   "metadata": {},
   "outputs": [
    {
     "data": {
      "text/html": [
       "<style>#sk-container-id-8 {color: black;background-color: white;}#sk-container-id-8 pre{padding: 0;}#sk-container-id-8 div.sk-toggleable {background-color: white;}#sk-container-id-8 label.sk-toggleable__label {cursor: pointer;display: block;width: 100%;margin-bottom: 0;padding: 0.3em;box-sizing: border-box;text-align: center;}#sk-container-id-8 label.sk-toggleable__label-arrow:before {content: \"▸\";float: left;margin-right: 0.25em;color: #696969;}#sk-container-id-8 label.sk-toggleable__label-arrow:hover:before {color: black;}#sk-container-id-8 div.sk-estimator:hover label.sk-toggleable__label-arrow:before {color: black;}#sk-container-id-8 div.sk-toggleable__content {max-height: 0;max-width: 0;overflow: hidden;text-align: left;background-color: #f0f8ff;}#sk-container-id-8 div.sk-toggleable__content pre {margin: 0.2em;color: black;border-radius: 0.25em;background-color: #f0f8ff;}#sk-container-id-8 input.sk-toggleable__control:checked~div.sk-toggleable__content {max-height: 200px;max-width: 100%;overflow: auto;}#sk-container-id-8 input.sk-toggleable__control:checked~label.sk-toggleable__label-arrow:before {content: \"▾\";}#sk-container-id-8 div.sk-estimator input.sk-toggleable__control:checked~label.sk-toggleable__label {background-color: #d4ebff;}#sk-container-id-8 div.sk-label input.sk-toggleable__control:checked~label.sk-toggleable__label {background-color: #d4ebff;}#sk-container-id-8 input.sk-hidden--visually {border: 0;clip: rect(1px 1px 1px 1px);clip: rect(1px, 1px, 1px, 1px);height: 1px;margin: -1px;overflow: hidden;padding: 0;position: absolute;width: 1px;}#sk-container-id-8 div.sk-estimator {font-family: monospace;background-color: #f0f8ff;border: 1px dotted black;border-radius: 0.25em;box-sizing: border-box;margin-bottom: 0.5em;}#sk-container-id-8 div.sk-estimator:hover {background-color: #d4ebff;}#sk-container-id-8 div.sk-parallel-item::after {content: \"\";width: 100%;border-bottom: 1px solid gray;flex-grow: 1;}#sk-container-id-8 div.sk-label:hover label.sk-toggleable__label {background-color: #d4ebff;}#sk-container-id-8 div.sk-serial::before {content: \"\";position: absolute;border-left: 1px solid gray;box-sizing: border-box;top: 0;bottom: 0;left: 50%;z-index: 0;}#sk-container-id-8 div.sk-serial {display: flex;flex-direction: column;align-items: center;background-color: white;padding-right: 0.2em;padding-left: 0.2em;position: relative;}#sk-container-id-8 div.sk-item {position: relative;z-index: 1;}#sk-container-id-8 div.sk-parallel {display: flex;align-items: stretch;justify-content: center;background-color: white;position: relative;}#sk-container-id-8 div.sk-item::before, #sk-container-id-8 div.sk-parallel-item::before {content: \"\";position: absolute;border-left: 1px solid gray;box-sizing: border-box;top: 0;bottom: 0;left: 50%;z-index: -1;}#sk-container-id-8 div.sk-parallel-item {display: flex;flex-direction: column;z-index: 1;position: relative;background-color: white;}#sk-container-id-8 div.sk-parallel-item:first-child::after {align-self: flex-end;width: 50%;}#sk-container-id-8 div.sk-parallel-item:last-child::after {align-self: flex-start;width: 50%;}#sk-container-id-8 div.sk-parallel-item:only-child::after {width: 0;}#sk-container-id-8 div.sk-dashed-wrapped {border: 1px dashed gray;margin: 0 0.4em 0.5em 0.4em;box-sizing: border-box;padding-bottom: 0.4em;background-color: white;}#sk-container-id-8 div.sk-label label {font-family: monospace;font-weight: bold;display: inline-block;line-height: 1.2em;}#sk-container-id-8 div.sk-label-container {text-align: center;}#sk-container-id-8 div.sk-container {/* jupyter's `normalize.less` sets `[hidden] { display: none; }` but bootstrap.min.css set `[hidden] { display: none !important; }` so we also need the `!important` here to be able to override the default hidden behavior on the sphinx rendered scikit-learn.org. See: https://github.com/scikit-learn/scikit-learn/issues/21755 */display: inline-block !important;position: relative;}#sk-container-id-8 div.sk-text-repr-fallback {display: none;}</style><div id=\"sk-container-id-8\" class=\"sk-top-container\"><div class=\"sk-text-repr-fallback\"><pre>LogisticRegression(C=4.803836273065365, n_jobs=16, penalty=&#x27;l1&#x27;, solver=&#x27;saga&#x27;)</pre><b>In a Jupyter environment, please rerun this cell to show the HTML representation or trust the notebook. <br />On GitHub, the HTML representation is unable to render, please try loading this page with nbviewer.org.</b></div><div class=\"sk-container\" hidden><div class=\"sk-item\"><div class=\"sk-estimator sk-toggleable\"><input class=\"sk-toggleable__control sk-hidden--visually\" id=\"sk-estimator-id-10\" type=\"checkbox\" checked><label for=\"sk-estimator-id-10\" class=\"sk-toggleable__label sk-toggleable__label-arrow\">LogisticRegression</label><div class=\"sk-toggleable__content\"><pre>LogisticRegression(C=4.803836273065365, n_jobs=16, penalty=&#x27;l1&#x27;, solver=&#x27;saga&#x27;)</pre></div></div></div></div></div>"
      ],
      "text/plain": [
       "LogisticRegression(C=4.803836273065365, n_jobs=16, penalty='l1', solver='saga')"
      ]
     },
     "execution_count": 31,
     "metadata": {},
     "output_type": "execute_result"
    }
   ],
   "source": [
    "default_model = models[\"T2\"]\n",
    "default_automl = default_model.steps[1][1]\n",
    "default_automl.model.estimator"
   ]
  }
 ],
 "metadata": {
  "kernelspec": {
   "display_name": "brainprint",
   "language": "python",
   "name": "brainprint"
  },
  "language_info": {
   "codemirror_mode": {
    "name": "ipython",
    "version": 3
   },
   "file_extension": ".py",
   "mimetype": "text/x-python",
   "name": "python",
   "nbconvert_exporter": "python",
   "pygments_lexer": "ipython3",
   "version": "3.9.2"
  }
 },
 "nbformat": 4,
 "nbformat_minor": 5
}
