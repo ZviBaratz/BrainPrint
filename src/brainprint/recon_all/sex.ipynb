{
 "cells": [
  {
   "cell_type": "markdown",
   "id": "cfebe553-b59f-43f5-a1b3-c94836881f71",
   "metadata": {},
   "source": [
    "# Predicting Subject Sex"
   ]
  },
  {
   "cell_type": "code",
   "execution_count": 1,
   "id": "4ba23f09-f0cd-4dea-ae7f-2815d4216eb3",
   "metadata": {
    "execution": {
     "iopub.execute_input": "2022-04-25T11:37:08.673514Z",
     "iopub.status.busy": "2022-04-25T11:37:08.672478Z",
     "iopub.status.idle": "2022-04-25T11:37:09.378749Z",
     "shell.execute_reply": "2022-04-25T11:37:09.378095Z",
     "shell.execute_reply.started": "2022-04-25T11:37:08.673392Z"
    },
    "tags": []
   },
   "outputs": [],
   "source": [
    "from brainprint.recon_all.sex import train_models"
   ]
  },
  {
   "cell_type": "code",
   "execution_count": 2,
   "id": "9aada7f1-15a2-4e66-bd1f-21c797eb2f9d",
   "metadata": {
    "execution": {
     "iopub.execute_input": "2022-04-25T11:37:09.379931Z",
     "iopub.status.busy": "2022-04-25T11:37:09.379681Z",
     "iopub.status.idle": "2022-04-25T11:40:26.945881Z",
     "shell.execute_reply": "2022-04-25T11:40:26.944580Z",
     "shell.execute_reply.started": "2022-04-25T11:37:09.379906Z"
    },
    "tags": []
   },
   "outputs": [],
   "source": [
    "results, X_test, y_test = train_models()"
   ]
  },
  {
   "cell_type": "code",
   "execution_count": 3,
   "id": "64482684-fd3f-4679-941f-cd40587591ce",
   "metadata": {
    "execution": {
     "iopub.execute_input": "2022-04-25T11:40:26.952491Z",
     "iopub.status.busy": "2022-04-25T11:40:26.949716Z",
     "iopub.status.idle": "2022-04-25T11:40:27.140241Z",
     "shell.execute_reply": "2022-04-25T11:40:27.139694Z",
     "shell.execute_reply.started": "2022-04-25T11:40:26.952458Z"
    },
    "tags": []
   },
   "outputs": [],
   "source": [
    "test_scores = [model.score(X_test, y_test) for model in results]"
   ]
  },
  {
   "cell_type": "code",
   "execution_count": 4,
   "id": "1591c78a-cc9f-4da4-8255-19b7bb5b6977",
   "metadata": {
    "execution": {
     "iopub.execute_input": "2022-04-25T11:40:27.157583Z",
     "iopub.status.busy": "2022-04-25T11:40:27.141531Z",
     "iopub.status.idle": "2022-04-25T11:40:27.177127Z",
     "shell.execute_reply": "2022-04-25T11:40:27.176567Z",
     "shell.execute_reply.started": "2022-04-25T11:40:27.157531Z"
    },
    "tags": []
   },
   "outputs": [
    {
     "data": {
      "text/plain": [
       "[0.9054054054054054,\n",
       " 0.7297297297297297,\n",
       " 0.8108108108108109,\n",
       " 0.7162162162162162,\n",
       " 0.9054054054054054,\n",
       " 0.918918918918919]"
      ]
     },
     "execution_count": 4,
     "metadata": {},
     "output_type": "execute_result"
    }
   ],
   "source": [
    "test_scores"
   ]
  },
  {
   "cell_type": "code",
   "execution_count": 7,
   "id": "fd74099a-b658-4d0e-b065-36548008def5",
   "metadata": {
    "execution": {
     "iopub.execute_input": "2022-04-24T09:42:28.887809Z",
     "iopub.status.busy": "2022-04-24T09:42:28.887304Z",
     "iopub.status.idle": "2022-04-24T09:42:28.892239Z",
     "shell.execute_reply": "2022-04-24T09:42:28.891319Z",
     "shell.execute_reply.started": "2022-04-24T09:42:28.887765Z"
    },
    "tags": []
   },
   "outputs": [],
   "source": [
    "import numpy as np"
   ]
  },
  {
   "cell_type": "code",
   "execution_count": 8,
   "id": "63d779d4-fd8f-4148-912e-4fb21eabe083",
   "metadata": {
    "execution": {
     "iopub.execute_input": "2022-04-24T09:42:29.045572Z",
     "iopub.status.busy": "2022-04-24T09:42:29.045118Z",
     "iopub.status.idle": "2022-04-24T09:42:29.050095Z",
     "shell.execute_reply": "2022-04-24T09:42:29.049113Z",
     "shell.execute_reply.started": "2022-04-24T09:42:29.045532Z"
    },
    "tags": []
   },
   "outputs": [],
   "source": [
    "RANDOM_STATE = 0\n",
    "np.random.seed(RANDOM_STATE)"
   ]
  },
  {
   "cell_type": "markdown",
   "id": "1b4198b7-14c5-4306-9c6e-06fa7d463053",
   "metadata": {
    "tags": []
   },
   "source": [
    "## Read Results"
   ]
  },
  {
   "cell_type": "code",
   "execution_count": 9,
   "id": "bbbdec80-f4e2-4de8-bf1a-5d399375712f",
   "metadata": {
    "execution": {
     "iopub.execute_input": "2022-04-24T09:42:29.689086Z",
     "iopub.status.busy": "2022-04-24T09:42:29.688601Z",
     "iopub.status.idle": "2022-04-24T09:42:30.826377Z",
     "shell.execute_reply": "2022-04-24T09:42:30.825616Z",
     "shell.execute_reply.started": "2022-04-24T09:42:29.689047Z"
    },
    "tags": []
   },
   "outputs": [],
   "source": [
    "from brainprint.recon_all.read import read_results\n",
    "\n",
    "context, results = read_results()"
   ]
  },
  {
   "cell_type": "markdown",
   "id": "927fa2f6-937f-4c9f-9505-39fd9f7b2b03",
   "metadata": {
    "tags": []
   },
   "source": [
    "### Context"
   ]
  },
  {
   "cell_type": "markdown",
   "id": "47de091d-f175-4da7-93f2-a4c89802dabf",
   "metadata": {},
   "source": [
    "The `context` dataframe stores the contextual information about each anatomical scan."
   ]
  },
  {
   "cell_type": "code",
   "execution_count": 10,
   "id": "f7e96047-12e8-4854-b122-5a9585520a5e",
   "metadata": {
    "execution": {
     "iopub.execute_input": "2022-04-24T09:42:31.676315Z",
     "iopub.status.busy": "2022-04-24T09:42:31.675874Z",
     "iopub.status.idle": "2022-04-24T09:42:31.708583Z",
     "shell.execute_reply": "2022-04-24T09:42:31.708006Z",
     "shell.execute_reply.started": "2022-04-24T09:42:31.676269Z"
    },
    "tags": []
   },
   "outputs": [
    {
     "data": {
      "text/html": [
       "<div>\n",
       "<style scoped>\n",
       "    .dataframe tbody tr th:only-of-type {\n",
       "        vertical-align: middle;\n",
       "    }\n",
       "\n",
       "    .dataframe tbody tr th {\n",
       "        vertical-align: top;\n",
       "    }\n",
       "\n",
       "    .dataframe thead th {\n",
       "        text-align: right;\n",
       "    }\n",
       "</style>\n",
       "<table border=\"1\" class=\"dataframe\">\n",
       "  <thead>\n",
       "    <tr style=\"text-align: right;\">\n",
       "      <th></th>\n",
       "      <th>Subject ID</th>\n",
       "      <th>Sex</th>\n",
       "      <th>Dominant Hand</th>\n",
       "      <th>Date of Birth</th>\n",
       "      <th>Session ID</th>\n",
       "      <th>Session Time</th>\n",
       "      <th>Scan ID</th>\n",
       "      <th>Scan Description</th>\n",
       "      <th>Scan File Name</th>\n",
       "      <th>Inversion Time</th>\n",
       "      <th>Echo Time</th>\n",
       "      <th>Repetition Time</th>\n",
       "      <th>Spatial Resolution</th>\n",
       "      <th>Corrected</th>\n",
       "    </tr>\n",
       "    <tr>\n",
       "      <th>Run ID</th>\n",
       "      <th></th>\n",
       "      <th></th>\n",
       "      <th></th>\n",
       "      <th></th>\n",
       "      <th></th>\n",
       "      <th></th>\n",
       "      <th></th>\n",
       "      <th></th>\n",
       "      <th></th>\n",
       "      <th></th>\n",
       "      <th></th>\n",
       "      <th></th>\n",
       "      <th></th>\n",
       "      <th></th>\n",
       "    </tr>\n",
       "  </thead>\n",
       "  <tbody>\n",
       "    <tr>\n",
       "      <th>58</th>\n",
       "      <td>149</td>\n",
       "      <td>M</td>\n",
       "      <td>L</td>\n",
       "      <td>1994-10-18</td>\n",
       "      <td>195</td>\n",
       "      <td>2021-09-30 17:28:17.421000+00:00</td>\n",
       "      <td>8571</td>\n",
       "      <td>T1w_MPRAGE_RL</td>\n",
       "      <td>sub-149_ses-202109301728_ce-corrected_T1w.nii.gz</td>\n",
       "      <td>1000.0</td>\n",
       "      <td>2.78</td>\n",
       "      <td>2400.0</td>\n",
       "      <td>[0.9, 0.9, 0.9]</td>\n",
       "      <td>True</td>\n",
       "    </tr>\n",
       "    <tr>\n",
       "      <th>59</th>\n",
       "      <td>148</td>\n",
       "      <td>M</td>\n",
       "      <td>R</td>\n",
       "      <td>1996-08-15</td>\n",
       "      <td>194</td>\n",
       "      <td>2021-09-29 16:55:45.501000+00:00</td>\n",
       "      <td>8516</td>\n",
       "      <td>T1w_MPRAGE_RL</td>\n",
       "      <td>sub-148_ses-202109291655_ce-corrected_T1w.nii.gz</td>\n",
       "      <td>1000.0</td>\n",
       "      <td>2.78</td>\n",
       "      <td>2400.0</td>\n",
       "      <td>[0.9, 0.9, 0.9]</td>\n",
       "      <td>True</td>\n",
       "    </tr>\n",
       "    <tr>\n",
       "      <th>60</th>\n",
       "      <td>147</td>\n",
       "      <td>M</td>\n",
       "      <td>R</td>\n",
       "      <td>1994-08-16</td>\n",
       "      <td>193</td>\n",
       "      <td>2021-09-29 15:47:21.348000+00:00</td>\n",
       "      <td>8502</td>\n",
       "      <td>T1w_MPRAGE_RL</td>\n",
       "      <td>sub-147_ses-202109291547_ce-corrected_T1w.nii.gz</td>\n",
       "      <td>1000.0</td>\n",
       "      <td>2.78</td>\n",
       "      <td>2400.0</td>\n",
       "      <td>[0.9, 0.9, 0.9]</td>\n",
       "      <td>True</td>\n",
       "    </tr>\n",
       "    <tr>\n",
       "      <th>61</th>\n",
       "      <td>149</td>\n",
       "      <td>M</td>\n",
       "      <td>L</td>\n",
       "      <td>1994-10-18</td>\n",
       "      <td>195</td>\n",
       "      <td>2021-09-30 17:28:17.421000+00:00</td>\n",
       "      <td>8568</td>\n",
       "      <td>T1w_MPRAGE_RL</td>\n",
       "      <td>sub-149_ses-202109301728_ce-uncorrected_T1w.ni...</td>\n",
       "      <td>1000.0</td>\n",
       "      <td>2.78</td>\n",
       "      <td>2400.0</td>\n",
       "      <td>[0.9, 0.9, 0.9]</td>\n",
       "      <td>False</td>\n",
       "    </tr>\n",
       "    <tr>\n",
       "      <th>62</th>\n",
       "      <td>147</td>\n",
       "      <td>M</td>\n",
       "      <td>R</td>\n",
       "      <td>1994-08-16</td>\n",
       "      <td>193</td>\n",
       "      <td>2021-09-29 15:47:21.348000+00:00</td>\n",
       "      <td>8469</td>\n",
       "      <td>T1w_MPRAGE_RL</td>\n",
       "      <td>sub-147_ses-202109291547_ce-uncorrected_T1w.ni...</td>\n",
       "      <td>1000.0</td>\n",
       "      <td>2.78</td>\n",
       "      <td>2400.0</td>\n",
       "      <td>[0.9, 0.9, 0.9]</td>\n",
       "      <td>False</td>\n",
       "    </tr>\n",
       "    <tr>\n",
       "      <th>...</th>\n",
       "      <td>...</td>\n",
       "      <td>...</td>\n",
       "      <td>...</td>\n",
       "      <td>...</td>\n",
       "      <td>...</td>\n",
       "      <td>...</td>\n",
       "      <td>...</td>\n",
       "      <td>...</td>\n",
       "      <td>...</td>\n",
       "      <td>...</td>\n",
       "      <td>...</td>\n",
       "      <td>...</td>\n",
       "      <td>...</td>\n",
       "      <td>...</td>\n",
       "    </tr>\n",
       "    <tr>\n",
       "      <th>5238</th>\n",
       "      <td>2506</td>\n",
       "      <td>F</td>\n",
       "      <td>NaN</td>\n",
       "      <td>1993-11-24</td>\n",
       "      <td>3396</td>\n",
       "      <td>2022-03-31 09:22:07.107000+00:00</td>\n",
       "      <td>74630</td>\n",
       "      <td>T1w_MPRAGE_RL</td>\n",
       "      <td>sub-2506_ses-202203310922_ce-uncorrected_T1w.n...</td>\n",
       "      <td>1000.0</td>\n",
       "      <td>2.78</td>\n",
       "      <td>2400.0</td>\n",
       "      <td>[0.9, 0.9, 0.9]</td>\n",
       "      <td>False</td>\n",
       "    </tr>\n",
       "    <tr>\n",
       "      <th>5239</th>\n",
       "      <td>2479</td>\n",
       "      <td>M</td>\n",
       "      <td>NaN</td>\n",
       "      <td>1988-07-02</td>\n",
       "      <td>3333</td>\n",
       "      <td>2022-03-23 08:28:10.218000+00:00</td>\n",
       "      <td>73719</td>\n",
       "      <td>T1w_MPRAGE_RL</td>\n",
       "      <td>sub-2479_ses-202203230828_ce-corrected_T1w.nii.gz</td>\n",
       "      <td>1000.0</td>\n",
       "      <td>2.78</td>\n",
       "      <td>2400.0</td>\n",
       "      <td>[0.9, 0.9, 0.9]</td>\n",
       "      <td>True</td>\n",
       "    </tr>\n",
       "    <tr>\n",
       "      <th>5240</th>\n",
       "      <td>359</td>\n",
       "      <td>F</td>\n",
       "      <td>NaN</td>\n",
       "      <td>1997-06-19</td>\n",
       "      <td>3439</td>\n",
       "      <td>2022-04-05 16:00:21.240000+00:00</td>\n",
       "      <td>75252</td>\n",
       "      <td>T1w_MPRAGE_RL</td>\n",
       "      <td>sub-359_ses-202204051600_ce-corrected_T1w.nii.gz</td>\n",
       "      <td>1000.0</td>\n",
       "      <td>2.78</td>\n",
       "      <td>2400.0</td>\n",
       "      <td>[0.9, 0.9, 0.9]</td>\n",
       "      <td>True</td>\n",
       "    </tr>\n",
       "    <tr>\n",
       "      <th>5241</th>\n",
       "      <td>2505</td>\n",
       "      <td>F</td>\n",
       "      <td>NaN</td>\n",
       "      <td>1991-04-02</td>\n",
       "      <td>3395</td>\n",
       "      <td>2022-03-30 18:41:40.419000+00:00</td>\n",
       "      <td>74618</td>\n",
       "      <td>T1w_MPRAGE_RL</td>\n",
       "      <td>sub-2505_ses-202203301841_ce-corrected_T1w.nii.gz</td>\n",
       "      <td>1000.0</td>\n",
       "      <td>2.78</td>\n",
       "      <td>2400.0</td>\n",
       "      <td>[0.9, 0.9, 0.9]</td>\n",
       "      <td>True</td>\n",
       "    </tr>\n",
       "    <tr>\n",
       "      <th>5242</th>\n",
       "      <td>2479</td>\n",
       "      <td>M</td>\n",
       "      <td>NaN</td>\n",
       "      <td>1988-07-02</td>\n",
       "      <td>3333</td>\n",
       "      <td>2022-03-23 08:28:10.218000+00:00</td>\n",
       "      <td>73718</td>\n",
       "      <td>T1w_MPRAGE_RL</td>\n",
       "      <td>sub-2479_ses-202203230828_ce-uncorrected_T1w.n...</td>\n",
       "      <td>1000.0</td>\n",
       "      <td>2.78</td>\n",
       "      <td>2400.0</td>\n",
       "      <td>[0.9, 0.9, 0.9]</td>\n",
       "      <td>False</td>\n",
       "    </tr>\n",
       "  </tbody>\n",
       "</table>\n",
       "<p>2758 rows × 14 columns</p>\n",
       "</div>"
      ],
      "text/plain": [
       "        Subject ID Sex Dominant Hand Date of Birth  Session ID  \\\n",
       "Run ID                                                           \n",
       "58             149   M             L    1994-10-18         195   \n",
       "59             148   M             R    1996-08-15         194   \n",
       "60             147   M             R    1994-08-16         193   \n",
       "61             149   M             L    1994-10-18         195   \n",
       "62             147   M             R    1994-08-16         193   \n",
       "...            ...  ..           ...           ...         ...   \n",
       "5238          2506   F           NaN    1993-11-24        3396   \n",
       "5239          2479   M           NaN    1988-07-02        3333   \n",
       "5240           359   F           NaN    1997-06-19        3439   \n",
       "5241          2505   F           NaN    1991-04-02        3395   \n",
       "5242          2479   M           NaN    1988-07-02        3333   \n",
       "\n",
       "                            Session Time  Scan ID Scan Description  \\\n",
       "Run ID                                                               \n",
       "58      2021-09-30 17:28:17.421000+00:00     8571    T1w_MPRAGE_RL   \n",
       "59      2021-09-29 16:55:45.501000+00:00     8516    T1w_MPRAGE_RL   \n",
       "60      2021-09-29 15:47:21.348000+00:00     8502    T1w_MPRAGE_RL   \n",
       "61      2021-09-30 17:28:17.421000+00:00     8568    T1w_MPRAGE_RL   \n",
       "62      2021-09-29 15:47:21.348000+00:00     8469    T1w_MPRAGE_RL   \n",
       "...                                  ...      ...              ...   \n",
       "5238    2022-03-31 09:22:07.107000+00:00    74630    T1w_MPRAGE_RL   \n",
       "5239    2022-03-23 08:28:10.218000+00:00    73719    T1w_MPRAGE_RL   \n",
       "5240    2022-04-05 16:00:21.240000+00:00    75252    T1w_MPRAGE_RL   \n",
       "5241    2022-03-30 18:41:40.419000+00:00    74618    T1w_MPRAGE_RL   \n",
       "5242    2022-03-23 08:28:10.218000+00:00    73718    T1w_MPRAGE_RL   \n",
       "\n",
       "                                           Scan File Name  Inversion Time  \\\n",
       "Run ID                                                                      \n",
       "58       sub-149_ses-202109301728_ce-corrected_T1w.nii.gz          1000.0   \n",
       "59       sub-148_ses-202109291655_ce-corrected_T1w.nii.gz          1000.0   \n",
       "60       sub-147_ses-202109291547_ce-corrected_T1w.nii.gz          1000.0   \n",
       "61      sub-149_ses-202109301728_ce-uncorrected_T1w.ni...          1000.0   \n",
       "62      sub-147_ses-202109291547_ce-uncorrected_T1w.ni...          1000.0   \n",
       "...                                                   ...             ...   \n",
       "5238    sub-2506_ses-202203310922_ce-uncorrected_T1w.n...          1000.0   \n",
       "5239    sub-2479_ses-202203230828_ce-corrected_T1w.nii.gz          1000.0   \n",
       "5240     sub-359_ses-202204051600_ce-corrected_T1w.nii.gz          1000.0   \n",
       "5241    sub-2505_ses-202203301841_ce-corrected_T1w.nii.gz          1000.0   \n",
       "5242    sub-2479_ses-202203230828_ce-uncorrected_T1w.n...          1000.0   \n",
       "\n",
       "        Echo Time  Repetition Time Spatial Resolution  Corrected  \n",
       "Run ID                                                            \n",
       "58           2.78           2400.0    [0.9, 0.9, 0.9]       True  \n",
       "59           2.78           2400.0    [0.9, 0.9, 0.9]       True  \n",
       "60           2.78           2400.0    [0.9, 0.9, 0.9]       True  \n",
       "61           2.78           2400.0    [0.9, 0.9, 0.9]      False  \n",
       "62           2.78           2400.0    [0.9, 0.9, 0.9]      False  \n",
       "...           ...              ...                ...        ...  \n",
       "5238         2.78           2400.0    [0.9, 0.9, 0.9]      False  \n",
       "5239         2.78           2400.0    [0.9, 0.9, 0.9]       True  \n",
       "5240         2.78           2400.0    [0.9, 0.9, 0.9]       True  \n",
       "5241         2.78           2400.0    [0.9, 0.9, 0.9]       True  \n",
       "5242         2.78           2400.0    [0.9, 0.9, 0.9]      False  \n",
       "\n",
       "[2758 rows x 14 columns]"
      ]
     },
     "execution_count": 10,
     "metadata": {},
     "output_type": "execute_result"
    }
   ],
   "source": [
    "context"
   ]
  },
  {
   "cell_type": "markdown",
   "id": "410d99f1-e14a-4a6d-8271-d6f80c282f9c",
   "metadata": {
    "tags": []
   },
   "source": [
    "### Anatomical Statistics"
   ]
  },
  {
   "cell_type": "markdown",
   "id": "4e6b6973-3372-4038-83e6-81b5d25d349b",
   "metadata": {},
   "source": [
    "The `results` dataframe stores the anatomical statistics calculated by `recon-all` for each anatomical scan."
   ]
  },
  {
   "cell_type": "code",
   "execution_count": 11,
   "id": "e4a318c6-4b45-4801-a951-f642f0bc9781",
   "metadata": {
    "execution": {
     "iopub.execute_input": "2022-04-24T09:42:32.401611Z",
     "iopub.status.busy": "2022-04-24T09:42:32.401175Z",
     "iopub.status.idle": "2022-04-24T09:42:32.444176Z",
     "shell.execute_reply": "2022-04-24T09:42:32.443747Z",
     "shell.execute_reply.started": "2022-04-24T09:42:32.401569Z"
    },
    "tags": []
   },
   "outputs": [
    {
     "data": {
      "text/html": [
       "<div>\n",
       "<style scoped>\n",
       "    .dataframe tbody tr th:only-of-type {\n",
       "        vertical-align: middle;\n",
       "    }\n",
       "\n",
       "    .dataframe tbody tr th {\n",
       "        vertical-align: top;\n",
       "    }\n",
       "\n",
       "    .dataframe thead tr th {\n",
       "        text-align: left;\n",
       "    }\n",
       "\n",
       "    .dataframe thead tr:last-of-type th {\n",
       "        text-align: right;\n",
       "    }\n",
       "</style>\n",
       "<table border=\"1\" class=\"dataframe\">\n",
       "  <thead>\n",
       "    <tr>\n",
       "      <th>Hemisphere</th>\n",
       "      <th colspan=\"10\" halign=\"left\">Left</th>\n",
       "      <th>...</th>\n",
       "      <th colspan=\"10\" halign=\"left\">Right</th>\n",
       "    </tr>\n",
       "    <tr>\n",
       "      <th>Region Name</th>\n",
       "      <th colspan=\"8\" halign=\"left\">G&amp;S_cingul-Ant</th>\n",
       "      <th colspan=\"2\" halign=\"left\">G&amp;S_cingul-Mid-Ant</th>\n",
       "      <th>...</th>\n",
       "      <th colspan=\"2\" halign=\"left\">S_temporal_sup</th>\n",
       "      <th colspan=\"8\" halign=\"left\">S_temporal_transverse</th>\n",
       "    </tr>\n",
       "    <tr>\n",
       "      <th>Metric</th>\n",
       "      <th>Average Thickness</th>\n",
       "      <th>Folding Index</th>\n",
       "      <th>Gray Matter Volume</th>\n",
       "      <th>Integrated Rectified Gaussian Curvature</th>\n",
       "      <th>Integrated Rectified Mean Curvature</th>\n",
       "      <th>Intrinsic Curvature Index</th>\n",
       "      <th>Surface Area</th>\n",
       "      <th>Thickness StdDev</th>\n",
       "      <th>Average Thickness</th>\n",
       "      <th>Folding Index</th>\n",
       "      <th>...</th>\n",
       "      <th>Surface Area</th>\n",
       "      <th>Thickness StdDev</th>\n",
       "      <th>Average Thickness</th>\n",
       "      <th>Folding Index</th>\n",
       "      <th>Gray Matter Volume</th>\n",
       "      <th>Integrated Rectified Gaussian Curvature</th>\n",
       "      <th>Integrated Rectified Mean Curvature</th>\n",
       "      <th>Intrinsic Curvature Index</th>\n",
       "      <th>Surface Area</th>\n",
       "      <th>Thickness StdDev</th>\n",
       "    </tr>\n",
       "    <tr>\n",
       "      <th>Run ID</th>\n",
       "      <th></th>\n",
       "      <th></th>\n",
       "      <th></th>\n",
       "      <th></th>\n",
       "      <th></th>\n",
       "      <th></th>\n",
       "      <th></th>\n",
       "      <th></th>\n",
       "      <th></th>\n",
       "      <th></th>\n",
       "      <th></th>\n",
       "      <th></th>\n",
       "      <th></th>\n",
       "      <th></th>\n",
       "      <th></th>\n",
       "      <th></th>\n",
       "      <th></th>\n",
       "      <th></th>\n",
       "      <th></th>\n",
       "      <th></th>\n",
       "      <th></th>\n",
       "    </tr>\n",
       "  </thead>\n",
       "  <tbody>\n",
       "    <tr>\n",
       "      <th>58</th>\n",
       "      <td>2.851</td>\n",
       "      <td>24.0</td>\n",
       "      <td>4764.0</td>\n",
       "      <td>0.024</td>\n",
       "      <td>0.121</td>\n",
       "      <td>2.2</td>\n",
       "      <td>1580.0</td>\n",
       "      <td>0.425</td>\n",
       "      <td>2.677</td>\n",
       "      <td>9.0</td>\n",
       "      <td>...</td>\n",
       "      <td>5235.0</td>\n",
       "      <td>0.449</td>\n",
       "      <td>2.724</td>\n",
       "      <td>2.0</td>\n",
       "      <td>465.0</td>\n",
       "      <td>0.016</td>\n",
       "      <td>0.118</td>\n",
       "      <td>0.2</td>\n",
       "      <td>215.0</td>\n",
       "      <td>0.377</td>\n",
       "    </tr>\n",
       "    <tr>\n",
       "      <th>59</th>\n",
       "      <td>2.755</td>\n",
       "      <td>29.0</td>\n",
       "      <td>5056.0</td>\n",
       "      <td>0.030</td>\n",
       "      <td>0.135</td>\n",
       "      <td>3.2</td>\n",
       "      <td>1711.0</td>\n",
       "      <td>0.582</td>\n",
       "      <td>2.541</td>\n",
       "      <td>19.0</td>\n",
       "      <td>...</td>\n",
       "      <td>4458.0</td>\n",
       "      <td>0.481</td>\n",
       "      <td>2.673</td>\n",
       "      <td>1.0</td>\n",
       "      <td>419.0</td>\n",
       "      <td>0.014</td>\n",
       "      <td>0.105</td>\n",
       "      <td>0.2</td>\n",
       "      <td>199.0</td>\n",
       "      <td>0.295</td>\n",
       "    </tr>\n",
       "    <tr>\n",
       "      <th>60</th>\n",
       "      <td>2.781</td>\n",
       "      <td>24.0</td>\n",
       "      <td>5466.0</td>\n",
       "      <td>0.023</td>\n",
       "      <td>0.114</td>\n",
       "      <td>2.6</td>\n",
       "      <td>1842.0</td>\n",
       "      <td>0.515</td>\n",
       "      <td>2.827</td>\n",
       "      <td>8.0</td>\n",
       "      <td>...</td>\n",
       "      <td>4875.0</td>\n",
       "      <td>0.464</td>\n",
       "      <td>2.303</td>\n",
       "      <td>4.0</td>\n",
       "      <td>495.0</td>\n",
       "      <td>0.018</td>\n",
       "      <td>0.119</td>\n",
       "      <td>0.3</td>\n",
       "      <td>273.0</td>\n",
       "      <td>0.302</td>\n",
       "    </tr>\n",
       "    <tr>\n",
       "      <th>61</th>\n",
       "      <td>2.813</td>\n",
       "      <td>29.0</td>\n",
       "      <td>4724.0</td>\n",
       "      <td>0.026</td>\n",
       "      <td>0.126</td>\n",
       "      <td>2.3</td>\n",
       "      <td>1553.0</td>\n",
       "      <td>0.456</td>\n",
       "      <td>2.582</td>\n",
       "      <td>10.0</td>\n",
       "      <td>...</td>\n",
       "      <td>5513.0</td>\n",
       "      <td>0.475</td>\n",
       "      <td>2.689</td>\n",
       "      <td>2.0</td>\n",
       "      <td>482.0</td>\n",
       "      <td>0.017</td>\n",
       "      <td>0.112</td>\n",
       "      <td>0.2</td>\n",
       "      <td>223.0</td>\n",
       "      <td>0.361</td>\n",
       "    </tr>\n",
       "    <tr>\n",
       "      <th>62</th>\n",
       "      <td>2.755</td>\n",
       "      <td>20.0</td>\n",
       "      <td>5185.0</td>\n",
       "      <td>0.022</td>\n",
       "      <td>0.112</td>\n",
       "      <td>2.4</td>\n",
       "      <td>1782.0</td>\n",
       "      <td>0.513</td>\n",
       "      <td>2.744</td>\n",
       "      <td>8.0</td>\n",
       "      <td>...</td>\n",
       "      <td>4337.0</td>\n",
       "      <td>0.551</td>\n",
       "      <td>2.440</td>\n",
       "      <td>4.0</td>\n",
       "      <td>588.0</td>\n",
       "      <td>0.015</td>\n",
       "      <td>0.119</td>\n",
       "      <td>0.3</td>\n",
       "      <td>307.0</td>\n",
       "      <td>0.267</td>\n",
       "    </tr>\n",
       "    <tr>\n",
       "      <th>...</th>\n",
       "      <td>...</td>\n",
       "      <td>...</td>\n",
       "      <td>...</td>\n",
       "      <td>...</td>\n",
       "      <td>...</td>\n",
       "      <td>...</td>\n",
       "      <td>...</td>\n",
       "      <td>...</td>\n",
       "      <td>...</td>\n",
       "      <td>...</td>\n",
       "      <td>...</td>\n",
       "      <td>...</td>\n",
       "      <td>...</td>\n",
       "      <td>...</td>\n",
       "      <td>...</td>\n",
       "      <td>...</td>\n",
       "      <td>...</td>\n",
       "      <td>...</td>\n",
       "      <td>...</td>\n",
       "      <td>...</td>\n",
       "      <td>...</td>\n",
       "    </tr>\n",
       "    <tr>\n",
       "      <th>5238</th>\n",
       "      <td>2.412</td>\n",
       "      <td>14.0</td>\n",
       "      <td>3828.0</td>\n",
       "      <td>0.020</td>\n",
       "      <td>0.104</td>\n",
       "      <td>1.9</td>\n",
       "      <td>1554.0</td>\n",
       "      <td>0.481</td>\n",
       "      <td>2.364</td>\n",
       "      <td>7.0</td>\n",
       "      <td>...</td>\n",
       "      <td>4312.0</td>\n",
       "      <td>0.415</td>\n",
       "      <td>2.460</td>\n",
       "      <td>2.0</td>\n",
       "      <td>356.0</td>\n",
       "      <td>0.020</td>\n",
       "      <td>0.148</td>\n",
       "      <td>0.2</td>\n",
       "      <td>171.0</td>\n",
       "      <td>0.357</td>\n",
       "    </tr>\n",
       "    <tr>\n",
       "      <th>5239</th>\n",
       "      <td>2.600</td>\n",
       "      <td>18.0</td>\n",
       "      <td>4198.0</td>\n",
       "      <td>0.021</td>\n",
       "      <td>0.109</td>\n",
       "      <td>1.9</td>\n",
       "      <td>1547.0</td>\n",
       "      <td>0.563</td>\n",
       "      <td>2.559</td>\n",
       "      <td>8.0</td>\n",
       "      <td>...</td>\n",
       "      <td>3649.0</td>\n",
       "      <td>0.482</td>\n",
       "      <td>2.550</td>\n",
       "      <td>1.0</td>\n",
       "      <td>285.0</td>\n",
       "      <td>0.023</td>\n",
       "      <td>0.121</td>\n",
       "      <td>0.2</td>\n",
       "      <td>113.0</td>\n",
       "      <td>0.374</td>\n",
       "    </tr>\n",
       "    <tr>\n",
       "      <th>5240</th>\n",
       "      <td>2.774</td>\n",
       "      <td>22.0</td>\n",
       "      <td>4007.0</td>\n",
       "      <td>0.028</td>\n",
       "      <td>0.127</td>\n",
       "      <td>2.0</td>\n",
       "      <td>1316.0</td>\n",
       "      <td>0.523</td>\n",
       "      <td>2.734</td>\n",
       "      <td>13.0</td>\n",
       "      <td>...</td>\n",
       "      <td>4490.0</td>\n",
       "      <td>0.470</td>\n",
       "      <td>2.712</td>\n",
       "      <td>2.0</td>\n",
       "      <td>484.0</td>\n",
       "      <td>0.018</td>\n",
       "      <td>0.138</td>\n",
       "      <td>0.3</td>\n",
       "      <td>225.0</td>\n",
       "      <td>0.469</td>\n",
       "    </tr>\n",
       "    <tr>\n",
       "      <th>5241</th>\n",
       "      <td>2.485</td>\n",
       "      <td>25.0</td>\n",
       "      <td>4093.0</td>\n",
       "      <td>0.026</td>\n",
       "      <td>0.125</td>\n",
       "      <td>2.2</td>\n",
       "      <td>1489.0</td>\n",
       "      <td>0.483</td>\n",
       "      <td>2.539</td>\n",
       "      <td>10.0</td>\n",
       "      <td>...</td>\n",
       "      <td>3900.0</td>\n",
       "      <td>0.406</td>\n",
       "      <td>2.642</td>\n",
       "      <td>2.0</td>\n",
       "      <td>462.0</td>\n",
       "      <td>0.012</td>\n",
       "      <td>0.116</td>\n",
       "      <td>0.2</td>\n",
       "      <td>209.0</td>\n",
       "      <td>0.420</td>\n",
       "    </tr>\n",
       "    <tr>\n",
       "      <th>5242</th>\n",
       "      <td>2.617</td>\n",
       "      <td>20.0</td>\n",
       "      <td>3350.0</td>\n",
       "      <td>0.024</td>\n",
       "      <td>0.116</td>\n",
       "      <td>1.6</td>\n",
       "      <td>1182.0</td>\n",
       "      <td>0.542</td>\n",
       "      <td>2.594</td>\n",
       "      <td>11.0</td>\n",
       "      <td>...</td>\n",
       "      <td>3059.0</td>\n",
       "      <td>0.501</td>\n",
       "      <td>2.586</td>\n",
       "      <td>1.0</td>\n",
       "      <td>361.0</td>\n",
       "      <td>0.021</td>\n",
       "      <td>0.117</td>\n",
       "      <td>0.2</td>\n",
       "      <td>136.0</td>\n",
       "      <td>0.372</td>\n",
       "    </tr>\n",
       "  </tbody>\n",
       "</table>\n",
       "<p>2758 rows × 1184 columns</p>\n",
       "</div>"
      ],
      "text/plain": [
       "Hemisphere               Left                                   \\\n",
       "Region Name    G&S_cingul-Ant                                    \n",
       "Metric      Average Thickness Folding Index Gray Matter Volume   \n",
       "Run ID                                                           \n",
       "58                      2.851          24.0             4764.0   \n",
       "59                      2.755          29.0             5056.0   \n",
       "60                      2.781          24.0             5466.0   \n",
       "61                      2.813          29.0             4724.0   \n",
       "62                      2.755          20.0             5185.0   \n",
       "...                       ...           ...                ...   \n",
       "5238                    2.412          14.0             3828.0   \n",
       "5239                    2.600          18.0             4198.0   \n",
       "5240                    2.774          22.0             4007.0   \n",
       "5241                    2.485          25.0             4093.0   \n",
       "5242                    2.617          20.0             3350.0   \n",
       "\n",
       "Hemisphere                                           \\\n",
       "Region Name                                           \n",
       "Metric      Integrated Rectified Gaussian Curvature   \n",
       "Run ID                                                \n",
       "58                                            0.024   \n",
       "59                                            0.030   \n",
       "60                                            0.023   \n",
       "61                                            0.026   \n",
       "62                                            0.022   \n",
       "...                                             ...   \n",
       "5238                                          0.020   \n",
       "5239                                          0.021   \n",
       "5240                                          0.028   \n",
       "5241                                          0.026   \n",
       "5242                                          0.024   \n",
       "\n",
       "Hemisphere                                                                 \\\n",
       "Region Name                                                                 \n",
       "Metric      Integrated Rectified Mean Curvature Intrinsic Curvature Index   \n",
       "Run ID                                                                      \n",
       "58                                        0.121                       2.2   \n",
       "59                                        0.135                       3.2   \n",
       "60                                        0.114                       2.6   \n",
       "61                                        0.126                       2.3   \n",
       "62                                        0.112                       2.4   \n",
       "...                                         ...                       ...   \n",
       "5238                                      0.104                       1.9   \n",
       "5239                                      0.109                       1.9   \n",
       "5240                                      0.127                       2.0   \n",
       "5241                                      0.125                       2.2   \n",
       "5242                                      0.116                       1.6   \n",
       "\n",
       "Hemisphere                                                                  \\\n",
       "Region Name                               G&S_cingul-Mid-Ant                 \n",
       "Metric      Surface Area Thickness StdDev  Average Thickness Folding Index   \n",
       "Run ID                                                                       \n",
       "58                1580.0            0.425              2.677           9.0   \n",
       "59                1711.0            0.582              2.541          19.0   \n",
       "60                1842.0            0.515              2.827           8.0   \n",
       "61                1553.0            0.456              2.582          10.0   \n",
       "62                1782.0            0.513              2.744           8.0   \n",
       "...                  ...              ...                ...           ...   \n",
       "5238              1554.0            0.481              2.364           7.0   \n",
       "5239              1547.0            0.563              2.559           8.0   \n",
       "5240              1316.0            0.523              2.734          13.0   \n",
       "5241              1489.0            0.483              2.539          10.0   \n",
       "5242              1182.0            0.542              2.594          11.0   \n",
       "\n",
       "Hemisphere   ...          Right                                         \\\n",
       "Region Name  ... S_temporal_sup                  S_temporal_transverse   \n",
       "Metric       ...   Surface Area Thickness StdDev     Average Thickness   \n",
       "Run ID       ...                                                         \n",
       "58           ...         5235.0            0.449                 2.724   \n",
       "59           ...         4458.0            0.481                 2.673   \n",
       "60           ...         4875.0            0.464                 2.303   \n",
       "61           ...         5513.0            0.475                 2.689   \n",
       "62           ...         4337.0            0.551                 2.440   \n",
       "...          ...            ...              ...                   ...   \n",
       "5238         ...         4312.0            0.415                 2.460   \n",
       "5239         ...         3649.0            0.482                 2.550   \n",
       "5240         ...         4490.0            0.470                 2.712   \n",
       "5241         ...         3900.0            0.406                 2.642   \n",
       "5242         ...         3059.0            0.501                 2.586   \n",
       "\n",
       "Hemisphere                                    \\\n",
       "Region Name                                    \n",
       "Metric      Folding Index Gray Matter Volume   \n",
       "Run ID                                         \n",
       "58                    2.0              465.0   \n",
       "59                    1.0              419.0   \n",
       "60                    4.0              495.0   \n",
       "61                    2.0              482.0   \n",
       "62                    4.0              588.0   \n",
       "...                   ...                ...   \n",
       "5238                  2.0              356.0   \n",
       "5239                  1.0              285.0   \n",
       "5240                  2.0              484.0   \n",
       "5241                  2.0              462.0   \n",
       "5242                  1.0              361.0   \n",
       "\n",
       "Hemisphere                                           \\\n",
       "Region Name                                           \n",
       "Metric      Integrated Rectified Gaussian Curvature   \n",
       "Run ID                                                \n",
       "58                                            0.016   \n",
       "59                                            0.014   \n",
       "60                                            0.018   \n",
       "61                                            0.017   \n",
       "62                                            0.015   \n",
       "...                                             ...   \n",
       "5238                                          0.020   \n",
       "5239                                          0.023   \n",
       "5240                                          0.018   \n",
       "5241                                          0.012   \n",
       "5242                                          0.021   \n",
       "\n",
       "Hemisphere                                                                 \\\n",
       "Region Name                                                                 \n",
       "Metric      Integrated Rectified Mean Curvature Intrinsic Curvature Index   \n",
       "Run ID                                                                      \n",
       "58                                        0.118                       0.2   \n",
       "59                                        0.105                       0.2   \n",
       "60                                        0.119                       0.3   \n",
       "61                                        0.112                       0.2   \n",
       "62                                        0.119                       0.3   \n",
       "...                                         ...                       ...   \n",
       "5238                                      0.148                       0.2   \n",
       "5239                                      0.121                       0.2   \n",
       "5240                                      0.138                       0.3   \n",
       "5241                                      0.116                       0.2   \n",
       "5242                                      0.117                       0.2   \n",
       "\n",
       "Hemisphere                                 \n",
       "Region Name                                \n",
       "Metric      Surface Area Thickness StdDev  \n",
       "Run ID                                     \n",
       "58                 215.0            0.377  \n",
       "59                 199.0            0.295  \n",
       "60                 273.0            0.302  \n",
       "61                 223.0            0.361  \n",
       "62                 307.0            0.267  \n",
       "...                  ...              ...  \n",
       "5238               171.0            0.357  \n",
       "5239               113.0            0.374  \n",
       "5240               225.0            0.469  \n",
       "5241               209.0            0.420  \n",
       "5242               136.0            0.372  \n",
       "\n",
       "[2758 rows x 1184 columns]"
      ]
     },
     "execution_count": 11,
     "metadata": {},
     "output_type": "execute_result"
    }
   ],
   "source": [
    "results"
   ]
  },
  {
   "cell_type": "markdown",
   "id": "0e048f92-36d9-4795-a53d-d81c646b0ddd",
   "metadata": {
    "tags": []
   },
   "source": [
    "### Distinct Acquisition Protocols"
   ]
  },
  {
   "cell_type": "code",
   "execution_count": 12,
   "id": "ea36a9c9-b5f7-4e69-a590-ce660c7b2ea8",
   "metadata": {
    "execution": {
     "iopub.execute_input": "2022-04-24T09:42:32.992797Z",
     "iopub.status.busy": "2022-04-24T09:42:32.992371Z",
     "iopub.status.idle": "2022-04-24T09:42:33.012511Z",
     "shell.execute_reply": "2022-04-24T09:42:33.011914Z",
     "shell.execute_reply.started": "2022-04-24T09:42:32.992758Z"
    },
    "tags": []
   },
   "outputs": [
    {
     "data": {
      "text/html": [
       "<div>\n",
       "<style scoped>\n",
       "    .dataframe tbody tr th:only-of-type {\n",
       "        vertical-align: middle;\n",
       "    }\n",
       "\n",
       "    .dataframe tbody tr th {\n",
       "        vertical-align: top;\n",
       "    }\n",
       "\n",
       "    .dataframe thead th {\n",
       "        text-align: right;\n",
       "    }\n",
       "</style>\n",
       "<table border=\"1\" class=\"dataframe\">\n",
       "  <thead>\n",
       "    <tr style=\"text-align: right;\">\n",
       "      <th></th>\n",
       "      <th>Inversion Time</th>\n",
       "      <th>Echo Time</th>\n",
       "      <th>Repetition Time</th>\n",
       "      <th>Corrected</th>\n",
       "      <th>Spatial Resolution</th>\n",
       "      <th>Count</th>\n",
       "    </tr>\n",
       "  </thead>\n",
       "  <tbody>\n",
       "    <tr>\n",
       "      <th>24</th>\n",
       "      <td>1000.0</td>\n",
       "      <td>2.78</td>\n",
       "      <td>2400.0</td>\n",
       "      <td>True</td>\n",
       "      <td>[0.9, 0.9, 0.9]</td>\n",
       "      <td>735</td>\n",
       "    </tr>\n",
       "    <tr>\n",
       "      <th>21</th>\n",
       "      <td>1000.0</td>\n",
       "      <td>2.78</td>\n",
       "      <td>2400.0</td>\n",
       "      <td>False</td>\n",
       "      <td>[0.9, 0.9, 0.9]</td>\n",
       "      <td>721</td>\n",
       "    </tr>\n",
       "    <tr>\n",
       "      <th>13</th>\n",
       "      <td>1000.0</td>\n",
       "      <td>2.14</td>\n",
       "      <td>2400.0</td>\n",
       "      <td>False</td>\n",
       "      <td>[0.7, 0.7, 0.7]</td>\n",
       "      <td>566</td>\n",
       "    </tr>\n",
       "    <tr>\n",
       "      <th>37</th>\n",
       "      <td>1100.0</td>\n",
       "      <td>2.88</td>\n",
       "      <td>2530.0</td>\n",
       "      <td>True</td>\n",
       "      <td>[1.0, 1.0, 1.0]</td>\n",
       "      <td>215</td>\n",
       "    </tr>\n",
       "    <tr>\n",
       "      <th>10</th>\n",
       "      <td>900.0</td>\n",
       "      <td>2.84</td>\n",
       "      <td>1750.0</td>\n",
       "      <td>True</td>\n",
       "      <td>[0.6, 0.6, 0.6]</td>\n",
       "      <td>96</td>\n",
       "    </tr>\n",
       "  </tbody>\n",
       "</table>\n",
       "</div>"
      ],
      "text/plain": [
       "    Inversion Time  Echo Time  Repetition Time  Corrected Spatial Resolution  \\\n",
       "24          1000.0       2.78           2400.0       True    [0.9, 0.9, 0.9]   \n",
       "21          1000.0       2.78           2400.0      False    [0.9, 0.9, 0.9]   \n",
       "13          1000.0       2.14           2400.0      False    [0.7, 0.7, 0.7]   \n",
       "37          1100.0       2.88           2530.0       True    [1.0, 1.0, 1.0]   \n",
       "10           900.0       2.84           1750.0       True    [0.6, 0.6, 0.6]   \n",
       "\n",
       "    Count  \n",
       "24    735  \n",
       "21    721  \n",
       "13    566  \n",
       "37    215  \n",
       "10     96  "
      ]
     },
     "execution_count": 12,
     "metadata": {},
     "output_type": "execute_result"
    }
   ],
   "source": [
    "ACQUISITION_GROUPING = [\"Inversion Time\", \"Echo Time\", \"Repetition Time\", \"Corrected\", \"Spatial Resolution\"]\n",
    "scan_parameter_counts = context.groupby(ACQUISITION_GROUPING).size().reset_index().rename(columns={0: \"Count\"}).sort_values(\"Count\", ascending=False)\n",
    "scan_parameter_counts.head()"
   ]
  },
  {
   "cell_type": "markdown",
   "id": "0b519ac1-015a-4080-9319-1ad98f35a37c",
   "metadata": {},
   "source": [
    "### Filtered queryset selection"
   ]
  },
  {
   "cell_type": "markdown",
   "id": "a7862a5a-49f7-4779-b90e-e7188287c6a5",
   "metadata": {},
   "source": [
    "Select only corrected \"the base\" scans:"
   ]
  },
  {
   "cell_type": "code",
   "execution_count": 13,
   "id": "2bc0567f-04e0-408b-9a27-e2db69fa6fb2",
   "metadata": {
    "execution": {
     "iopub.execute_input": "2022-04-24T09:42:34.297889Z",
     "iopub.status.busy": "2022-04-24T09:42:34.297470Z",
     "iopub.status.idle": "2022-04-24T09:42:34.313011Z",
     "shell.execute_reply": "2022-04-24T09:42:34.312357Z",
     "shell.execute_reply.started": "2022-04-24T09:42:34.297850Z"
    },
    "tags": []
   },
   "outputs": [],
   "source": [
    "base_mask = context[\"Corrected\"] & (context[\"Inversion Time\"] == 1000) & (context[\"Echo Time\"] == 2.78) & (context[\"Repetition Time\"] == 2400) & (context[\"Spatial Resolution\"] == \"[0.9, 0.9, 0.9]\")\n",
    "base_context = context[base_mask].drop_duplicates(subset=\"Subject ID\", keep=\"last\")\n",
    "base_results = results.loc[base_context.index]"
   ]
  },
  {
   "cell_type": "markdown",
   "id": "41632454-0718-4de4-a33a-9872c202bff4",
   "metadata": {},
   "source": [
    "Select HCP scans:"
   ]
  },
  {
   "cell_type": "code",
   "execution_count": 14,
   "id": "01f2b351-4dda-4bd7-9b59-f2655738bdc6",
   "metadata": {
    "execution": {
     "iopub.execute_input": "2022-04-24T09:42:35.811730Z",
     "iopub.status.busy": "2022-04-24T09:42:35.811313Z",
     "iopub.status.idle": "2022-04-24T09:42:35.823748Z",
     "shell.execute_reply": "2022-04-24T09:42:35.822860Z",
     "shell.execute_reply.started": "2022-04-24T09:42:35.811691Z"
    },
    "tags": []
   },
   "outputs": [],
   "source": [
    "hcp_mask = ~context[\"Corrected\"] & (context[\"Inversion Time\"] == 1000) & (context[\"Echo Time\"] == 2.14) & (context[\"Repetition Time\"] == 2400) & (context[\"Spatial Resolution\"] == \"[0.7, 0.7, 0.7]\")\n",
    "hcp_context = context[hcp_mask]\n",
    "hcp_results = results.loc[hcp_context.index]"
   ]
  },
  {
   "cell_type": "markdown",
   "id": "e3fded1c-00cf-4fd6-b324-0348c2f1d686",
   "metadata": {},
   "source": [
    "## Train/Test Split"
   ]
  },
  {
   "cell_type": "code",
   "execution_count": 15,
   "id": "d2b9f793-f097-4abb-a617-a62e43263142",
   "metadata": {
    "execution": {
     "iopub.execute_input": "2022-04-24T09:42:36.696742Z",
     "iopub.status.busy": "2022-04-24T09:42:36.696318Z",
     "iopub.status.idle": "2022-04-24T09:42:36.703059Z",
     "shell.execute_reply": "2022-04-24T09:42:36.702080Z",
     "shell.execute_reply.started": "2022-04-24T09:42:36.696703Z"
    },
    "tags": []
   },
   "outputs": [],
   "source": [
    "X_base = base_results.to_numpy()\n",
    "y_base = base_context[\"Sex\"].copy()\n",
    "\n",
    "X_hcp = hcp_results.to_numpy()\n",
    "y_hcp = hcp_context[\"Sex\"].copy()"
   ]
  },
  {
   "cell_type": "code",
   "execution_count": 16,
   "id": "bfaf064c-5b3f-4242-b351-a3f5180518e2",
   "metadata": {
    "execution": {
     "iopub.execute_input": "2022-04-24T09:42:38.428560Z",
     "iopub.status.busy": "2022-04-24T09:42:38.428137Z",
     "iopub.status.idle": "2022-04-24T09:42:38.433185Z",
     "shell.execute_reply": "2022-04-24T09:42:38.432118Z",
     "shell.execute_reply.started": "2022-04-24T09:42:38.428520Z"
    },
    "tags": []
   },
   "outputs": [],
   "source": [
    "from sklearn.model_selection import train_test_split"
   ]
  },
  {
   "cell_type": "code",
   "execution_count": 17,
   "id": "86f5794c-3699-453c-9af4-4c6dc04da920",
   "metadata": {
    "execution": {
     "iopub.execute_input": "2022-04-24T09:42:38.974647Z",
     "iopub.status.busy": "2022-04-24T09:42:38.974226Z",
     "iopub.status.idle": "2022-04-24T09:42:38.988333Z",
     "shell.execute_reply": "2022-04-24T09:42:38.987656Z",
     "shell.execute_reply.started": "2022-04-24T09:42:38.974607Z"
    },
    "tags": []
   },
   "outputs": [],
   "source": [
    "X_base_train, X_base_test, y_base_train, y_base_test = train_test_split(X_base, y_base, test_size=0.1, random_state=RANDOM_STATE)\n",
    "X_hcp_train, X_hcp_test, y_hcp_train, y_hcp_test = train_test_split(X_hcp, y_hcp, test_size=0.1, random_state=RANDOM_STATE)"
   ]
  },
  {
   "cell_type": "markdown",
   "id": "5c334282-3f56-4382-ae46-b75e94a7c330",
   "metadata": {},
   "source": [
    "## Standardization"
   ]
  },
  {
   "cell_type": "code",
   "execution_count": 18,
   "id": "6ec040cf-7607-4279-9d55-4fa10b996866",
   "metadata": {
    "execution": {
     "iopub.execute_input": "2022-04-24T09:42:40.724496Z",
     "iopub.status.busy": "2022-04-24T09:42:40.724072Z",
     "iopub.status.idle": "2022-04-24T09:42:40.729193Z",
     "shell.execute_reply": "2022-04-24T09:42:40.728285Z",
     "shell.execute_reply.started": "2022-04-24T09:42:40.724457Z"
    },
    "tags": []
   },
   "outputs": [],
   "source": [
    "from sklearn.preprocessing import StandardScaler"
   ]
  },
  {
   "cell_type": "code",
   "execution_count": 19,
   "id": "c20c40b0-d4ed-4b4d-a346-b38448bcfabe",
   "metadata": {
    "execution": {
     "iopub.execute_input": "2022-04-24T09:42:40.867956Z",
     "iopub.status.busy": "2022-04-24T09:42:40.867557Z",
     "iopub.status.idle": "2022-04-24T09:42:40.872034Z",
     "shell.execute_reply": "2022-04-24T09:42:40.871134Z",
     "shell.execute_reply.started": "2022-04-24T09:42:40.867922Z"
    },
    "tags": []
   },
   "outputs": [],
   "source": [
    "scaler = StandardScaler()"
   ]
  },
  {
   "cell_type": "code",
   "execution_count": 20,
   "id": "8bf12871-a8d7-4e7c-8743-6dd623aaed64",
   "metadata": {
    "execution": {
     "iopub.execute_input": "2022-04-24T09:42:41.023886Z",
     "iopub.status.busy": "2022-04-24T09:42:41.023470Z",
     "iopub.status.idle": "2022-04-24T09:42:41.047218Z",
     "shell.execute_reply": "2022-04-24T09:42:41.046284Z",
     "shell.execute_reply.started": "2022-04-24T09:42:41.023846Z"
    },
    "tags": []
   },
   "outputs": [],
   "source": [
    "X_base_train = scaler.fit_transform(X_base_train)\n",
    "X_base_test = scaler.transform(X_base_test)\n",
    "X_hcp_train = scaler.fit_transform(X_hcp_train)\n",
    "X_hcp_test = scaler.transform(X_hcp_test)"
   ]
  },
  {
   "cell_type": "markdown",
   "id": "dd9cfc4b-65ca-47a9-89dd-e721afddb8c0",
   "metadata": {},
   "source": [
    "## Sex Classification"
   ]
  },
  {
   "cell_type": "markdown",
   "id": "f707d758-84c4-42b3-bc74-04751ad45df5",
   "metadata": {},
   "source": [
    "### Logistic Regression"
   ]
  },
  {
   "cell_type": "code",
   "execution_count": 21,
   "id": "59f76128-90d4-44d7-9fca-2d19e3810f60",
   "metadata": {
    "execution": {
     "iopub.execute_input": "2022-04-24T09:42:45.175363Z",
     "iopub.status.busy": "2022-04-24T09:42:45.174950Z",
     "iopub.status.idle": "2022-04-24T09:42:45.180411Z",
     "shell.execute_reply": "2022-04-24T09:42:45.179615Z",
     "shell.execute_reply.started": "2022-04-24T09:42:45.175324Z"
    },
    "tags": []
   },
   "outputs": [],
   "source": [
    "import numpy as np\n",
    "from scipy.stats import loguniform, randint, uniform\n",
    "from sklearn.linear_model import LogisticRegression\n",
    "from sklearn.model_selection import GridSearchCV, RandomizedSearchCV"
   ]
  },
  {
   "cell_type": "code",
   "execution_count": 16,
   "id": "e0f0e5cf-e532-4844-877d-36846b3994bf",
   "metadata": {
    "execution": {
     "iopub.execute_input": "2022-04-14T16:41:58.418483Z",
     "iopub.status.busy": "2022-04-14T16:41:58.418026Z",
     "iopub.status.idle": "2022-04-14T16:41:58.428869Z",
     "shell.execute_reply": "2022-04-14T16:41:58.427869Z",
     "shell.execute_reply.started": "2022-04-14T16:41:58.418443Z"
    },
    "tags": []
   },
   "outputs": [],
   "source": [
    "logit_param_grid = {\n",
    "    \"C\": loguniform(1e-2, 1e2),\n",
    "    \"l1_ratio\": uniform(),\n",
    "}\n",
    "base_logistic_model = LogisticRegression(penalty=\"elasticnet\", \n",
    "                                         solver=\"saga\", \n",
    "                                         max_iter=1e4,\n",
    "                                         random_state=RANDOM_STATE,\n",
    "                                         n_jobs=-1)\n",
    "# hcp_logistic_model = LogisticRegression(penalty=\"elasticnet\", \n",
    "#                                         solver=\"saga\", \n",
    "#                                         max_iter=1e4,\n",
    "#                                         random_state=RANDOM_STATE,\n",
    "#                                         n_jobs=-1)"
   ]
  },
  {
   "cell_type": "code",
   "execution_count": 17,
   "id": "3f8596dd-84a7-4b8f-8694-38ed4f8a9eb8",
   "metadata": {
    "execution": {
     "iopub.execute_input": "2022-04-14T16:41:59.727063Z",
     "iopub.status.busy": "2022-04-14T16:41:59.726638Z",
     "iopub.status.idle": "2022-04-14T16:41:59.733555Z",
     "shell.execute_reply": "2022-04-14T16:41:59.732525Z",
     "shell.execute_reply.started": "2022-04-14T16:41:59.727022Z"
    },
    "tags": []
   },
   "outputs": [],
   "source": [
    "base_logit_searcher = RandomizedSearchCV(base_logistic_model, \n",
    "                                         logit_param_grid, \n",
    "                                         n_iter=100, \n",
    "                                         n_jobs=-1, \n",
    "                                         random_state=RANDOM_STATE)\n",
    "# hcp_logit_searcher = RandomizedSearchCV(hcp_logistic_model, \n",
    "#                                         logit_param_grid, \n",
    "#                                         n_iter=100, \n",
    "#                                         n_jobs=-1, \n",
    "#                                         random_state=RANDOM_STATE)"
   ]
  },
  {
   "cell_type": "code",
   "execution_count": 18,
   "id": "ab646e23-cddb-4b01-a12c-5b00aee07d32",
   "metadata": {
    "execution": {
     "iopub.execute_input": "2022-04-14T16:42:02.127239Z",
     "iopub.status.busy": "2022-04-14T16:42:02.126808Z",
     "iopub.status.idle": "2022-04-14T17:05:55.299732Z",
     "shell.execute_reply": "2022-04-14T17:05:55.298577Z",
     "shell.execute_reply.started": "2022-04-14T16:42:02.127197Z"
    },
    "tags": []
   },
   "outputs": [],
   "source": [
    "base_logit_searcher.fit(X_base_train, y_base_train)\n",
    "# _ = hcp_logit_searcher.fit(X_hcp_train, y_hcp_train)"
   ]
  },
  {
   "cell_type": "code",
   "execution_count": 19,
   "id": "a1b6bce3-d109-4fa3-b3da-acb96702b8d0",
   "metadata": {
    "execution": {
     "iopub.execute_input": "2022-04-14T17:05:55.302351Z",
     "iopub.status.busy": "2022-04-14T17:05:55.301904Z",
     "iopub.status.idle": "2022-04-14T17:05:55.309812Z",
     "shell.execute_reply": "2022-04-14T17:05:55.308791Z",
     "shell.execute_reply.started": "2022-04-14T17:05:55.302303Z"
    },
    "tags": []
   },
   "outputs": [
    {
     "data": {
      "text/plain": [
       "{'C': 0.01923730509654649, 'l1_ratio': 0.08712929970154071}"
      ]
     },
     "execution_count": 19,
     "metadata": {},
     "output_type": "execute_result"
    }
   ],
   "source": [
    "base_logit_searcher.best_params_"
   ]
  },
  {
   "cell_type": "code",
   "execution_count": 20,
   "id": "a8c9d49e-0efa-4a45-b7e4-cdd190fcc5cd",
   "metadata": {
    "execution": {
     "iopub.execute_input": "2022-04-14T17:05:55.310888Z",
     "iopub.status.busy": "2022-04-14T17:05:55.310669Z",
     "iopub.status.idle": "2022-04-14T17:05:55.315285Z",
     "shell.execute_reply": "2022-04-14T17:05:55.314840Z",
     "shell.execute_reply.started": "2022-04-14T17:05:55.310865Z"
    }
   },
   "outputs": [
    {
     "data": {
      "text/plain": [
       "{'C': 0.6677306766018307, 'l1_ratio': 0.5684339488686485}"
      ]
     },
     "execution_count": 20,
     "metadata": {},
     "output_type": "execute_result"
    }
   ],
   "source": [
    "# hcp_logit_searcher.best_params_"
   ]
  },
  {
   "cell_type": "code",
   "execution_count": 21,
   "id": "12a3e769-27b9-4255-aaaf-4ac0f744002f",
   "metadata": {
    "execution": {
     "iopub.execute_input": "2022-04-14T17:05:55.317763Z",
     "iopub.status.busy": "2022-04-14T17:05:55.317301Z",
     "iopub.status.idle": "2022-04-14T17:05:55.323602Z",
     "shell.execute_reply": "2022-04-14T17:05:55.322724Z",
     "shell.execute_reply.started": "2022-04-14T17:05:55.317720Z"
    },
    "tags": []
   },
   "outputs": [
    {
     "data": {
      "text/plain": [
       "0.8780042710153368"
      ]
     },
     "execution_count": 21,
     "metadata": {},
     "output_type": "execute_result"
    }
   ],
   "source": [
    "base_logit_searcher.best_score_"
   ]
  },
  {
   "cell_type": "code",
   "execution_count": 22,
   "id": "73594b70-f14f-4486-8316-b2d8bae9d8e5",
   "metadata": {
    "execution": {
     "iopub.execute_input": "2022-04-14T17:05:55.325489Z",
     "iopub.status.busy": "2022-04-14T17:05:55.324878Z",
     "iopub.status.idle": "2022-04-14T17:05:55.332726Z",
     "shell.execute_reply": "2022-04-14T17:05:55.332077Z",
     "shell.execute_reply.started": "2022-04-14T17:05:55.325442Z"
    }
   },
   "outputs": [
    {
     "data": {
      "text/plain": [
       "0.8918656571539507"
      ]
     },
     "execution_count": 22,
     "metadata": {},
     "output_type": "execute_result"
    }
   ],
   "source": [
    "# hcp_logit_searcher.best_score_"
   ]
  },
  {
   "cell_type": "code",
   "execution_count": 23,
   "id": "1c30df89-42cf-45fa-8ece-2cc893f667df",
   "metadata": {
    "execution": {
     "iopub.execute_input": "2022-04-14T17:05:55.334068Z",
     "iopub.status.busy": "2022-04-14T17:05:55.333742Z",
     "iopub.status.idle": "2022-04-14T17:05:55.353056Z",
     "shell.execute_reply": "2022-04-14T17:05:55.352346Z",
     "shell.execute_reply.started": "2022-04-14T17:05:55.334040Z"
    },
    "tags": []
   },
   "outputs": [
    {
     "data": {
      "text/plain": [
       "0.8596491228070176"
      ]
     },
     "execution_count": 23,
     "metadata": {},
     "output_type": "execute_result"
    }
   ],
   "source": [
    "base_logit_searcher.score(X_base_test, y_base_test)"
   ]
  },
  {
   "cell_type": "code",
   "execution_count": 24,
   "id": "85e73b02-188a-4e54-90eb-1f437cadbd72",
   "metadata": {
    "execution": {
     "iopub.execute_input": "2022-04-14T17:05:55.355753Z",
     "iopub.status.busy": "2022-04-14T17:05:55.355034Z",
     "iopub.status.idle": "2022-04-14T17:05:55.377855Z",
     "shell.execute_reply": "2022-04-14T17:05:55.377118Z",
     "shell.execute_reply.started": "2022-04-14T17:05:55.355724Z"
    },
    "tags": []
   },
   "outputs": [
    {
     "data": {
      "text/plain": [
       "0.8771929824561403"
      ]
     },
     "execution_count": 24,
     "metadata": {},
     "output_type": "execute_result"
    }
   ],
   "source": [
    "# hcp_logit_searcher.score(X_hcp_test, y_hcp_test)"
   ]
  },
  {
   "cell_type": "markdown",
   "id": "f94032cd-c029-4e31-b8f6-2608e0a73c9a",
   "metadata": {},
   "source": [
    "### K-Nearest Neighbors (KNN) Classifier"
   ]
  },
  {
   "cell_type": "code",
   "execution_count": 31,
   "id": "8f0bed9a-2cb8-4b46-8a82-cf1de82ebd89",
   "metadata": {
    "execution": {
     "iopub.execute_input": "2022-04-14T12:01:20.761942Z",
     "iopub.status.busy": "2022-04-14T12:01:20.761487Z",
     "iopub.status.idle": "2022-04-14T12:01:20.778991Z",
     "shell.execute_reply": "2022-04-14T12:01:20.778387Z",
     "shell.execute_reply.started": "2022-04-14T12:01:20.761898Z"
    },
    "tags": []
   },
   "outputs": [],
   "source": [
    "from sklearn.neighbors import KNeighborsClassifier"
   ]
  },
  {
   "cell_type": "code",
   "execution_count": 32,
   "id": "3eb2392b-4825-4e17-a9ea-b7399aea64ab",
   "metadata": {
    "execution": {
     "iopub.execute_input": "2022-04-14T12:01:20.946021Z",
     "iopub.status.busy": "2022-04-14T12:01:20.945607Z",
     "iopub.status.idle": "2022-04-14T12:01:20.950916Z",
     "shell.execute_reply": "2022-04-14T12:01:20.950206Z",
     "shell.execute_reply.started": "2022-04-14T12:01:20.945985Z"
    },
    "tags": []
   },
   "outputs": [],
   "source": [
    "knn_param_grid = {\n",
    "    \"n_neighbors\": range(1, 11),\n",
    "    \"weights\": (\"uniform\", \"distance\"),\n",
    "}\n",
    "base_knn = KNeighborsClassifier(n_jobs=-1)\n",
    "hcp_knn = KNeighborsClassifier(n_jobs=-1)"
   ]
  },
  {
   "cell_type": "code",
   "execution_count": 33,
   "id": "978ff291-362e-4d8d-a17c-c098aa690e87",
   "metadata": {
    "execution": {
     "iopub.execute_input": "2022-04-14T12:02:08.842070Z",
     "iopub.status.busy": "2022-04-14T12:02:08.841616Z",
     "iopub.status.idle": "2022-04-14T12:02:08.847847Z",
     "shell.execute_reply": "2022-04-14T12:02:08.846310Z",
     "shell.execute_reply.started": "2022-04-14T12:02:08.842024Z"
    },
    "tags": []
   },
   "outputs": [],
   "source": [
    "base_knn_searcher = GridSearchCV(base_knn, knn_param_grid)\n",
    "hcp_knn_searcher = GridSearchCV(hcp_knn, knn_param_grid)"
   ]
  },
  {
   "cell_type": "code",
   "execution_count": 34,
   "id": "6463f124-f7aa-4d00-a53d-866b765ef3ae",
   "metadata": {
    "execution": {
     "iopub.execute_input": "2022-04-14T12:02:41.415686Z",
     "iopub.status.busy": "2022-04-14T12:02:41.415194Z",
     "iopub.status.idle": "2022-04-14T12:02:47.069765Z",
     "shell.execute_reply": "2022-04-14T12:02:47.069204Z",
     "shell.execute_reply.started": "2022-04-14T12:02:41.415642Z"
    },
    "tags": []
   },
   "outputs": [],
   "source": [
    "base_knn_searcher.fit(X_base_train, y_base_train)\n",
    "_ = hcp_knn_searcher.fit(X_hcp_train, y_hcp_train)"
   ]
  },
  {
   "cell_type": "code",
   "execution_count": 35,
   "id": "ca43225e-4b08-4036-ae1d-ea4ac22e352f",
   "metadata": {
    "execution": {
     "iopub.execute_input": "2022-04-14T12:02:54.098305Z",
     "iopub.status.busy": "2022-04-14T12:02:54.097773Z",
     "iopub.status.idle": "2022-04-14T12:02:54.105358Z",
     "shell.execute_reply": "2022-04-14T12:02:54.104281Z",
     "shell.execute_reply.started": "2022-04-14T12:02:54.098256Z"
    },
    "tags": []
   },
   "outputs": [
    {
     "data": {
      "text/plain": [
       "{'n_neighbors': 9, 'weights': 'uniform'}"
      ]
     },
     "execution_count": 35,
     "metadata": {},
     "output_type": "execute_result"
    }
   ],
   "source": [
    "base_knn_searcher.best_params_"
   ]
  },
  {
   "cell_type": "code",
   "execution_count": 37,
   "id": "2dabd86e-790e-42ac-bf9c-d838ac9e8536",
   "metadata": {
    "execution": {
     "iopub.execute_input": "2022-04-14T12:03:26.606437Z",
     "iopub.status.busy": "2022-04-14T12:03:26.606031Z",
     "iopub.status.idle": "2022-04-14T12:03:26.612285Z",
     "shell.execute_reply": "2022-04-14T12:03:26.611408Z",
     "shell.execute_reply.started": "2022-04-14T12:03:26.606405Z"
    },
    "tags": []
   },
   "outputs": [
    {
     "data": {
      "text/plain": [
       "{'n_neighbors': 7, 'weights': 'uniform'}"
      ]
     },
     "execution_count": 37,
     "metadata": {},
     "output_type": "execute_result"
    }
   ],
   "source": [
    "hcp_knn_searcher.best_params_"
   ]
  },
  {
   "cell_type": "code",
   "execution_count": 38,
   "id": "9ac85633-7edc-4771-ae34-9e04d9156c17",
   "metadata": {
    "execution": {
     "iopub.execute_input": "2022-04-14T12:03:34.987274Z",
     "iopub.status.busy": "2022-04-14T12:03:34.986746Z",
     "iopub.status.idle": "2022-04-14T12:03:34.993969Z",
     "shell.execute_reply": "2022-04-14T12:03:34.993192Z",
     "shell.execute_reply.started": "2022-04-14T12:03:34.987197Z"
    },
    "tags": []
   },
   "outputs": [
    {
     "data": {
      "text/plain": [
       "0.7735973597359734"
      ]
     },
     "execution_count": 38,
     "metadata": {},
     "output_type": "execute_result"
    }
   ],
   "source": [
    "base_knn_searcher.best_score_"
   ]
  },
  {
   "cell_type": "code",
   "execution_count": 39,
   "id": "c8994ddb-e0bd-4b79-beed-3c19b7ab2517",
   "metadata": {
    "execution": {
     "iopub.execute_input": "2022-04-14T12:03:43.500293Z",
     "iopub.status.busy": "2022-04-14T12:03:43.499866Z",
     "iopub.status.idle": "2022-04-14T12:03:43.507142Z",
     "shell.execute_reply": "2022-04-14T12:03:43.505996Z",
     "shell.execute_reply.started": "2022-04-14T12:03:43.500252Z"
    },
    "tags": []
   },
   "outputs": [
    {
     "data": {
      "text/plain": [
       "0.764181712288876"
      ]
     },
     "execution_count": 39,
     "metadata": {},
     "output_type": "execute_result"
    }
   ],
   "source": [
    "hcp_knn_searcher.best_score_"
   ]
  },
  {
   "cell_type": "code",
   "execution_count": 40,
   "id": "595f0509-76b9-446c-a01a-9750079c7308",
   "metadata": {
    "execution": {
     "iopub.execute_input": "2022-04-14T12:04:07.908954Z",
     "iopub.status.busy": "2022-04-14T12:04:07.908527Z",
     "iopub.status.idle": "2022-04-14T12:04:07.985136Z",
     "shell.execute_reply": "2022-04-14T12:04:07.984544Z",
     "shell.execute_reply.started": "2022-04-14T12:04:07.908912Z"
    },
    "tags": []
   },
   "outputs": [
    {
     "data": {
      "text/plain": [
       "0.8245614035087719"
      ]
     },
     "execution_count": 40,
     "metadata": {},
     "output_type": "execute_result"
    }
   ],
   "source": [
    "base_knn_searcher.score(X_base_test, y_base_test)"
   ]
  },
  {
   "cell_type": "code",
   "execution_count": 41,
   "id": "8abad085-a67a-4009-af6d-f27a1c9a4f0b",
   "metadata": {
    "execution": {
     "iopub.execute_input": "2022-04-14T12:04:24.060049Z",
     "iopub.status.busy": "2022-04-14T12:04:24.059617Z",
     "iopub.status.idle": "2022-04-14T12:04:24.139716Z",
     "shell.execute_reply": "2022-04-14T12:04:24.139237Z",
     "shell.execute_reply.started": "2022-04-14T12:04:24.060005Z"
    }
   },
   "outputs": [
    {
     "data": {
      "text/plain": [
       "0.7719298245614035"
      ]
     },
     "execution_count": 41,
     "metadata": {},
     "output_type": "execute_result"
    }
   ],
   "source": [
    "hcp_knn_searcher.score(X_hcp_test, y_hcp_test)"
   ]
  },
  {
   "cell_type": "markdown",
   "id": "ddb1abf8-0fe7-4058-9aed-afd7547a44df",
   "metadata": {},
   "source": [
    "### Random Forest (RF) Classifier"
   ]
  },
  {
   "cell_type": "code",
   "execution_count": 42,
   "id": "3db0f0ed-f5ad-401a-88fb-00b06f5a107a",
   "metadata": {
    "execution": {
     "iopub.execute_input": "2022-04-14T12:05:36.284511Z",
     "iopub.status.busy": "2022-04-14T12:05:36.284107Z",
     "iopub.status.idle": "2022-04-14T12:05:36.308358Z",
     "shell.execute_reply": "2022-04-14T12:05:36.307422Z",
     "shell.execute_reply.started": "2022-04-14T12:05:36.284469Z"
    },
    "tags": []
   },
   "outputs": [],
   "source": [
    "from sklearn.ensemble import RandomForestClassifier"
   ]
  },
  {
   "cell_type": "code",
   "execution_count": 44,
   "id": "0a156cb5-8684-4185-be98-e70b9c0e88ce",
   "metadata": {
    "execution": {
     "iopub.execute_input": "2022-04-14T12:06:27.140411Z",
     "iopub.status.busy": "2022-04-14T12:06:27.140001Z",
     "iopub.status.idle": "2022-04-14T12:06:27.151783Z",
     "shell.execute_reply": "2022-04-14T12:06:27.150906Z",
     "shell.execute_reply.started": "2022-04-14T12:06:27.140369Z"
    },
    "tags": []
   },
   "outputs": [],
   "source": [
    "rf_param_grid = {\n",
    "    \"n_estimators\": randint(80, 150),\n",
    "    \"max_depth\": randint(3, 30),\n",
    "    \"min_samples_split\": randint(2, 10),\n",
    "    \"min_samples_leaf\": randint(1, 6),\n",
    "}\n",
    "base_rf_classifier = RandomForestClassifier(n_jobs=-1, \n",
    "                                            random_state=RANDOM_STATE)\n",
    "hcp_rf_classifier = RandomForestClassifier(n_jobs=-1, \n",
    "                                           random_state=RANDOM_STATE)"
   ]
  },
  {
   "cell_type": "code",
   "execution_count": 68,
   "id": "6ab44099-6181-42cd-aa67-4b7aa069f567",
   "metadata": {
    "execution": {
     "iopub.execute_input": "2022-04-14T12:18:22.149923Z",
     "iopub.status.busy": "2022-04-14T12:18:22.149453Z",
     "iopub.status.idle": "2022-04-14T12:18:22.156834Z",
     "shell.execute_reply": "2022-04-14T12:18:22.156117Z",
     "shell.execute_reply.started": "2022-04-14T12:18:22.149874Z"
    },
    "tags": []
   },
   "outputs": [],
   "source": [
    "base_rf_searcher = RandomizedSearchCV(base_rf_classifier, \n",
    "                                      rf_param_grid, \n",
    "                                      n_iter=100, \n",
    "                                      random_state=RANDOM_STATE, \n",
    "                                      n_jobs=-1)\n",
    "hcp_rf_searcher = RandomizedSearchCV(hcp_rf_classifier, \n",
    "                                     rf_param_grid, \n",
    "                                     n_iter=100, \n",
    "                                     random_state=RANDOM_STATE, \n",
    "                                     n_jobs=-1)"
   ]
  },
  {
   "cell_type": "code",
   "execution_count": 69,
   "id": "a01fc6c3-6d26-4e20-9f00-6a47eb068da0",
   "metadata": {
    "execution": {
     "iopub.execute_input": "2022-04-14T12:18:22.986415Z",
     "iopub.status.busy": "2022-04-14T12:18:22.986008Z",
     "iopub.status.idle": "2022-04-14T12:19:23.281592Z",
     "shell.execute_reply": "2022-04-14T12:19:23.281018Z",
     "shell.execute_reply.started": "2022-04-14T12:18:22.986374Z"
    },
    "tags": []
   },
   "outputs": [],
   "source": [
    "base_rf_searcher.fit(X_base_train, y_base_train)\n",
    "_ = hcp_rf_searcher.fit(X_hcp_train, y_hcp_train)"
   ]
  },
  {
   "cell_type": "code",
   "execution_count": 70,
   "id": "28607ac4-310e-471b-9975-23c49d8d5a8c",
   "metadata": {
    "execution": {
     "iopub.execute_input": "2022-04-14T12:19:23.282867Z",
     "iopub.status.busy": "2022-04-14T12:19:23.282667Z",
     "iopub.status.idle": "2022-04-14T12:19:23.287133Z",
     "shell.execute_reply": "2022-04-14T12:19:23.286580Z",
     "shell.execute_reply.started": "2022-04-14T12:19:23.282844Z"
    },
    "tags": []
   },
   "outputs": [
    {
     "data": {
      "text/plain": [
       "{'max_depth': 19,\n",
       " 'min_samples_leaf': 2,\n",
       " 'min_samples_split': 5,\n",
       " 'n_estimators': 115}"
      ]
     },
     "execution_count": 70,
     "metadata": {},
     "output_type": "execute_result"
    }
   ],
   "source": [
    "base_rf_searcher.best_params_"
   ]
  },
  {
   "cell_type": "code",
   "execution_count": 71,
   "id": "c04b7731-c6c9-4c11-8dea-caa76dc6b289",
   "metadata": {
    "execution": {
     "iopub.execute_input": "2022-04-14T12:19:23.288194Z",
     "iopub.status.busy": "2022-04-14T12:19:23.287965Z",
     "iopub.status.idle": "2022-04-14T12:19:23.294506Z",
     "shell.execute_reply": "2022-04-14T12:19:23.293940Z",
     "shell.execute_reply.started": "2022-04-14T12:19:23.288170Z"
    },
    "tags": []
   },
   "outputs": [
    {
     "data": {
      "text/plain": [
       "{'max_depth': 9,\n",
       " 'min_samples_leaf': 2,\n",
       " 'min_samples_split': 3,\n",
       " 'n_estimators': 124}"
      ]
     },
     "execution_count": 71,
     "metadata": {},
     "output_type": "execute_result"
    }
   ],
   "source": [
    "hcp_rf_searcher.best_params_"
   ]
  },
  {
   "cell_type": "code",
   "execution_count": 72,
   "id": "21112f6f-4b64-417c-8458-59e2d68eff86",
   "metadata": {
    "execution": {
     "iopub.execute_input": "2022-04-14T12:19:23.296196Z",
     "iopub.status.busy": "2022-04-14T12:19:23.295942Z",
     "iopub.status.idle": "2022-04-14T12:19:23.301137Z",
     "shell.execute_reply": "2022-04-14T12:19:23.300073Z",
     "shell.execute_reply.started": "2022-04-14T12:19:23.296171Z"
    },
    "tags": []
   },
   "outputs": [
    {
     "data": {
      "text/plain": [
       "0.7894777713065423"
      ]
     },
     "execution_count": 72,
     "metadata": {},
     "output_type": "execute_result"
    }
   ],
   "source": [
    "base_rf_searcher.best_score_"
   ]
  },
  {
   "cell_type": "code",
   "execution_count": 73,
   "id": "aab547b5-82b3-46f2-9374-3471880b196e",
   "metadata": {
    "execution": {
     "iopub.execute_input": "2022-04-14T12:19:23.303160Z",
     "iopub.status.busy": "2022-04-14T12:19:23.302742Z",
     "iopub.status.idle": "2022-04-14T12:19:23.311812Z",
     "shell.execute_reply": "2022-04-14T12:19:23.310783Z",
     "shell.execute_reply.started": "2022-04-14T12:19:23.303112Z"
    },
    "tags": []
   },
   "outputs": [
    {
     "data": {
      "text/plain": [
       "0.8191613278974955"
      ]
     },
     "execution_count": 73,
     "metadata": {},
     "output_type": "execute_result"
    }
   ],
   "source": [
    "hcp_rf_searcher.best_score_"
   ]
  },
  {
   "cell_type": "code",
   "execution_count": 74,
   "id": "96a1fdf4-bc39-42fd-ab97-846e245d40c6",
   "metadata": {
    "execution": {
     "iopub.execute_input": "2022-04-14T12:19:23.313130Z",
     "iopub.status.busy": "2022-04-14T12:19:23.312893Z",
     "iopub.status.idle": "2022-04-14T12:19:23.367785Z",
     "shell.execute_reply": "2022-04-14T12:19:23.366926Z",
     "shell.execute_reply.started": "2022-04-14T12:19:23.313106Z"
    },
    "tags": []
   },
   "outputs": [
    {
     "data": {
      "text/plain": [
       "0.7719298245614035"
      ]
     },
     "execution_count": 74,
     "metadata": {},
     "output_type": "execute_result"
    }
   ],
   "source": [
    "base_rf_searcher.score(X_base_test, y_base_test)"
   ]
  },
  {
   "cell_type": "code",
   "execution_count": 75,
   "id": "fdd5a748-2156-4552-963c-7c3f101fee62",
   "metadata": {
    "execution": {
     "iopub.execute_input": "2022-04-14T12:19:23.369695Z",
     "iopub.status.busy": "2022-04-14T12:19:23.369265Z",
     "iopub.status.idle": "2022-04-14T12:19:23.421090Z",
     "shell.execute_reply": "2022-04-14T12:19:23.420520Z",
     "shell.execute_reply.started": "2022-04-14T12:19:23.369652Z"
    },
    "tags": []
   },
   "outputs": [
    {
     "data": {
      "text/plain": [
       "0.8421052631578947"
      ]
     },
     "execution_count": 75,
     "metadata": {},
     "output_type": "execute_result"
    }
   ],
   "source": [
    "hcp_rf_searcher.score(X_hcp_test, y_hcp_test)"
   ]
  },
  {
   "cell_type": "code",
   "execution_count": 99,
   "id": "c36589de-99e4-4b4b-94b1-1f9bd71828de",
   "metadata": {
    "execution": {
     "iopub.execute_input": "2022-04-14T12:30:20.603811Z",
     "iopub.status.busy": "2022-04-14T12:30:20.603407Z",
     "iopub.status.idle": "2022-04-14T12:30:20.611897Z",
     "shell.execute_reply": "2022-04-14T12:30:20.611237Z",
     "shell.execute_reply.started": "2022-04-14T12:30:20.603770Z"
    },
    "tags": []
   },
   "outputs": [],
   "source": [
    "base_rf_cv_results = pd.DataFrame(base_rf_searcher.cv_results_)\n",
    "hcp_rf_cv_results = pd.DataFrame(hcp_rf_searcher.cv_results_)"
   ]
  },
  {
   "cell_type": "code",
   "execution_count": 100,
   "id": "b91583ce-7ffb-4589-ac84-50fe4a70e054",
   "metadata": {
    "execution": {
     "iopub.execute_input": "2022-04-14T12:30:21.832182Z",
     "iopub.status.busy": "2022-04-14T12:30:21.831545Z",
     "iopub.status.idle": "2022-04-14T12:30:21.840469Z",
     "shell.execute_reply": "2022-04-14T12:30:21.839917Z",
     "shell.execute_reply.started": "2022-04-14T12:30:21.832133Z"
    },
    "tags": []
   },
   "outputs": [],
   "source": [
    "base_test_scores = base_rf_cv_results.iloc[base_rf_searcher.best_index_].filter(regex=\"split[0-9]*_test_score\").astype(float)\n",
    "hcp_test_scores = hcp_rf_cv_results.iloc[hcp_rf_searcher.best_index_].filter(regex=\"split[0-9]*_test_score\").astype(float)"
   ]
  },
  {
   "cell_type": "markdown",
   "id": "5f8f363b-fa74-40e3-ac80-0c5da7adf3e0",
   "metadata": {},
   "source": [
    "### Gaussian Naive Bayes (NB)"
   ]
  },
  {
   "cell_type": "code",
   "execution_count": 41,
   "id": "87bc08d5-9013-45b7-bec8-349b0a590478",
   "metadata": {
    "execution": {
     "iopub.execute_input": "2022-04-12T18:02:25.368986Z",
     "iopub.status.busy": "2022-04-12T18:02:25.368747Z",
     "iopub.status.idle": "2022-04-12T18:02:25.373500Z",
     "shell.execute_reply": "2022-04-12T18:02:25.372552Z",
     "shell.execute_reply.started": "2022-04-12T18:02:25.368963Z"
    },
    "tags": []
   },
   "outputs": [],
   "source": [
    "from sklearn.naive_bayes import GaussianNB"
   ]
  },
  {
   "cell_type": "code",
   "execution_count": 42,
   "id": "f2c02440-a661-444a-bde4-2f53c786919a",
   "metadata": {
    "execution": {
     "iopub.execute_input": "2022-04-12T18:02:25.375313Z",
     "iopub.status.busy": "2022-04-12T18:02:25.374902Z",
     "iopub.status.idle": "2022-04-12T18:02:25.381711Z",
     "shell.execute_reply": "2022-04-12T18:02:25.380845Z",
     "shell.execute_reply.started": "2022-04-12T18:02:25.375274Z"
    },
    "tags": []
   },
   "outputs": [],
   "source": [
    "gnb_param_grid = {\n",
    "    \"var_smoothing\": loguniform(1e-11, 1e-5),\n",
    "}\n",
    "gnb = GaussianNB()"
   ]
  },
  {
   "cell_type": "code",
   "execution_count": 43,
   "id": "f8e7833f-d31d-467c-94cc-492fbf156395",
   "metadata": {
    "execution": {
     "iopub.execute_input": "2022-04-12T18:02:25.382897Z",
     "iopub.status.busy": "2022-04-12T18:02:25.382642Z",
     "iopub.status.idle": "2022-04-12T18:02:25.390127Z",
     "shell.execute_reply": "2022-04-12T18:02:25.389326Z",
     "shell.execute_reply.started": "2022-04-12T18:02:25.382873Z"
    },
    "tags": []
   },
   "outputs": [],
   "source": [
    "gnb_searcher = RandomizedSearchCV(gnb, \n",
    "                                  gnb_param_grid, \n",
    "                                  n_iter=100, \n",
    "                                  random_state=RANDOM_STATE, \n",
    "                                  n_jobs=-1)"
   ]
  },
  {
   "cell_type": "code",
   "execution_count": 44,
   "id": "e3c8202b-7d96-469f-8b18-d52dc18f3609",
   "metadata": {
    "execution": {
     "iopub.execute_input": "2022-04-12T18:02:25.392251Z",
     "iopub.status.busy": "2022-04-12T18:02:25.391542Z",
     "iopub.status.idle": "2022-04-12T18:02:27.687103Z",
     "shell.execute_reply": "2022-04-12T18:02:27.686448Z",
     "shell.execute_reply.started": "2022-04-12T18:02:25.392209Z"
    },
    "tags": []
   },
   "outputs": [],
   "source": [
    "_ = gnb_searcher.fit(X_train, y_train)"
   ]
  },
  {
   "cell_type": "code",
   "execution_count": 45,
   "id": "4f87ea36-3d95-4648-9723-89c04cafd262",
   "metadata": {
    "execution": {
     "iopub.execute_input": "2022-04-12T18:02:27.688092Z",
     "iopub.status.busy": "2022-04-12T18:02:27.687905Z",
     "iopub.status.idle": "2022-04-12T18:02:27.692759Z",
     "shell.execute_reply": "2022-04-12T18:02:27.692180Z",
     "shell.execute_reply.started": "2022-04-12T18:02:27.688073Z"
    },
    "tags": []
   },
   "outputs": [
    {
     "data": {
      "text/plain": [
       "{'var_smoothing': 1.9628224813442798e-08}"
      ]
     },
     "execution_count": 45,
     "metadata": {},
     "output_type": "execute_result"
    }
   ],
   "source": [
    "gnb_searcher.best_params_"
   ]
  },
  {
   "cell_type": "code",
   "execution_count": 46,
   "id": "b23da214-1508-4ad5-905b-14f1c2238292",
   "metadata": {
    "execution": {
     "iopub.execute_input": "2022-04-12T18:02:27.693805Z",
     "iopub.status.busy": "2022-04-12T18:02:27.693649Z",
     "iopub.status.idle": "2022-04-12T18:02:27.698860Z",
     "shell.execute_reply": "2022-04-12T18:02:27.698366Z",
     "shell.execute_reply.started": "2022-04-12T18:02:27.693786Z"
    },
    "tags": []
   },
   "outputs": [
    {
     "data": {
      "text/plain": [
       "0.7579110852261696"
      ]
     },
     "execution_count": 46,
     "metadata": {},
     "output_type": "execute_result"
    }
   ],
   "source": [
    "gnb_searcher.best_score_"
   ]
  },
  {
   "cell_type": "code",
   "execution_count": 47,
   "id": "e1492e3b-63c0-4323-a7df-9dca07c6933b",
   "metadata": {
    "execution": {
     "iopub.execute_input": "2022-04-12T18:02:27.699968Z",
     "iopub.status.busy": "2022-04-12T18:02:27.699687Z",
     "iopub.status.idle": "2022-04-12T18:02:27.708647Z",
     "shell.execute_reply": "2022-04-12T18:02:27.707882Z",
     "shell.execute_reply.started": "2022-04-12T18:02:27.699940Z"
    },
    "tags": []
   },
   "outputs": [
    {
     "data": {
      "text/plain": [
       "0.7543859649122807"
      ]
     },
     "execution_count": 47,
     "metadata": {},
     "output_type": "execute_result"
    }
   ],
   "source": [
    "gnb_searcher.score(X_test, y_test)"
   ]
  },
  {
   "cell_type": "markdown",
   "id": "bb55b347-c244-42e9-b9ea-0024e1a703df",
   "metadata": {},
   "source": [
    "### Linear Support-Vector Machine (SVM) Classifier"
   ]
  },
  {
   "cell_type": "code",
   "execution_count": 48,
   "id": "6ca57454-2cdf-49d6-9f51-7bdd56836f58",
   "metadata": {
    "execution": {
     "iopub.execute_input": "2022-04-12T18:02:27.710275Z",
     "iopub.status.busy": "2022-04-12T18:02:27.709896Z",
     "iopub.status.idle": "2022-04-12T18:02:27.713265Z",
     "shell.execute_reply": "2022-04-12T18:02:27.712838Z",
     "shell.execute_reply.started": "2022-04-12T18:02:27.710238Z"
    },
    "tags": []
   },
   "outputs": [],
   "source": [
    "from sklearn.svm import SVC"
   ]
  },
  {
   "cell_type": "code",
   "execution_count": 49,
   "id": "cbc58871-0360-4194-ae6e-44678dbd689f",
   "metadata": {
    "execution": {
     "iopub.execute_input": "2022-04-12T18:02:27.714107Z",
     "iopub.status.busy": "2022-04-12T18:02:27.713955Z",
     "iopub.status.idle": "2022-04-12T18:02:27.719054Z",
     "shell.execute_reply": "2022-04-12T18:02:27.718407Z",
     "shell.execute_reply.started": "2022-04-12T18:02:27.714088Z"
    },
    "tags": []
   },
   "outputs": [],
   "source": [
    "linear_svm_param_grid = {\n",
    "    \"C\": loguniform(1e-2, 1e2),    \n",
    "}\n",
    "linear_svm = SVC(kernel=\"linear\", random_state=RANDOM_STATE)"
   ]
  },
  {
   "cell_type": "code",
   "execution_count": 50,
   "id": "5422a2d8-d9b7-4d08-af63-f3c1b18c687f",
   "metadata": {
    "execution": {
     "iopub.execute_input": "2022-04-12T18:02:27.720037Z",
     "iopub.status.busy": "2022-04-12T18:02:27.719880Z",
     "iopub.status.idle": "2022-04-12T18:02:27.724196Z",
     "shell.execute_reply": "2022-04-12T18:02:27.723497Z",
     "shell.execute_reply.started": "2022-04-12T18:02:27.720017Z"
    },
    "tags": []
   },
   "outputs": [],
   "source": [
    "linear_svm_searcher = RandomizedSearchCV(linear_svm, \n",
    "                                         linear_svm_param_grid, \n",
    "                                         n_iter=1000, \n",
    "                                         random_state=RANDOM_STATE, \n",
    "                                         n_jobs=-1)"
   ]
  },
  {
   "cell_type": "code",
   "execution_count": 51,
   "id": "f48bd1dc-f9d2-471e-bc66-5deb65cca8c5",
   "metadata": {
    "execution": {
     "iopub.execute_input": "2022-04-12T18:02:27.725098Z",
     "iopub.status.busy": "2022-04-12T18:02:27.724952Z",
     "iopub.status.idle": "2022-04-12T18:07:11.168226Z",
     "shell.execute_reply": "2022-04-12T18:07:11.167535Z",
     "shell.execute_reply.started": "2022-04-12T18:02:27.725078Z"
    },
    "tags": []
   },
   "outputs": [],
   "source": [
    "_ = linear_svm_searcher.fit(X_train, y_train)"
   ]
  },
  {
   "cell_type": "code",
   "execution_count": 52,
   "id": "cd42d0ce-2ea8-40f1-b488-8f7bc4f12fc2",
   "metadata": {
    "execution": {
     "iopub.execute_input": "2022-04-12T18:07:11.169238Z",
     "iopub.status.busy": "2022-04-12T18:07:11.169098Z",
     "iopub.status.idle": "2022-04-12T18:07:11.174113Z",
     "shell.execute_reply": "2022-04-12T18:07:11.173135Z",
     "shell.execute_reply.started": "2022-04-12T18:07:11.169220Z"
    },
    "tags": []
   },
   "outputs": [
    {
     "data": {
      "text/plain": [
       "{'C': 1.567667719550606}"
      ]
     },
     "execution_count": 52,
     "metadata": {},
     "output_type": "execute_result"
    }
   ],
   "source": [
    "linear_svm_searcher.best_params_"
   ]
  },
  {
   "cell_type": "code",
   "execution_count": 53,
   "id": "e2ee50b6-17ea-4d5c-a3f6-ededdc790be3",
   "metadata": {
    "execution": {
     "iopub.execute_input": "2022-04-12T18:07:11.176142Z",
     "iopub.status.busy": "2022-04-12T18:07:11.175516Z",
     "iopub.status.idle": "2022-04-12T18:07:11.182564Z",
     "shell.execute_reply": "2022-04-12T18:07:11.181684Z",
     "shell.execute_reply.started": "2022-04-12T18:07:11.176089Z"
    },
    "tags": []
   },
   "outputs": [
    {
     "data": {
      "text/plain": [
       "0.8483983692486895"
      ]
     },
     "execution_count": 53,
     "metadata": {},
     "output_type": "execute_result"
    }
   ],
   "source": [
    "linear_svm_searcher.best_score_"
   ]
  },
  {
   "cell_type": "code",
   "execution_count": 54,
   "id": "877e212d-d849-472f-ae57-5006e88cf753",
   "metadata": {
    "execution": {
     "iopub.execute_input": "2022-04-12T18:07:11.183767Z",
     "iopub.status.busy": "2022-04-12T18:07:11.183525Z",
     "iopub.status.idle": "2022-04-12T18:07:11.196781Z",
     "shell.execute_reply": "2022-04-12T18:07:11.196081Z",
     "shell.execute_reply.started": "2022-04-12T18:07:11.183742Z"
    },
    "tags": []
   },
   "outputs": [
    {
     "data": {
      "text/plain": [
       "0.8771929824561403"
      ]
     },
     "execution_count": 54,
     "metadata": {},
     "output_type": "execute_result"
    }
   ],
   "source": [
    "linear_svm_searcher.score(X_test, y_test)"
   ]
  },
  {
   "cell_type": "markdown",
   "id": "f44c7a00-2779-40ea-816a-e24b8c87e3c4",
   "metadata": {},
   "source": [
    "### Multi-layer Perceptron (MLP) Classifier"
   ]
  },
  {
   "cell_type": "code",
   "execution_count": 22,
   "id": "45917d23-bcd9-47ee-b0b6-caf3a034893a",
   "metadata": {
    "execution": {
     "iopub.execute_input": "2022-04-24T09:43:02.759030Z",
     "iopub.status.busy": "2022-04-24T09:43:02.758562Z",
     "iopub.status.idle": "2022-04-24T09:43:02.767067Z",
     "shell.execute_reply": "2022-04-24T09:43:02.766123Z",
     "shell.execute_reply.started": "2022-04-24T09:43:02.758990Z"
    },
    "tags": []
   },
   "outputs": [],
   "source": [
    "from sklearn.neural_network import MLPClassifier"
   ]
  },
  {
   "cell_type": "code",
   "execution_count": 23,
   "id": "d916797b-2a71-4aa4-b387-cb687db0d51d",
   "metadata": {
    "execution": {
     "iopub.execute_input": "2022-04-24T09:43:02.904131Z",
     "iopub.status.busy": "2022-04-24T09:43:02.903707Z",
     "iopub.status.idle": "2022-04-24T09:43:02.914627Z",
     "shell.execute_reply": "2022-04-24T09:43:02.913988Z",
     "shell.execute_reply.started": "2022-04-24T09:43:02.904090Z"
    },
    "tags": []
   },
   "outputs": [],
   "source": [
    "mlp_param_grid = {\n",
    "    \"hidden_layer_sizes\": randint(100, 1000),\n",
    "    \"activation\": (\"logistic\", \"tanh\", \"relu\"),\n",
    "    \"alpha\": loguniform(1e-5, 1e1),\n",
    "}\n",
    "mlp = MLPClassifier(solver=\"lbfgs\", \n",
    "                    max_iter=1000, \n",
    "                    random_state=RANDOM_STATE)"
   ]
  },
  {
   "cell_type": "code",
   "execution_count": 24,
   "id": "99cb12d1-4050-42bc-ba55-6e0aa424fbdf",
   "metadata": {
    "execution": {
     "iopub.execute_input": "2022-04-24T09:43:03.768114Z",
     "iopub.status.busy": "2022-04-24T09:43:03.767649Z",
     "iopub.status.idle": "2022-04-24T09:43:03.773648Z",
     "shell.execute_reply": "2022-04-24T09:43:03.772525Z",
     "shell.execute_reply.started": "2022-04-24T09:43:03.768072Z"
    },
    "tags": []
   },
   "outputs": [],
   "source": [
    "mlp_searcher = RandomizedSearchCV(mlp, \n",
    "                                  mlp_param_grid, \n",
    "                                  n_iter=150, \n",
    "                                  random_state=RANDOM_STATE, \n",
    "                                  n_jobs=10)"
   ]
  },
  {
   "cell_type": "code",
   "execution_count": 26,
   "id": "bb7fb561-f6ab-47b2-8fb8-9b217d29ba86",
   "metadata": {
    "execution": {
     "iopub.execute_input": "2022-04-24T09:43:25.856007Z",
     "iopub.status.busy": "2022-04-24T09:43:25.855387Z",
     "iopub.status.idle": "2022-04-24T10:10:04.012308Z",
     "shell.execute_reply": "2022-04-24T10:10:04.011713Z",
     "shell.execute_reply.started": "2022-04-24T09:43:25.855941Z"
    },
    "tags": []
   },
   "outputs": [
    {
     "name": "stderr",
     "output_type": "stream",
     "text": [
      "/home/flavus/Projects/brainprint/venv/lib/python3.9/site-packages/sklearn/neural_network/_multilayer_perceptron.py:549: ConvergenceWarning: lbfgs failed to converge (status=1):\n",
      "STOP: TOTAL NO. of ITERATIONS REACHED LIMIT.\n",
      "\n",
      "Increase the number of iterations (max_iter) or scale the data as shown in:\n",
      "    https://scikit-learn.org/stable/modules/preprocessing.html\n",
      "  self.n_iter_ = _check_optimize_result(\"lbfgs\", opt_res, self.max_iter)\n",
      "/home/flavus/Projects/brainprint/venv/lib/python3.9/site-packages/sklearn/neural_network/_multilayer_perceptron.py:549: ConvergenceWarning: lbfgs failed to converge (status=1):\n",
      "STOP: TOTAL NO. of ITERATIONS REACHED LIMIT.\n",
      "\n",
      "Increase the number of iterations (max_iter) or scale the data as shown in:\n",
      "    https://scikit-learn.org/stable/modules/preprocessing.html\n",
      "  self.n_iter_ = _check_optimize_result(\"lbfgs\", opt_res, self.max_iter)\n",
      "/home/flavus/Projects/brainprint/venv/lib/python3.9/site-packages/sklearn/neural_network/_multilayer_perceptron.py:549: ConvergenceWarning: lbfgs failed to converge (status=1):\n",
      "STOP: TOTAL NO. of ITERATIONS REACHED LIMIT.\n",
      "\n",
      "Increase the number of iterations (max_iter) or scale the data as shown in:\n",
      "    https://scikit-learn.org/stable/modules/preprocessing.html\n",
      "  self.n_iter_ = _check_optimize_result(\"lbfgs\", opt_res, self.max_iter)\n",
      "/home/flavus/Projects/brainprint/venv/lib/python3.9/site-packages/sklearn/neural_network/_multilayer_perceptron.py:549: ConvergenceWarning: lbfgs failed to converge (status=1):\n",
      "STOP: TOTAL NO. of ITERATIONS REACHED LIMIT.\n",
      "\n",
      "Increase the number of iterations (max_iter) or scale the data as shown in:\n",
      "    https://scikit-learn.org/stable/modules/preprocessing.html\n",
      "  self.n_iter_ = _check_optimize_result(\"lbfgs\", opt_res, self.max_iter)\n",
      "/home/flavus/Projects/brainprint/venv/lib/python3.9/site-packages/sklearn/neural_network/_multilayer_perceptron.py:549: ConvergenceWarning: lbfgs failed to converge (status=1):\n",
      "STOP: TOTAL NO. of ITERATIONS REACHED LIMIT.\n",
      "\n",
      "Increase the number of iterations (max_iter) or scale the data as shown in:\n",
      "    https://scikit-learn.org/stable/modules/preprocessing.html\n",
      "  self.n_iter_ = _check_optimize_result(\"lbfgs\", opt_res, self.max_iter)\n"
     ]
    }
   ],
   "source": [
    "_ = mlp_searcher.fit(X_base_train, y_base_train)"
   ]
  },
  {
   "cell_type": "code",
   "execution_count": 27,
   "id": "4e59081f-8396-443a-b092-7824252daaa4",
   "metadata": {
    "execution": {
     "iopub.execute_input": "2022-04-24T10:10:04.014334Z",
     "iopub.status.busy": "2022-04-24T10:10:04.013738Z",
     "iopub.status.idle": "2022-04-24T10:10:04.019826Z",
     "shell.execute_reply": "2022-04-24T10:10:04.019011Z",
     "shell.execute_reply.started": "2022-04-24T10:10:04.014307Z"
    },
    "tags": []
   },
   "outputs": [
    {
     "data": {
      "text/plain": [
       "{'activation': 'tanh',\n",
       " 'alpha': 0.011377645346360581,\n",
       " 'hidden_layer_sizes': 423}"
      ]
     },
     "execution_count": 27,
     "metadata": {},
     "output_type": "execute_result"
    }
   ],
   "source": [
    "mlp_searcher.best_params_"
   ]
  },
  {
   "cell_type": "code",
   "execution_count": 28,
   "id": "33f982fe-7d4a-476e-a0f3-8adb2a44ac4c",
   "metadata": {
    "execution": {
     "iopub.execute_input": "2022-04-24T10:10:04.021976Z",
     "iopub.status.busy": "2022-04-24T10:10:04.021116Z",
     "iopub.status.idle": "2022-04-24T10:10:04.029461Z",
     "shell.execute_reply": "2022-04-24T10:10:04.028700Z",
     "shell.execute_reply.started": "2022-04-24T10:10:04.021940Z"
    },
    "tags": []
   },
   "outputs": [
    {
     "data": {
      "text/plain": [
       "0.8779848573092603"
      ]
     },
     "execution_count": 28,
     "metadata": {},
     "output_type": "execute_result"
    }
   ],
   "source": [
    "mlp_searcher.best_score_"
   ]
  },
  {
   "cell_type": "code",
   "execution_count": 29,
   "id": "511c51b5-aa60-489e-ae2e-f1eb1cdc31be",
   "metadata": {
    "execution": {
     "iopub.execute_input": "2022-04-24T10:10:04.033838Z",
     "iopub.status.busy": "2022-04-24T10:10:04.032461Z",
     "iopub.status.idle": "2022-04-24T10:10:04.058096Z",
     "shell.execute_reply": "2022-04-24T10:10:04.057470Z",
     "shell.execute_reply.started": "2022-04-24T10:10:04.033812Z"
    },
    "tags": []
   },
   "outputs": [
    {
     "data": {
      "text/plain": [
       "0.8596491228070176"
      ]
     },
     "execution_count": 29,
     "metadata": {},
     "output_type": "execute_result"
    }
   ],
   "source": [
    "mlp_searcher.score(X_base_test, y_base_test)"
   ]
  },
  {
   "cell_type": "code",
   "execution_count": 30,
   "id": "f6f258d3-5094-4b82-9e05-f2f8f2d4321b",
   "metadata": {
    "execution": {
     "iopub.execute_input": "2022-04-24T10:10:04.318562Z",
     "iopub.status.busy": "2022-04-24T10:10:04.318417Z",
     "iopub.status.idle": "2022-04-24T10:10:04.324706Z",
     "shell.execute_reply": "2022-04-24T10:10:04.323933Z",
     "shell.execute_reply.started": "2022-04-24T10:10:04.318542Z"
    },
    "tags": []
   },
   "outputs": [
    {
     "data": {
      "text/plain": [
       "M    299\n",
       "F    266\n",
       "Name: Sex, dtype: int64"
      ]
     },
     "execution_count": 30,
     "metadata": {},
     "output_type": "execute_result"
    }
   ],
   "source": [
    "y_base.value_counts()"
   ]
  },
  {
   "cell_type": "markdown",
   "id": "ec3ed33f-0500-463f-a068-51d515378a02",
   "metadata": {},
   "source": [
    "### Summary"
   ]
  },
  {
   "cell_type": "code",
   "execution_count": 63,
   "id": "db510c8b-90aa-49be-b499-1c721e6b42f2",
   "metadata": {
    "execution": {
     "iopub.execute_input": "2022-04-13T12:18:13.745238Z",
     "iopub.status.busy": "2022-04-13T12:18:13.744806Z",
     "iopub.status.idle": "2022-04-13T12:18:13.750647Z",
     "shell.execute_reply": "2022-04-13T12:18:13.749441Z",
     "shell.execute_reply.started": "2022-04-13T12:18:13.745195Z"
    },
    "tags": []
   },
   "outputs": [],
   "source": [
    "models = logit_searcher, knn_searcher, rf_searcher, linear_svm_searcher, mlp_searcher"
   ]
  },
  {
   "cell_type": "code",
   "execution_count": null,
   "id": "d4e9ba99-57df-4c41-ad0d-b9478952366d",
   "metadata": {},
   "outputs": [],
   "source": []
  }
 ],
 "metadata": {
  "kernelspec": {
   "display_name": "brainprint",
   "language": "python",
   "name": "brainprint"
  },
  "language_info": {
   "codemirror_mode": {
    "name": "ipython",
    "version": 3
   },
   "file_extension": ".py",
   "mimetype": "text/x-python",
   "name": "python",
   "nbconvert_exporter": "python",
   "pygments_lexer": "ipython3",
   "version": "3.9.12"
  }
 },
 "nbformat": 4,
 "nbformat_minor": 5
}
